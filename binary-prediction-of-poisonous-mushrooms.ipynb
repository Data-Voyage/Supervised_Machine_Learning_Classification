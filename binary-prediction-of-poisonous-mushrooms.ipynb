{
 "cells": [
  {
   "cell_type": "code",
   "execution_count": 1,
   "id": "c181206f",
   "metadata": {
    "_cell_guid": "b1076dfc-b9ad-4769-8c92-a6c4dae69d19",
    "_uuid": "8f2839f25d086af736a60e9eeb907d3b93b6e0e5",
    "execution": {
     "iopub.execute_input": "2024-08-27T16:37:52.137071Z",
     "iopub.status.busy": "2024-08-27T16:37:52.136609Z",
     "iopub.status.idle": "2024-08-27T16:37:54.135508Z",
     "shell.execute_reply": "2024-08-27T16:37:54.133679Z"
    },
    "papermill": {
     "duration": 2.012594,
     "end_time": "2024-08-27T16:37:54.138302",
     "exception": false,
     "start_time": "2024-08-27T16:37:52.125708",
     "status": "completed"
    },
    "tags": []
   },
   "outputs": [
    {
     "name": "stdout",
     "output_type": "stream",
     "text": [
      "/kaggle/input/playground-series-s4e8/sample_submission.csv\n",
      "/kaggle/input/playground-series-s4e8/train.csv\n",
      "/kaggle/input/playground-series-s4e8/test.csv\n"
     ]
    }
   ],
   "source": [
    "# This Python 3 environment comes with many helpful analytics libraries installed\n",
    "# It is defined by the kaggle/python Docker image: https://github.com/kaggle/docker-python\n",
    "# For example, here's several helpful packages to load\n",
    "\n",
    "import numpy as np # linear algebra\n",
    "import pandas as pd # data processing, CSV file I/O (e.g. pd.read_csv)\n",
    "import matplotlib.pyplot as plt\n",
    "import seaborn as sns\n",
    "\n",
    "# Input data files are available in the read-only \"../input/\" directory\n",
    "# For example, running this (by clicking run or pressing Shift+Enter) will list all files under the input directory\n",
    "\n",
    "import os\n",
    "for dirname, _, filenames in os.walk('/kaggle/input'):\n",
    "    for filename in filenames:\n",
    "        print(os.path.join(dirname, filename))\n",
    "\n",
    "# You can write up to 20GB to the current directory (/kaggle/working/) that gets preserved as output when you create a version using \"Save & Run All\" \n",
    "# You can also write temporary files to /kaggle/temp/, but they won't be saved outside of the current session"
   ]
  },
  {
   "cell_type": "code",
   "execution_count": 2,
   "id": "fd7be6d3",
   "metadata": {
    "execution": {
     "iopub.execute_input": "2024-08-27T16:37:54.156886Z",
     "iopub.status.busy": "2024-08-27T16:37:54.156222Z",
     "iopub.status.idle": "2024-08-27T16:38:04.800940Z",
     "shell.execute_reply": "2024-08-27T16:38:04.799937Z"
    },
    "papermill": {
     "duration": 10.656284,
     "end_time": "2024-08-27T16:38:04.803148",
     "exception": false,
     "start_time": "2024-08-27T16:37:54.146864",
     "status": "completed"
    },
    "tags": []
   },
   "outputs": [
    {
     "data": {
      "text/html": [
       "<div>\n",
       "<style scoped>\n",
       "    .dataframe tbody tr th:only-of-type {\n",
       "        vertical-align: middle;\n",
       "    }\n",
       "\n",
       "    .dataframe tbody tr th {\n",
       "        vertical-align: top;\n",
       "    }\n",
       "\n",
       "    .dataframe thead th {\n",
       "        text-align: right;\n",
       "    }\n",
       "</style>\n",
       "<table border=\"1\" class=\"dataframe\">\n",
       "  <thead>\n",
       "    <tr style=\"text-align: right;\">\n",
       "      <th></th>\n",
       "      <th>id</th>\n",
       "      <th>class</th>\n",
       "      <th>cap-diameter</th>\n",
       "      <th>cap-shape</th>\n",
       "      <th>cap-surface</th>\n",
       "      <th>cap-color</th>\n",
       "      <th>does-bruise-or-bleed</th>\n",
       "      <th>gill-attachment</th>\n",
       "      <th>gill-spacing</th>\n",
       "      <th>gill-color</th>\n",
       "      <th>...</th>\n",
       "      <th>stem-root</th>\n",
       "      <th>stem-surface</th>\n",
       "      <th>stem-color</th>\n",
       "      <th>veil-type</th>\n",
       "      <th>veil-color</th>\n",
       "      <th>has-ring</th>\n",
       "      <th>ring-type</th>\n",
       "      <th>spore-print-color</th>\n",
       "      <th>habitat</th>\n",
       "      <th>season</th>\n",
       "    </tr>\n",
       "  </thead>\n",
       "  <tbody>\n",
       "    <tr>\n",
       "      <th>0</th>\n",
       "      <td>0</td>\n",
       "      <td>e</td>\n",
       "      <td>8.80</td>\n",
       "      <td>f</td>\n",
       "      <td>s</td>\n",
       "      <td>u</td>\n",
       "      <td>f</td>\n",
       "      <td>a</td>\n",
       "      <td>c</td>\n",
       "      <td>w</td>\n",
       "      <td>...</td>\n",
       "      <td>NaN</td>\n",
       "      <td>NaN</td>\n",
       "      <td>w</td>\n",
       "      <td>NaN</td>\n",
       "      <td>NaN</td>\n",
       "      <td>f</td>\n",
       "      <td>f</td>\n",
       "      <td>NaN</td>\n",
       "      <td>d</td>\n",
       "      <td>a</td>\n",
       "    </tr>\n",
       "    <tr>\n",
       "      <th>1</th>\n",
       "      <td>1</td>\n",
       "      <td>p</td>\n",
       "      <td>4.51</td>\n",
       "      <td>x</td>\n",
       "      <td>h</td>\n",
       "      <td>o</td>\n",
       "      <td>f</td>\n",
       "      <td>a</td>\n",
       "      <td>c</td>\n",
       "      <td>n</td>\n",
       "      <td>...</td>\n",
       "      <td>NaN</td>\n",
       "      <td>y</td>\n",
       "      <td>o</td>\n",
       "      <td>NaN</td>\n",
       "      <td>NaN</td>\n",
       "      <td>t</td>\n",
       "      <td>z</td>\n",
       "      <td>NaN</td>\n",
       "      <td>d</td>\n",
       "      <td>w</td>\n",
       "    </tr>\n",
       "    <tr>\n",
       "      <th>2</th>\n",
       "      <td>2</td>\n",
       "      <td>e</td>\n",
       "      <td>6.94</td>\n",
       "      <td>f</td>\n",
       "      <td>s</td>\n",
       "      <td>b</td>\n",
       "      <td>f</td>\n",
       "      <td>x</td>\n",
       "      <td>c</td>\n",
       "      <td>w</td>\n",
       "      <td>...</td>\n",
       "      <td>NaN</td>\n",
       "      <td>s</td>\n",
       "      <td>n</td>\n",
       "      <td>NaN</td>\n",
       "      <td>NaN</td>\n",
       "      <td>f</td>\n",
       "      <td>f</td>\n",
       "      <td>NaN</td>\n",
       "      <td>l</td>\n",
       "      <td>w</td>\n",
       "    </tr>\n",
       "    <tr>\n",
       "      <th>3</th>\n",
       "      <td>3</td>\n",
       "      <td>e</td>\n",
       "      <td>3.88</td>\n",
       "      <td>f</td>\n",
       "      <td>y</td>\n",
       "      <td>g</td>\n",
       "      <td>f</td>\n",
       "      <td>s</td>\n",
       "      <td>NaN</td>\n",
       "      <td>g</td>\n",
       "      <td>...</td>\n",
       "      <td>NaN</td>\n",
       "      <td>NaN</td>\n",
       "      <td>w</td>\n",
       "      <td>NaN</td>\n",
       "      <td>NaN</td>\n",
       "      <td>f</td>\n",
       "      <td>f</td>\n",
       "      <td>NaN</td>\n",
       "      <td>d</td>\n",
       "      <td>u</td>\n",
       "    </tr>\n",
       "    <tr>\n",
       "      <th>4</th>\n",
       "      <td>4</td>\n",
       "      <td>e</td>\n",
       "      <td>5.85</td>\n",
       "      <td>x</td>\n",
       "      <td>l</td>\n",
       "      <td>w</td>\n",
       "      <td>f</td>\n",
       "      <td>d</td>\n",
       "      <td>NaN</td>\n",
       "      <td>w</td>\n",
       "      <td>...</td>\n",
       "      <td>NaN</td>\n",
       "      <td>NaN</td>\n",
       "      <td>w</td>\n",
       "      <td>NaN</td>\n",
       "      <td>NaN</td>\n",
       "      <td>f</td>\n",
       "      <td>f</td>\n",
       "      <td>NaN</td>\n",
       "      <td>g</td>\n",
       "      <td>a</td>\n",
       "    </tr>\n",
       "  </tbody>\n",
       "</table>\n",
       "<p>5 rows × 22 columns</p>\n",
       "</div>"
      ],
      "text/plain": [
       "   id class  cap-diameter cap-shape cap-surface cap-color  \\\n",
       "0   0     e          8.80         f           s         u   \n",
       "1   1     p          4.51         x           h         o   \n",
       "2   2     e          6.94         f           s         b   \n",
       "3   3     e          3.88         f           y         g   \n",
       "4   4     e          5.85         x           l         w   \n",
       "\n",
       "  does-bruise-or-bleed gill-attachment gill-spacing gill-color  ...  \\\n",
       "0                    f               a            c          w  ...   \n",
       "1                    f               a            c          n  ...   \n",
       "2                    f               x            c          w  ...   \n",
       "3                    f               s          NaN          g  ...   \n",
       "4                    f               d          NaN          w  ...   \n",
       "\n",
       "   stem-root  stem-surface stem-color veil-type veil-color has-ring ring-type  \\\n",
       "0        NaN           NaN          w       NaN        NaN        f         f   \n",
       "1        NaN             y          o       NaN        NaN        t         z   \n",
       "2        NaN             s          n       NaN        NaN        f         f   \n",
       "3        NaN           NaN          w       NaN        NaN        f         f   \n",
       "4        NaN           NaN          w       NaN        NaN        f         f   \n",
       "\n",
       "  spore-print-color habitat season  \n",
       "0               NaN       d      a  \n",
       "1               NaN       d      w  \n",
       "2               NaN       l      w  \n",
       "3               NaN       d      u  \n",
       "4               NaN       g      a  \n",
       "\n",
       "[5 rows x 22 columns]"
      ]
     },
     "execution_count": 2,
     "metadata": {},
     "output_type": "execute_result"
    }
   ],
   "source": [
    "train_data = pd.read_csv('/kaggle/input/playground-series-s4e8/train.csv')\n",
    "sample_submission = pd.read_csv('/kaggle/input/playground-series-s4e8/sample_submission.csv')\n",
    "train_data.head(5)"
   ]
  },
  {
   "cell_type": "code",
   "execution_count": 3,
   "id": "016b2092",
   "metadata": {
    "execution": {
     "iopub.execute_input": "2024-08-27T16:38:04.821757Z",
     "iopub.status.busy": "2024-08-27T16:38:04.821340Z",
     "iopub.status.idle": "2024-08-27T16:38:10.845179Z",
     "shell.execute_reply": "2024-08-27T16:38:10.844126Z"
    },
    "papermill": {
     "duration": 6.035843,
     "end_time": "2024-08-27T16:38:10.847563",
     "exception": false,
     "start_time": "2024-08-27T16:38:04.811720",
     "status": "completed"
    },
    "tags": []
   },
   "outputs": [
    {
     "data": {
      "text/html": [
       "<div>\n",
       "<style scoped>\n",
       "    .dataframe tbody tr th:only-of-type {\n",
       "        vertical-align: middle;\n",
       "    }\n",
       "\n",
       "    .dataframe tbody tr th {\n",
       "        vertical-align: top;\n",
       "    }\n",
       "\n",
       "    .dataframe thead th {\n",
       "        text-align: right;\n",
       "    }\n",
       "</style>\n",
       "<table border=\"1\" class=\"dataframe\">\n",
       "  <thead>\n",
       "    <tr style=\"text-align: right;\">\n",
       "      <th></th>\n",
       "      <th>id</th>\n",
       "      <th>cap-diameter</th>\n",
       "      <th>cap-shape</th>\n",
       "      <th>cap-surface</th>\n",
       "      <th>cap-color</th>\n",
       "      <th>does-bruise-or-bleed</th>\n",
       "      <th>gill-attachment</th>\n",
       "      <th>gill-spacing</th>\n",
       "      <th>gill-color</th>\n",
       "      <th>stem-height</th>\n",
       "      <th>...</th>\n",
       "      <th>stem-root</th>\n",
       "      <th>stem-surface</th>\n",
       "      <th>stem-color</th>\n",
       "      <th>veil-type</th>\n",
       "      <th>veil-color</th>\n",
       "      <th>has-ring</th>\n",
       "      <th>ring-type</th>\n",
       "      <th>spore-print-color</th>\n",
       "      <th>habitat</th>\n",
       "      <th>season</th>\n",
       "    </tr>\n",
       "  </thead>\n",
       "  <tbody>\n",
       "    <tr>\n",
       "      <th>0</th>\n",
       "      <td>3116945</td>\n",
       "      <td>8.64</td>\n",
       "      <td>x</td>\n",
       "      <td>NaN</td>\n",
       "      <td>n</td>\n",
       "      <td>t</td>\n",
       "      <td>NaN</td>\n",
       "      <td>NaN</td>\n",
       "      <td>w</td>\n",
       "      <td>11.13</td>\n",
       "      <td>...</td>\n",
       "      <td>b</td>\n",
       "      <td>NaN</td>\n",
       "      <td>w</td>\n",
       "      <td>u</td>\n",
       "      <td>w</td>\n",
       "      <td>t</td>\n",
       "      <td>g</td>\n",
       "      <td>NaN</td>\n",
       "      <td>d</td>\n",
       "      <td>a</td>\n",
       "    </tr>\n",
       "    <tr>\n",
       "      <th>1</th>\n",
       "      <td>3116946</td>\n",
       "      <td>6.90</td>\n",
       "      <td>o</td>\n",
       "      <td>t</td>\n",
       "      <td>o</td>\n",
       "      <td>f</td>\n",
       "      <td>NaN</td>\n",
       "      <td>c</td>\n",
       "      <td>y</td>\n",
       "      <td>1.27</td>\n",
       "      <td>...</td>\n",
       "      <td>NaN</td>\n",
       "      <td>NaN</td>\n",
       "      <td>n</td>\n",
       "      <td>NaN</td>\n",
       "      <td>NaN</td>\n",
       "      <td>f</td>\n",
       "      <td>f</td>\n",
       "      <td>NaN</td>\n",
       "      <td>d</td>\n",
       "      <td>a</td>\n",
       "    </tr>\n",
       "    <tr>\n",
       "      <th>2</th>\n",
       "      <td>3116947</td>\n",
       "      <td>2.00</td>\n",
       "      <td>b</td>\n",
       "      <td>g</td>\n",
       "      <td>n</td>\n",
       "      <td>f</td>\n",
       "      <td>NaN</td>\n",
       "      <td>c</td>\n",
       "      <td>n</td>\n",
       "      <td>6.18</td>\n",
       "      <td>...</td>\n",
       "      <td>NaN</td>\n",
       "      <td>NaN</td>\n",
       "      <td>n</td>\n",
       "      <td>NaN</td>\n",
       "      <td>NaN</td>\n",
       "      <td>f</td>\n",
       "      <td>f</td>\n",
       "      <td>NaN</td>\n",
       "      <td>d</td>\n",
       "      <td>s</td>\n",
       "    </tr>\n",
       "    <tr>\n",
       "      <th>3</th>\n",
       "      <td>3116948</td>\n",
       "      <td>3.47</td>\n",
       "      <td>x</td>\n",
       "      <td>t</td>\n",
       "      <td>n</td>\n",
       "      <td>f</td>\n",
       "      <td>s</td>\n",
       "      <td>c</td>\n",
       "      <td>n</td>\n",
       "      <td>4.98</td>\n",
       "      <td>...</td>\n",
       "      <td>NaN</td>\n",
       "      <td>NaN</td>\n",
       "      <td>w</td>\n",
       "      <td>NaN</td>\n",
       "      <td>n</td>\n",
       "      <td>t</td>\n",
       "      <td>z</td>\n",
       "      <td>NaN</td>\n",
       "      <td>d</td>\n",
       "      <td>u</td>\n",
       "    </tr>\n",
       "    <tr>\n",
       "      <th>4</th>\n",
       "      <td>3116949</td>\n",
       "      <td>6.17</td>\n",
       "      <td>x</td>\n",
       "      <td>h</td>\n",
       "      <td>y</td>\n",
       "      <td>f</td>\n",
       "      <td>p</td>\n",
       "      <td>NaN</td>\n",
       "      <td>y</td>\n",
       "      <td>6.73</td>\n",
       "      <td>...</td>\n",
       "      <td>NaN</td>\n",
       "      <td>NaN</td>\n",
       "      <td>y</td>\n",
       "      <td>NaN</td>\n",
       "      <td>y</td>\n",
       "      <td>t</td>\n",
       "      <td>NaN</td>\n",
       "      <td>NaN</td>\n",
       "      <td>d</td>\n",
       "      <td>u</td>\n",
       "    </tr>\n",
       "  </tbody>\n",
       "</table>\n",
       "<p>5 rows × 21 columns</p>\n",
       "</div>"
      ],
      "text/plain": [
       "        id  cap-diameter cap-shape cap-surface cap-color does-bruise-or-bleed  \\\n",
       "0  3116945          8.64         x         NaN         n                    t   \n",
       "1  3116946          6.90         o           t         o                    f   \n",
       "2  3116947          2.00         b           g         n                    f   \n",
       "3  3116948          3.47         x           t         n                    f   \n",
       "4  3116949          6.17         x           h         y                    f   \n",
       "\n",
       "  gill-attachment gill-spacing gill-color  stem-height  ...  stem-root  \\\n",
       "0             NaN          NaN          w        11.13  ...          b   \n",
       "1             NaN            c          y         1.27  ...        NaN   \n",
       "2             NaN            c          n         6.18  ...        NaN   \n",
       "3               s            c          n         4.98  ...        NaN   \n",
       "4               p          NaN          y         6.73  ...        NaN   \n",
       "\n",
       "  stem-surface stem-color veil-type veil-color has-ring ring-type  \\\n",
       "0          NaN          w         u          w        t         g   \n",
       "1          NaN          n       NaN        NaN        f         f   \n",
       "2          NaN          n       NaN        NaN        f         f   \n",
       "3          NaN          w       NaN          n        t         z   \n",
       "4          NaN          y       NaN          y        t       NaN   \n",
       "\n",
       "  spore-print-color habitat season  \n",
       "0               NaN       d      a  \n",
       "1               NaN       d      a  \n",
       "2               NaN       d      s  \n",
       "3               NaN       d      u  \n",
       "4               NaN       d      u  \n",
       "\n",
       "[5 rows x 21 columns]"
      ]
     },
     "execution_count": 3,
     "metadata": {},
     "output_type": "execute_result"
    }
   ],
   "source": [
    "test_data = pd.read_csv('/kaggle/input/playground-series-s4e8/test.csv')\n",
    "test_data.head(5)"
   ]
  },
  {
   "cell_type": "code",
   "execution_count": 4,
   "id": "38e65381",
   "metadata": {
    "execution": {
     "iopub.execute_input": "2024-08-27T16:38:10.867035Z",
     "iopub.status.busy": "2024-08-27T16:38:10.866380Z",
     "iopub.status.idle": "2024-08-27T16:38:16.099869Z",
     "shell.execute_reply": "2024-08-27T16:38:16.098752Z"
    },
    "papermill": {
     "duration": 5.245727,
     "end_time": "2024-08-27T16:38:16.102248",
     "exception": false,
     "start_time": "2024-08-27T16:38:10.856521",
     "status": "completed"
    },
    "tags": []
   },
   "outputs": [
    {
     "data": {
      "text/html": [
       "<div>\n",
       "<style scoped>\n",
       "    .dataframe tbody tr th:only-of-type {\n",
       "        vertical-align: middle;\n",
       "    }\n",
       "\n",
       "    .dataframe tbody tr th {\n",
       "        vertical-align: top;\n",
       "    }\n",
       "\n",
       "    .dataframe thead th {\n",
       "        text-align: right;\n",
       "    }\n",
       "</style>\n",
       "<table border=\"1\" class=\"dataframe\">\n",
       "  <thead>\n",
       "    <tr style=\"text-align: right;\">\n",
       "      <th></th>\n",
       "      <th>id</th>\n",
       "      <th>class</th>\n",
       "      <th>cap-diameter</th>\n",
       "      <th>cap-shape</th>\n",
       "      <th>cap-surface</th>\n",
       "      <th>cap-color</th>\n",
       "      <th>does-bruise-or-bleed</th>\n",
       "      <th>gill-attachment</th>\n",
       "      <th>gill-spacing</th>\n",
       "      <th>gill-color</th>\n",
       "      <th>...</th>\n",
       "      <th>stem-root</th>\n",
       "      <th>stem-surface</th>\n",
       "      <th>stem-color</th>\n",
       "      <th>veil-type</th>\n",
       "      <th>veil-color</th>\n",
       "      <th>has-ring</th>\n",
       "      <th>ring-type</th>\n",
       "      <th>spore-print-color</th>\n",
       "      <th>habitat</th>\n",
       "      <th>season</th>\n",
       "    </tr>\n",
       "  </thead>\n",
       "  <tbody>\n",
       "    <tr>\n",
       "      <th>count</th>\n",
       "      <td>3.116945e+06</td>\n",
       "      <td>3116945</td>\n",
       "      <td>3.116941e+06</td>\n",
       "      <td>3116905</td>\n",
       "      <td>2445922</td>\n",
       "      <td>3116933</td>\n",
       "      <td>3116937</td>\n",
       "      <td>2593009</td>\n",
       "      <td>1858510</td>\n",
       "      <td>3116888</td>\n",
       "      <td>...</td>\n",
       "      <td>359922</td>\n",
       "      <td>1136084</td>\n",
       "      <td>3116907</td>\n",
       "      <td>159452</td>\n",
       "      <td>375998</td>\n",
       "      <td>3116921</td>\n",
       "      <td>2988065</td>\n",
       "      <td>267263</td>\n",
       "      <td>3116900</td>\n",
       "      <td>3116945</td>\n",
       "    </tr>\n",
       "    <tr>\n",
       "      <th>unique</th>\n",
       "      <td>NaN</td>\n",
       "      <td>2</td>\n",
       "      <td>NaN</td>\n",
       "      <td>74</td>\n",
       "      <td>83</td>\n",
       "      <td>78</td>\n",
       "      <td>26</td>\n",
       "      <td>78</td>\n",
       "      <td>48</td>\n",
       "      <td>63</td>\n",
       "      <td>...</td>\n",
       "      <td>38</td>\n",
       "      <td>60</td>\n",
       "      <td>59</td>\n",
       "      <td>22</td>\n",
       "      <td>24</td>\n",
       "      <td>23</td>\n",
       "      <td>40</td>\n",
       "      <td>32</td>\n",
       "      <td>52</td>\n",
       "      <td>4</td>\n",
       "    </tr>\n",
       "    <tr>\n",
       "      <th>top</th>\n",
       "      <td>NaN</td>\n",
       "      <td>p</td>\n",
       "      <td>NaN</td>\n",
       "      <td>x</td>\n",
       "      <td>t</td>\n",
       "      <td>n</td>\n",
       "      <td>f</td>\n",
       "      <td>a</td>\n",
       "      <td>c</td>\n",
       "      <td>w</td>\n",
       "      <td>...</td>\n",
       "      <td>b</td>\n",
       "      <td>s</td>\n",
       "      <td>w</td>\n",
       "      <td>u</td>\n",
       "      <td>w</td>\n",
       "      <td>f</td>\n",
       "      <td>f</td>\n",
       "      <td>k</td>\n",
       "      <td>d</td>\n",
       "      <td>a</td>\n",
       "    </tr>\n",
       "    <tr>\n",
       "      <th>freq</th>\n",
       "      <td>NaN</td>\n",
       "      <td>1705396</td>\n",
       "      <td>NaN</td>\n",
       "      <td>1436026</td>\n",
       "      <td>460777</td>\n",
       "      <td>1359542</td>\n",
       "      <td>2569743</td>\n",
       "      <td>646034</td>\n",
       "      <td>1331054</td>\n",
       "      <td>931538</td>\n",
       "      <td>...</td>\n",
       "      <td>165801</td>\n",
       "      <td>327610</td>\n",
       "      <td>1196637</td>\n",
       "      <td>159373</td>\n",
       "      <td>279070</td>\n",
       "      <td>2368820</td>\n",
       "      <td>2477170</td>\n",
       "      <td>107310</td>\n",
       "      <td>2177573</td>\n",
       "      <td>1543321</td>\n",
       "    </tr>\n",
       "    <tr>\n",
       "      <th>mean</th>\n",
       "      <td>1.558472e+06</td>\n",
       "      <td>NaN</td>\n",
       "      <td>6.309848e+00</td>\n",
       "      <td>NaN</td>\n",
       "      <td>NaN</td>\n",
       "      <td>NaN</td>\n",
       "      <td>NaN</td>\n",
       "      <td>NaN</td>\n",
       "      <td>NaN</td>\n",
       "      <td>NaN</td>\n",
       "      <td>...</td>\n",
       "      <td>NaN</td>\n",
       "      <td>NaN</td>\n",
       "      <td>NaN</td>\n",
       "      <td>NaN</td>\n",
       "      <td>NaN</td>\n",
       "      <td>NaN</td>\n",
       "      <td>NaN</td>\n",
       "      <td>NaN</td>\n",
       "      <td>NaN</td>\n",
       "      <td>NaN</td>\n",
       "    </tr>\n",
       "    <tr>\n",
       "      <th>std</th>\n",
       "      <td>8.997847e+05</td>\n",
       "      <td>NaN</td>\n",
       "      <td>4.657931e+00</td>\n",
       "      <td>NaN</td>\n",
       "      <td>NaN</td>\n",
       "      <td>NaN</td>\n",
       "      <td>NaN</td>\n",
       "      <td>NaN</td>\n",
       "      <td>NaN</td>\n",
       "      <td>NaN</td>\n",
       "      <td>...</td>\n",
       "      <td>NaN</td>\n",
       "      <td>NaN</td>\n",
       "      <td>NaN</td>\n",
       "      <td>NaN</td>\n",
       "      <td>NaN</td>\n",
       "      <td>NaN</td>\n",
       "      <td>NaN</td>\n",
       "      <td>NaN</td>\n",
       "      <td>NaN</td>\n",
       "      <td>NaN</td>\n",
       "    </tr>\n",
       "    <tr>\n",
       "      <th>min</th>\n",
       "      <td>0.000000e+00</td>\n",
       "      <td>NaN</td>\n",
       "      <td>3.000000e-02</td>\n",
       "      <td>NaN</td>\n",
       "      <td>NaN</td>\n",
       "      <td>NaN</td>\n",
       "      <td>NaN</td>\n",
       "      <td>NaN</td>\n",
       "      <td>NaN</td>\n",
       "      <td>NaN</td>\n",
       "      <td>...</td>\n",
       "      <td>NaN</td>\n",
       "      <td>NaN</td>\n",
       "      <td>NaN</td>\n",
       "      <td>NaN</td>\n",
       "      <td>NaN</td>\n",
       "      <td>NaN</td>\n",
       "      <td>NaN</td>\n",
       "      <td>NaN</td>\n",
       "      <td>NaN</td>\n",
       "      <td>NaN</td>\n",
       "    </tr>\n",
       "    <tr>\n",
       "      <th>25%</th>\n",
       "      <td>7.792360e+05</td>\n",
       "      <td>NaN</td>\n",
       "      <td>3.320000e+00</td>\n",
       "      <td>NaN</td>\n",
       "      <td>NaN</td>\n",
       "      <td>NaN</td>\n",
       "      <td>NaN</td>\n",
       "      <td>NaN</td>\n",
       "      <td>NaN</td>\n",
       "      <td>NaN</td>\n",
       "      <td>...</td>\n",
       "      <td>NaN</td>\n",
       "      <td>NaN</td>\n",
       "      <td>NaN</td>\n",
       "      <td>NaN</td>\n",
       "      <td>NaN</td>\n",
       "      <td>NaN</td>\n",
       "      <td>NaN</td>\n",
       "      <td>NaN</td>\n",
       "      <td>NaN</td>\n",
       "      <td>NaN</td>\n",
       "    </tr>\n",
       "    <tr>\n",
       "      <th>50%</th>\n",
       "      <td>1.558472e+06</td>\n",
       "      <td>NaN</td>\n",
       "      <td>5.750000e+00</td>\n",
       "      <td>NaN</td>\n",
       "      <td>NaN</td>\n",
       "      <td>NaN</td>\n",
       "      <td>NaN</td>\n",
       "      <td>NaN</td>\n",
       "      <td>NaN</td>\n",
       "      <td>NaN</td>\n",
       "      <td>...</td>\n",
       "      <td>NaN</td>\n",
       "      <td>NaN</td>\n",
       "      <td>NaN</td>\n",
       "      <td>NaN</td>\n",
       "      <td>NaN</td>\n",
       "      <td>NaN</td>\n",
       "      <td>NaN</td>\n",
       "      <td>NaN</td>\n",
       "      <td>NaN</td>\n",
       "      <td>NaN</td>\n",
       "    </tr>\n",
       "    <tr>\n",
       "      <th>75%</th>\n",
       "      <td>2.337708e+06</td>\n",
       "      <td>NaN</td>\n",
       "      <td>8.240000e+00</td>\n",
       "      <td>NaN</td>\n",
       "      <td>NaN</td>\n",
       "      <td>NaN</td>\n",
       "      <td>NaN</td>\n",
       "      <td>NaN</td>\n",
       "      <td>NaN</td>\n",
       "      <td>NaN</td>\n",
       "      <td>...</td>\n",
       "      <td>NaN</td>\n",
       "      <td>NaN</td>\n",
       "      <td>NaN</td>\n",
       "      <td>NaN</td>\n",
       "      <td>NaN</td>\n",
       "      <td>NaN</td>\n",
       "      <td>NaN</td>\n",
       "      <td>NaN</td>\n",
       "      <td>NaN</td>\n",
       "      <td>NaN</td>\n",
       "    </tr>\n",
       "    <tr>\n",
       "      <th>max</th>\n",
       "      <td>3.116944e+06</td>\n",
       "      <td>NaN</td>\n",
       "      <td>8.067000e+01</td>\n",
       "      <td>NaN</td>\n",
       "      <td>NaN</td>\n",
       "      <td>NaN</td>\n",
       "      <td>NaN</td>\n",
       "      <td>NaN</td>\n",
       "      <td>NaN</td>\n",
       "      <td>NaN</td>\n",
       "      <td>...</td>\n",
       "      <td>NaN</td>\n",
       "      <td>NaN</td>\n",
       "      <td>NaN</td>\n",
       "      <td>NaN</td>\n",
       "      <td>NaN</td>\n",
       "      <td>NaN</td>\n",
       "      <td>NaN</td>\n",
       "      <td>NaN</td>\n",
       "      <td>NaN</td>\n",
       "      <td>NaN</td>\n",
       "    </tr>\n",
       "  </tbody>\n",
       "</table>\n",
       "<p>11 rows × 22 columns</p>\n",
       "</div>"
      ],
      "text/plain": [
       "                  id    class  cap-diameter cap-shape cap-surface cap-color  \\\n",
       "count   3.116945e+06  3116945  3.116941e+06   3116905     2445922   3116933   \n",
       "unique           NaN        2           NaN        74          83        78   \n",
       "top              NaN        p           NaN         x           t         n   \n",
       "freq             NaN  1705396           NaN   1436026      460777   1359542   \n",
       "mean    1.558472e+06      NaN  6.309848e+00       NaN         NaN       NaN   \n",
       "std     8.997847e+05      NaN  4.657931e+00       NaN         NaN       NaN   \n",
       "min     0.000000e+00      NaN  3.000000e-02       NaN         NaN       NaN   \n",
       "25%     7.792360e+05      NaN  3.320000e+00       NaN         NaN       NaN   \n",
       "50%     1.558472e+06      NaN  5.750000e+00       NaN         NaN       NaN   \n",
       "75%     2.337708e+06      NaN  8.240000e+00       NaN         NaN       NaN   \n",
       "max     3.116944e+06      NaN  8.067000e+01       NaN         NaN       NaN   \n",
       "\n",
       "       does-bruise-or-bleed gill-attachment gill-spacing gill-color  ...  \\\n",
       "count               3116937         2593009      1858510    3116888  ...   \n",
       "unique                   26              78           48         63  ...   \n",
       "top                       f               a            c          w  ...   \n",
       "freq                2569743          646034      1331054     931538  ...   \n",
       "mean                    NaN             NaN          NaN        NaN  ...   \n",
       "std                     NaN             NaN          NaN        NaN  ...   \n",
       "min                     NaN             NaN          NaN        NaN  ...   \n",
       "25%                     NaN             NaN          NaN        NaN  ...   \n",
       "50%                     NaN             NaN          NaN        NaN  ...   \n",
       "75%                     NaN             NaN          NaN        NaN  ...   \n",
       "max                     NaN             NaN          NaN        NaN  ...   \n",
       "\n",
       "        stem-root  stem-surface stem-color veil-type veil-color has-ring  \\\n",
       "count      359922       1136084    3116907    159452     375998  3116921   \n",
       "unique         38            60         59        22         24       23   \n",
       "top             b             s          w         u          w        f   \n",
       "freq       165801        327610    1196637    159373     279070  2368820   \n",
       "mean          NaN           NaN        NaN       NaN        NaN      NaN   \n",
       "std           NaN           NaN        NaN       NaN        NaN      NaN   \n",
       "min           NaN           NaN        NaN       NaN        NaN      NaN   \n",
       "25%           NaN           NaN        NaN       NaN        NaN      NaN   \n",
       "50%           NaN           NaN        NaN       NaN        NaN      NaN   \n",
       "75%           NaN           NaN        NaN       NaN        NaN      NaN   \n",
       "max           NaN           NaN        NaN       NaN        NaN      NaN   \n",
       "\n",
       "       ring-type spore-print-color  habitat   season  \n",
       "count    2988065            267263  3116900  3116945  \n",
       "unique        40                32       52        4  \n",
       "top            f                 k        d        a  \n",
       "freq     2477170            107310  2177573  1543321  \n",
       "mean         NaN               NaN      NaN      NaN  \n",
       "std          NaN               NaN      NaN      NaN  \n",
       "min          NaN               NaN      NaN      NaN  \n",
       "25%          NaN               NaN      NaN      NaN  \n",
       "50%          NaN               NaN      NaN      NaN  \n",
       "75%          NaN               NaN      NaN      NaN  \n",
       "max          NaN               NaN      NaN      NaN  \n",
       "\n",
       "[11 rows x 22 columns]"
      ]
     },
     "execution_count": 4,
     "metadata": {},
     "output_type": "execute_result"
    }
   ],
   "source": [
    "train_data.describe(include='all')"
   ]
  },
  {
   "cell_type": "code",
   "execution_count": 5,
   "id": "15492a17",
   "metadata": {
    "execution": {
     "iopub.execute_input": "2024-08-27T16:38:16.123377Z",
     "iopub.status.busy": "2024-08-27T16:38:16.122598Z",
     "iopub.status.idle": "2024-08-27T16:38:19.909921Z",
     "shell.execute_reply": "2024-08-27T16:38:19.908838Z"
    },
    "papermill": {
     "duration": 3.800325,
     "end_time": "2024-08-27T16:38:19.912247",
     "exception": false,
     "start_time": "2024-08-27T16:38:16.111922",
     "status": "completed"
    },
    "tags": []
   },
   "outputs": [
    {
     "data": {
      "text/html": [
       "<div>\n",
       "<style scoped>\n",
       "    .dataframe tbody tr th:only-of-type {\n",
       "        vertical-align: middle;\n",
       "    }\n",
       "\n",
       "    .dataframe tbody tr th {\n",
       "        vertical-align: top;\n",
       "    }\n",
       "\n",
       "    .dataframe thead th {\n",
       "        text-align: right;\n",
       "    }\n",
       "</style>\n",
       "<table border=\"1\" class=\"dataframe\">\n",
       "  <thead>\n",
       "    <tr style=\"text-align: right;\">\n",
       "      <th></th>\n",
       "      <th>0</th>\n",
       "      <th>test_data</th>\n",
       "    </tr>\n",
       "  </thead>\n",
       "  <tbody>\n",
       "    <tr>\n",
       "      <th>cap-diameter</th>\n",
       "      <td>4</td>\n",
       "      <td>7</td>\n",
       "    </tr>\n",
       "    <tr>\n",
       "      <th>cap-shape</th>\n",
       "      <td>40</td>\n",
       "      <td>31</td>\n",
       "    </tr>\n",
       "    <tr>\n",
       "      <th>cap-surface</th>\n",
       "      <td>671023</td>\n",
       "      <td>446904</td>\n",
       "    </tr>\n",
       "    <tr>\n",
       "      <th>cap-color</th>\n",
       "      <td>12</td>\n",
       "      <td>13</td>\n",
       "    </tr>\n",
       "    <tr>\n",
       "      <th>does-bruise-or-bleed</th>\n",
       "      <td>8</td>\n",
       "      <td>10</td>\n",
       "    </tr>\n",
       "    <tr>\n",
       "      <th>gill-attachment</th>\n",
       "      <td>523936</td>\n",
       "      <td>349821</td>\n",
       "    </tr>\n",
       "    <tr>\n",
       "      <th>gill-spacing</th>\n",
       "      <td>1258435</td>\n",
       "      <td>839595</td>\n",
       "    </tr>\n",
       "    <tr>\n",
       "      <th>gill-color</th>\n",
       "      <td>57</td>\n",
       "      <td>49</td>\n",
       "    </tr>\n",
       "    <tr>\n",
       "      <th>stem-root</th>\n",
       "      <td>2757023</td>\n",
       "      <td>1838012</td>\n",
       "    </tr>\n",
       "    <tr>\n",
       "      <th>stem-surface</th>\n",
       "      <td>1980861</td>\n",
       "      <td>1321488</td>\n",
       "    </tr>\n",
       "    <tr>\n",
       "      <th>stem-color</th>\n",
       "      <td>38</td>\n",
       "      <td>21</td>\n",
       "    </tr>\n",
       "    <tr>\n",
       "      <th>veil-type</th>\n",
       "      <td>2957493</td>\n",
       "      <td>1971545</td>\n",
       "    </tr>\n",
       "    <tr>\n",
       "      <th>veil-color</th>\n",
       "      <td>2740947</td>\n",
       "      <td>1826124</td>\n",
       "    </tr>\n",
       "    <tr>\n",
       "      <th>has-ring</th>\n",
       "      <td>24</td>\n",
       "      <td>19</td>\n",
       "    </tr>\n",
       "    <tr>\n",
       "      <th>ring-type</th>\n",
       "      <td>128880</td>\n",
       "      <td>86195</td>\n",
       "    </tr>\n",
       "    <tr>\n",
       "      <th>spore-print-color</th>\n",
       "      <td>2849682</td>\n",
       "      <td>1899617</td>\n",
       "    </tr>\n",
       "    <tr>\n",
       "      <th>habitat</th>\n",
       "      <td>45</td>\n",
       "      <td>25</td>\n",
       "    </tr>\n",
       "  </tbody>\n",
       "</table>\n",
       "</div>"
      ],
      "text/plain": [
       "                            0  test_data\n",
       "cap-diameter                4          7\n",
       "cap-shape                  40         31\n",
       "cap-surface            671023     446904\n",
       "cap-color                  12         13\n",
       "does-bruise-or-bleed        8         10\n",
       "gill-attachment        523936     349821\n",
       "gill-spacing          1258435     839595\n",
       "gill-color                 57         49\n",
       "stem-root             2757023    1838012\n",
       "stem-surface          1980861    1321488\n",
       "stem-color                 38         21\n",
       "veil-type             2957493    1971545\n",
       "veil-color            2740947    1826124\n",
       "has-ring                   24         19\n",
       "ring-type              128880      86195\n",
       "spore-print-color     2849682    1899617\n",
       "habitat                    45         25"
      ]
     },
     "execution_count": 5,
     "metadata": {},
     "output_type": "execute_result"
    }
   ],
   "source": [
    "missing_val_count_by_column=train_data.isnull().sum()\n",
    "missing_val_count_by_column1=test_data.isnull().sum()\n",
    "missing_val_train = missing_val_count_by_column[missing_val_count_by_column > 0]\n",
    "missing_val_test = missing_val_count_by_column1[missing_val_count_by_column1 > 0]\n",
    "missing_value_df = pd.DataFrame(missing_val_train)\n",
    "missing_value_df['test_data'] = missing_val_test\n",
    "missing_value_df"
   ]
  },
  {
   "cell_type": "code",
   "execution_count": 6,
   "id": "6ccc7db7",
   "metadata": {
    "execution": {
     "iopub.execute_input": "2024-08-27T16:38:19.933295Z",
     "iopub.status.busy": "2024-08-27T16:38:19.932588Z",
     "iopub.status.idle": "2024-08-27T16:38:22.252975Z",
     "shell.execute_reply": "2024-08-27T16:38:22.251862Z"
    },
    "papermill": {
     "duration": 2.333734,
     "end_time": "2024-08-27T16:38:22.255544",
     "exception": false,
     "start_time": "2024-08-27T16:38:19.921810",
     "status": "completed"
    },
    "tags": []
   },
   "outputs": [
    {
     "data": {
      "text/plain": [
       "veil-type               94.884350\n",
       "spore-print-color       91.425482\n",
       "stem-root               88.452732\n",
       "veil-color              87.936970\n",
       "stem-surface            63.551362\n",
       "gill-spacing            40.373988\n",
       "cap-surface             21.528227\n",
       "gill-attachment         16.809280\n",
       "ring-type                4.134818\n",
       "gill-color               0.001829\n",
       "habitat                  0.001444\n",
       "cap-shape                0.001283\n",
       "stem-color               0.001219\n",
       "has-ring                 0.000770\n",
       "cap-color                0.000385\n",
       "does-bruise-or-bleed     0.000257\n",
       "cap-diameter             0.000128\n",
       "dtype: float64"
      ]
     },
     "execution_count": 6,
     "metadata": {},
     "output_type": "execute_result"
    }
   ],
   "source": [
    "# percentage of missing columns\n",
    "Missing = train_data.isna().mean()*100\n",
    "Missing_col = Missing[Missing>0]\n",
    "Missing_col.sort_values(ascending=False,inplace =True)\n",
    "Missing_col"
   ]
  },
  {
   "cell_type": "code",
   "execution_count": 7,
   "id": "800c0bc6",
   "metadata": {
    "execution": {
     "iopub.execute_input": "2024-08-27T16:38:22.278640Z",
     "iopub.status.busy": "2024-08-27T16:38:22.278186Z",
     "iopub.status.idle": "2024-08-27T16:38:22.287290Z",
     "shell.execute_reply": "2024-08-27T16:38:22.286337Z"
    },
    "papermill": {
     "duration": 0.023086,
     "end_time": "2024-08-27T16:38:22.289479",
     "exception": false,
     "start_time": "2024-08-27T16:38:22.266393",
     "status": "completed"
    },
    "tags": []
   },
   "outputs": [
    {
     "data": {
      "text/plain": [
       "Index(['id', 'class', 'cap-diameter', 'cap-shape', 'cap-surface', 'cap-color',\n",
       "       'does-bruise-or-bleed', 'gill-attachment', 'gill-spacing', 'gill-color',\n",
       "       'stem-height', 'stem-width', 'stem-root', 'stem-surface', 'stem-color',\n",
       "       'veil-type', 'veil-color', 'has-ring', 'ring-type', 'spore-print-color',\n",
       "       'habitat', 'season'],\n",
       "      dtype='object')"
      ]
     },
     "metadata": {},
     "output_type": "display_data"
    },
    {
     "data": {
      "text/plain": [
       "(3116945, 22)"
      ]
     },
     "metadata": {},
     "output_type": "display_data"
    }
   ],
   "source": [
    "display(train_data.columns)\n",
    "display(train_data.shape)"
   ]
  },
  {
   "cell_type": "code",
   "execution_count": 8,
   "id": "b8c83758",
   "metadata": {
    "execution": {
     "iopub.execute_input": "2024-08-27T16:38:22.311430Z",
     "iopub.status.busy": "2024-08-27T16:38:22.310517Z",
     "iopub.status.idle": "2024-08-27T16:38:22.319386Z",
     "shell.execute_reply": "2024-08-27T16:38:22.318423Z"
    },
    "papermill": {
     "duration": 0.022045,
     "end_time": "2024-08-27T16:38:22.321450",
     "exception": false,
     "start_time": "2024-08-27T16:38:22.299405",
     "status": "completed"
    },
    "tags": []
   },
   "outputs": [
    {
     "data": {
      "text/plain": [
       "Index(['id', 'cap-diameter', 'cap-shape', 'cap-surface', 'cap-color',\n",
       "       'does-bruise-or-bleed', 'gill-attachment', 'gill-spacing', 'gill-color',\n",
       "       'stem-height', 'stem-width', 'stem-root', 'stem-surface', 'stem-color',\n",
       "       'veil-type', 'veil-color', 'has-ring', 'ring-type', 'spore-print-color',\n",
       "       'habitat', 'season'],\n",
       "      dtype='object')"
      ]
     },
     "metadata": {},
     "output_type": "display_data"
    },
    {
     "data": {
      "text/plain": [
       "(2077964, 21)"
      ]
     },
     "metadata": {},
     "output_type": "display_data"
    }
   ],
   "source": [
    "display(test_data.columns)\n",
    "display(test_data.shape)"
   ]
  },
  {
   "cell_type": "code",
   "execution_count": 9,
   "id": "10bea9c2",
   "metadata": {
    "execution": {
     "iopub.execute_input": "2024-08-27T16:38:22.343254Z",
     "iopub.status.busy": "2024-08-27T16:38:22.342865Z",
     "iopub.status.idle": "2024-08-27T16:38:22.797120Z",
     "shell.execute_reply": "2024-08-27T16:38:22.796067Z"
    },
    "papermill": {
     "duration": 0.467794,
     "end_time": "2024-08-27T16:38:22.799568",
     "exception": false,
     "start_time": "2024-08-27T16:38:22.331774",
     "status": "completed"
    },
    "tags": []
   },
   "outputs": [
    {
     "data": {
      "text/plain": [
       "Index(['id', 'class', 'cap-diameter', 'cap-shape', 'cap-surface', 'cap-color',\n",
       "       'does-bruise-or-bleed', 'gill-attachment', 'gill-color', 'stem-height',\n",
       "       'stem-width', 'stem-color', 'has-ring', 'ring-type', 'habitat',\n",
       "       'season'],\n",
       "      dtype='object')"
      ]
     },
     "metadata": {},
     "output_type": "display_data"
    },
    {
     "data": {
      "text/plain": [
       "(3116945, 16)"
      ]
     },
     "metadata": {},
     "output_type": "display_data"
    }
   ],
   "source": [
    "cols_above_40percent_missing_val = ['gill-spacing','stem-root','stem-surface','veil-type','veil-color','spore-print-color']\n",
    "train_data = train_data.drop(cols_above_40percent_missing_val, axis=1)\n",
    "display(train_data.columns)\n",
    "display(train_data.shape)"
   ]
  },
  {
   "cell_type": "code",
   "execution_count": 10,
   "id": "931aea53",
   "metadata": {
    "execution": {
     "iopub.execute_input": "2024-08-27T16:38:22.821723Z",
     "iopub.status.busy": "2024-08-27T16:38:22.820975Z",
     "iopub.status.idle": "2024-08-27T16:38:23.106106Z",
     "shell.execute_reply": "2024-08-27T16:38:23.105050Z"
    },
    "papermill": {
     "duration": 0.298488,
     "end_time": "2024-08-27T16:38:23.108237",
     "exception": false,
     "start_time": "2024-08-27T16:38:22.809749",
     "status": "completed"
    },
    "tags": []
   },
   "outputs": [
    {
     "data": {
      "text/plain": [
       "(2077964, 15)"
      ]
     },
     "execution_count": 10,
     "metadata": {},
     "output_type": "execute_result"
    }
   ],
   "source": [
    "test_data = test_data.drop(cols_above_40percent_missing_val, axis=1)\n",
    "test_data.shape"
   ]
  },
  {
   "cell_type": "code",
   "execution_count": 11,
   "id": "b0a24637",
   "metadata": {
    "execution": {
     "iopub.execute_input": "2024-08-27T16:38:23.131004Z",
     "iopub.status.busy": "2024-08-27T16:38:23.130608Z",
     "iopub.status.idle": "2024-08-27T16:38:27.656844Z",
     "shell.execute_reply": "2024-08-27T16:38:27.655635Z"
    },
    "papermill": {
     "duration": 4.540337,
     "end_time": "2024-08-27T16:38:27.659244",
     "exception": false,
     "start_time": "2024-08-27T16:38:23.118907",
     "status": "completed"
    },
    "tags": []
   },
   "outputs": [
    {
     "name": "stderr",
     "output_type": "stream",
     "text": [
      "/opt/conda/lib/python3.10/site-packages/seaborn/_oldcore.py:1119: FutureWarning: use_inf_as_na option is deprecated and will be removed in a future version. Convert inf values to NaN before operating instead.\n",
      "  with pd.option_context('mode.use_inf_as_na', True):\n"
     ]
    },
    {
     "data": {
      "text/plain": [
       "Text(0.5, 1.0, 'cap-diameter distribution')"
      ]
     },
     "execution_count": 11,
     "metadata": {},
     "output_type": "execute_result"
    },
    {
     "data": {
      "image/png": "[encoded data removed]",
      "text/plain": [
       "<Figure size 640x480 with 1 Axes>"
      ]
     },
     "metadata": {},
     "output_type": "display_data"
    }
   ],
   "source": [
    "train_data['cap-diameter'] = train_data['cap-diameter'].fillna(train_data['cap-diameter'].mean())\n",
    "sns.histplot(train_data['cap-diameter']).set_title('cap-diameter distribution')"
   ]
  },
  {
   "cell_type": "code",
   "execution_count": 12,
   "id": "69fefab8",
   "metadata": {
    "execution": {
     "iopub.execute_input": "2024-08-27T16:38:27.684877Z",
     "iopub.status.busy": "2024-08-27T16:38:27.683953Z",
     "iopub.status.idle": "2024-08-27T16:38:27.755558Z",
     "shell.execute_reply": "2024-08-27T16:38:27.754333Z"
    },
    "papermill": {
     "duration": 0.086408,
     "end_time": "2024-08-27T16:38:27.757638",
     "exception": false,
     "start_time": "2024-08-27T16:38:27.671230",
     "status": "completed"
    },
    "tags": []
   },
   "outputs": [
    {
     "data": {
      "text/plain": [
       "array(['f', 'x', 'p', 'b', 'o', 'c', 's', 'd', 'e', 'n', nan, 'w', 'k',\n",
       "       'l', '19.29', '5 f', 't', 'g', 'z', 'a', '2.85', '7 x', 'r', 'u',\n",
       "       '3.55', 'is s', 'y', '4.22', '3.6', '21.56', 'i', '6 x', '24.16',\n",
       "       '8', 'm', 'ring-type', '10.13', 'is p', '7.43', 'h', '0.82',\n",
       "       '10.46', '2.77', '2.94', '12.62', '5.15', '19.04', '4.97', '49.21',\n",
       "       'b f', '9.13', '1.66', '3.37', '7.21', '3.25', '11.12', '3 x',\n",
       "       '4.3', '7.41', '6.21', '8.29', '54.78', '20.25', '3.52', '3.04',\n",
       "       '2.63', '3.91', '6.44', '8.3', '7.6', '17.44', '4.33', '2.82',\n",
       "       '6.53', '19.06'], dtype=object)"
      ]
     },
     "execution_count": 12,
     "metadata": {},
     "output_type": "execute_result"
    }
   ],
   "source": [
    "train_data['cap-shape'].unique()\n",
    "# it seems there are inconsistencies in data entry."
   ]
  },
  {
   "cell_type": "code",
   "execution_count": 13,
   "id": "ebc8fda0",
   "metadata": {
    "execution": {
     "iopub.execute_input": "2024-08-27T16:38:27.782281Z",
     "iopub.status.busy": "2024-08-27T16:38:27.781866Z",
     "iopub.status.idle": "2024-08-27T16:38:27.855816Z",
     "shell.execute_reply": "2024-08-27T16:38:27.854796Z"
    },
    "papermill": {
     "duration": 0.088398,
     "end_time": "2024-08-27T16:38:27.857841",
     "exception": false,
     "start_time": "2024-08-27T16:38:27.769443",
     "status": "completed"
    },
    "tags": []
   },
   "outputs": [
    {
     "data": {
      "text/plain": [
       "array(['w', 'n', 'g', 'k', 'y', 'f', 'p', 'o', 'b', 'u', 'e', 'r', 'd',\n",
       "       't', '3.45', 'z', '5', '3.39', 'season', 'h', 'x', 's', '4',\n",
       "       'class', 'c', 'm', 'spacing', '0.92', nan, '18.12', 'l', 'does w',\n",
       "       'a', '7.59', '8.06', '6.19', 'has-ring', '4.49', '9.46', '5.01',\n",
       "       'ring-type', '3.4', 'i', '17', '10.07', 'stem-root', '20.6',\n",
       "       'spore-print-color', '18.03', 'does-bruise-or-bleed', '8.83',\n",
       "       'habitat', '10.21', '4.64', '6.4', 'is y', 'e y', '1.91', 'does n',\n",
       "       '16.41', '6.41', 'veil-type', '20.44', '8.37'], dtype=object)"
      ]
     },
     "execution_count": 13,
     "metadata": {},
     "output_type": "execute_result"
    }
   ],
   "source": [
    "train_data['gill-color'].unique()"
   ]
  },
  {
   "cell_type": "code",
   "execution_count": 14,
   "id": "d0c15865",
   "metadata": {
    "execution": {
     "iopub.execute_input": "2024-08-27T16:38:27.882291Z",
     "iopub.status.busy": "2024-08-27T16:38:27.881341Z",
     "iopub.status.idle": "2024-08-27T16:38:28.051062Z",
     "shell.execute_reply": "2024-08-27T16:38:28.049989Z"
    },
    "papermill": {
     "duration": 0.18416,
     "end_time": "2024-08-27T16:38:28.053196",
     "exception": false,
     "start_time": "2024-08-27T16:38:27.869036",
     "status": "completed"
    },
    "tags": []
   },
   "outputs": [
    {
     "data": {
      "text/plain": [
       "array(['a', 'w', 'u', 's'], dtype=object)"
      ]
     },
     "execution_count": 14,
     "metadata": {},
     "output_type": "execute_result"
    }
   ],
   "source": [
    "train_data['season'].unique()"
   ]
  },
  {
   "cell_type": "code",
   "execution_count": 15,
   "id": "dee2c7da",
   "metadata": {
    "execution": {
     "iopub.execute_input": "2024-08-27T16:38:28.078326Z",
     "iopub.status.busy": "2024-08-27T16:38:28.077366Z",
     "iopub.status.idle": "2024-08-27T16:38:28.082669Z",
     "shell.execute_reply": "2024-08-27T16:38:28.081690Z"
    },
    "papermill": {
     "duration": 0.020322,
     "end_time": "2024-08-27T16:38:28.085066",
     "exception": false,
     "start_time": "2024-08-27T16:38:28.064744",
     "status": "completed"
    },
    "tags": []
   },
   "outputs": [],
   "source": [
    "# categorical columns to preprocess\n",
    "categorical_columns = ['cap-shape', 'cap-surface', 'cap-color','does-bruise-or-bleed', 'gill-attachment'\n",
    "                      ,'gill-color','stem-color','has-ring','ring-type','habitat','season'] \n",
    "# numerical columns to preprocess\n",
    "numerical_columns = ['cap-diameter', 'stem-height', 'stem-width']"
   ]
  },
  {
   "cell_type": "code",
   "execution_count": 16,
   "id": "1768ae35",
   "metadata": {
    "execution": {
     "iopub.execute_input": "2024-08-27T16:38:28.109729Z",
     "iopub.status.busy": "2024-08-27T16:38:28.108803Z",
     "iopub.status.idle": "2024-08-27T16:38:28.113648Z",
     "shell.execute_reply": "2024-08-27T16:38:28.112672Z"
    },
    "papermill": {
     "duration": 0.019268,
     "end_time": "2024-08-27T16:38:28.115686",
     "exception": false,
     "start_time": "2024-08-27T16:38:28.096418",
     "status": "completed"
    },
    "tags": []
   },
   "outputs": [],
   "source": [
    "cols_to_clean = ['cap-shape', 'cap-surface', 'cap-color','does-bruise-or-bleed', 'gill-attachment'\n",
    "                      ,'gill-color','stem-color','has-ring','ring-type','habitat'] "
   ]
  },
  {
   "cell_type": "code",
   "execution_count": 17,
   "id": "97e4ea10",
   "metadata": {
    "execution": {
     "iopub.execute_input": "2024-08-27T16:38:28.140391Z",
     "iopub.status.busy": "2024-08-27T16:38:28.139622Z",
     "iopub.status.idle": "2024-08-27T16:38:28.146202Z",
     "shell.execute_reply": "2024-08-27T16:38:28.145079Z"
    },
    "papermill": {
     "duration": 0.021391,
     "end_time": "2024-08-27T16:38:28.148395",
     "exception": false,
     "start_time": "2024-08-27T16:38:28.127004",
     "status": "completed"
    },
    "tags": []
   },
   "outputs": [],
   "source": [
    "# let's define valid categories for each column\n",
    "valid_categories = {\n",
    "    'cap-shape': ['f', 'x', 'p', 'b', 'o', 'c', 's'],\n",
    "    'cap-surface': ['s', 'h', 'y', 'l'],\n",
    "    'cap-color': ['u', 'o', 'b', 'g', 'w', 'n', 'e', 'y', 'r', 'p', 'k'],\n",
    "    'does-bruise-or-bleed': ['f', 't'],\n",
    "    'gill-attachment': ['a', 'x', 's', 'd'],\n",
    "    'gill-color': ['w', 'n', 'g', 'k'],\n",
    "    'stem-color': ['w', 'o', 'n', 'y', 'e'],\n",
    "    'has-ring': ['f', 't'],\n",
    "    'ring-type': ['f', 'z', 'e', 'p'],\n",
    "    'habitat': ['d', 'l', 'g', 'h', 'p', 'm', 'u']}"
   ]
  },
  {
   "cell_type": "code",
   "execution_count": 18,
   "id": "4a1c9a02",
   "metadata": {
    "execution": {
     "iopub.execute_input": "2024-08-27T16:38:28.174086Z",
     "iopub.status.busy": "2024-08-27T16:38:28.173016Z",
     "iopub.status.idle": "2024-08-27T16:38:43.039673Z",
     "shell.execute_reply": "2024-08-27T16:38:43.038549Z"
    },
    "papermill": {
     "duration": 14.881897,
     "end_time": "2024-08-27T16:38:43.042256",
     "exception": false,
     "start_time": "2024-08-27T16:38:28.160359",
     "status": "completed"
    },
    "tags": []
   },
   "outputs": [],
   "source": [
    "# Replace unexpected values with NaN\n",
    "for col in cols_to_clean:\n",
    "    train_data[col] = train_data[col].apply(lambda x: x if x in valid_categories[col] else np.nan)\n",
    "    test_data[col] = test_data[col].apply(lambda x: x if x in valid_categories[col] else np.nan)"
   ]
  },
  {
   "cell_type": "code",
   "execution_count": 19,
   "id": "a8ad97ef",
   "metadata": {
    "execution": {
     "iopub.execute_input": "2024-08-27T16:38:43.066842Z",
     "iopub.status.busy": "2024-08-27T16:38:43.066429Z",
     "iopub.status.idle": "2024-08-27T16:38:43.494204Z",
     "shell.execute_reply": "2024-08-27T16:38:43.493059Z"
    },
    "papermill": {
     "duration": 0.442912,
     "end_time": "2024-08-27T16:38:43.496769",
     "exception": false,
     "start_time": "2024-08-27T16:38:43.053857",
     "status": "completed"
    },
    "tags": []
   },
   "outputs": [],
   "source": [
    "for col in numerical_columns:\n",
    "    train_data[col] = train_data[col].fillna(train_data[col].median())\n",
    "    test_data[col] = test_data[col].fillna(test_data[col].median())"
   ]
  },
  {
   "cell_type": "code",
   "execution_count": 20,
   "id": "31f1db8c",
   "metadata": {
    "execution": {
     "iopub.execute_input": "2024-08-27T16:38:43.520992Z",
     "iopub.status.busy": "2024-08-27T16:38:43.520604Z",
     "iopub.status.idle": "2024-08-27T16:38:50.787040Z",
     "shell.execute_reply": "2024-08-27T16:38:50.785944Z"
    },
    "papermill": {
     "duration": 7.281397,
     "end_time": "2024-08-27T16:38:50.789477",
     "exception": false,
     "start_time": "2024-08-27T16:38:43.508080",
     "status": "completed"
    },
    "tags": []
   },
   "outputs": [],
   "source": [
    "for col in categorical_columns:\n",
    "    mode_train = train_data[col].mode()[0]\n",
    "    train_data[col] = train_data[col].fillna(mode_train)\n",
    "    mode_test = test_data[col].mode()[0]\n",
    "    test_data[col] = test_data[col].fillna(mode_test)"
   ]
  },
  {
   "cell_type": "code",
   "execution_count": 21,
   "id": "24ccf2f7",
   "metadata": {
    "execution": {
     "iopub.execute_input": "2024-08-27T16:38:50.814291Z",
     "iopub.status.busy": "2024-08-27T16:38:50.813504Z",
     "iopub.status.idle": "2024-08-27T16:38:53.525708Z",
     "shell.execute_reply": "2024-08-27T16:38:53.524562Z"
    },
    "papermill": {
     "duration": 2.727141,
     "end_time": "2024-08-27T16:38:53.527986",
     "exception": false,
     "start_time": "2024-08-27T16:38:50.800845",
     "status": "completed"
    },
    "tags": []
   },
   "outputs": [
    {
     "name": "stdout",
     "output_type": "stream",
     "text": [
      "There are 0 missing value in train_data\n",
      "There are 0 missing value in test_data\n"
     ]
    }
   ],
   "source": [
    "print(\"There are\", train_data.isnull().sum().sum(), \"missing value in train_data\")\n",
    "print(\"There are\", test_data.isnull().sum().sum(), \"missing value in test_data\")"
   ]
  },
  {
   "cell_type": "code",
   "execution_count": 22,
   "id": "ec2a44a8",
   "metadata": {
    "execution": {
     "iopub.execute_input": "2024-08-27T16:38:53.552839Z",
     "iopub.status.busy": "2024-08-27T16:38:53.552403Z",
     "iopub.status.idle": "2024-08-27T16:38:54.097167Z",
     "shell.execute_reply": "2024-08-27T16:38:54.096268Z"
    },
    "papermill": {
     "duration": 0.559936,
     "end_time": "2024-08-27T16:38:54.099607",
     "exception": false,
     "start_time": "2024-08-27T16:38:53.539671",
     "status": "completed"
    },
    "tags": []
   },
   "outputs": [],
   "source": [
    "from sklearn.preprocessing import StandardScaler\n",
    "\n",
    "scaler = StandardScaler()\n",
    "train_data[numerical_columns] = scaler.fit_transform(train_data[numerical_columns])\n",
    "test_data[numerical_columns] = scaler.fit_transform(test_data[numerical_columns])"
   ]
  },
  {
   "cell_type": "code",
   "execution_count": 23,
   "id": "4df9fcb5",
   "metadata": {
    "execution": {
     "iopub.execute_input": "2024-08-27T16:38:54.124526Z",
     "iopub.status.busy": "2024-08-27T16:38:54.124093Z",
     "iopub.status.idle": "2024-08-27T16:39:06.164912Z",
     "shell.execute_reply": "2024-08-27T16:39:06.163780Z"
    },
    "papermill": {
     "duration": 12.056125,
     "end_time": "2024-08-27T16:39:06.167429",
     "exception": false,
     "start_time": "2024-08-27T16:38:54.111304",
     "status": "completed"
    },
    "tags": []
   },
   "outputs": [],
   "source": [
    "from sklearn.preprocessing import LabelEncoder\n",
    "\n",
    "LE = LabelEncoder()\n",
    "\n",
    "for col in categorical_columns:\n",
    "    train_data[col] = train_data[col].astype(str)\n",
    "    train_data[col] = LE.fit_transform(train_data[col])\n",
    "    test_data[col] = test_data[col].astype(str)\n",
    "    test_data[col] = LE.fit_transform(test_data[col])"
   ]
  },
  {
   "cell_type": "code",
   "execution_count": 24,
   "id": "0ef12dd6",
   "metadata": {
    "execution": {
     "iopub.execute_input": "2024-08-27T16:39:06.192384Z",
     "iopub.status.busy": "2024-08-27T16:39:06.191989Z",
     "iopub.status.idle": "2024-08-27T16:39:06.909773Z",
     "shell.execute_reply": "2024-08-27T16:39:06.908728Z"
    },
    "papermill": {
     "duration": 0.732623,
     "end_time": "2024-08-27T16:39:06.911968",
     "exception": false,
     "start_time": "2024-08-27T16:39:06.179345",
     "status": "completed"
    },
    "tags": []
   },
   "outputs": [
    {
     "data": {
      "text/plain": [
       "0          0\n",
       "1          1\n",
       "2          0\n",
       "3          0\n",
       "4          0\n",
       "          ..\n",
       "3116940    0\n",
       "3116941    0\n",
       "3116942    1\n",
       "3116943    0\n",
       "3116944    1\n",
       "Name: class, Length: 3116945, dtype: int64"
      ]
     },
     "execution_count": 24,
     "metadata": {},
     "output_type": "execute_result"
    }
   ],
   "source": [
    "train_data['class'] = LE.fit_transform(train_data['class'])\n",
    "train_data['class']"
   ]
  },
  {
   "cell_type": "code",
   "execution_count": 25,
   "id": "270dfeaa",
   "metadata": {
    "execution": {
     "iopub.execute_input": "2024-08-27T16:39:06.936891Z",
     "iopub.status.busy": "2024-08-27T16:39:06.936466Z",
     "iopub.status.idle": "2024-08-27T16:39:07.142520Z",
     "shell.execute_reply": "2024-08-27T16:39:07.141405Z"
    },
    "papermill": {
     "duration": 0.221238,
     "end_time": "2024-08-27T16:39:07.144876",
     "exception": false,
     "start_time": "2024-08-27T16:39:06.923638",
     "status": "completed"
    },
    "tags": []
   },
   "outputs": [
    {
     "data": {
      "text/html": [
       "<div>\n",
       "<style scoped>\n",
       "    .dataframe tbody tr th:only-of-type {\n",
       "        vertical-align: middle;\n",
       "    }\n",
       "\n",
       "    .dataframe tbody tr th {\n",
       "        vertical-align: top;\n",
       "    }\n",
       "\n",
       "    .dataframe thead th {\n",
       "        text-align: right;\n",
       "    }\n",
       "</style>\n",
       "<table border=\"1\" class=\"dataframe\">\n",
       "  <thead>\n",
       "    <tr style=\"text-align: right;\">\n",
       "      <th></th>\n",
       "      <th>cap-diameter</th>\n",
       "      <th>stem-height</th>\n",
       "      <th>stem-width</th>\n",
       "      <th>cap-shape</th>\n",
       "      <th>cap-surface</th>\n",
       "      <th>cap-color</th>\n",
       "      <th>does-bruise-or-bleed</th>\n",
       "      <th>gill-attachment</th>\n",
       "      <th>gill-color</th>\n",
       "      <th>stem-color</th>\n",
       "      <th>has-ring</th>\n",
       "      <th>ring-type</th>\n",
       "      <th>habitat</th>\n",
       "      <th>season</th>\n",
       "    </tr>\n",
       "  </thead>\n",
       "  <tbody>\n",
       "    <tr>\n",
       "      <th>0</th>\n",
       "      <td>0.534605</td>\n",
       "      <td>-0.680926</td>\n",
       "      <td>0.523282</td>\n",
       "      <td>2</td>\n",
       "      <td>2</td>\n",
       "      <td>8</td>\n",
       "      <td>0</td>\n",
       "      <td>0</td>\n",
       "      <td>3</td>\n",
       "      <td>3</td>\n",
       "      <td>0</td>\n",
       "      <td>1</td>\n",
       "      <td>0</td>\n",
       "      <td>0</td>\n",
       "    </tr>\n",
       "    <tr>\n",
       "      <th>1</th>\n",
       "      <td>-0.386405</td>\n",
       "      <td>-0.577213</td>\n",
       "      <td>-0.577333</td>\n",
       "      <td>6</td>\n",
       "      <td>0</td>\n",
       "      <td>5</td>\n",
       "      <td>0</td>\n",
       "      <td>0</td>\n",
       "      <td>2</td>\n",
       "      <td>2</td>\n",
       "      <td>1</td>\n",
       "      <td>3</td>\n",
       "      <td>0</td>\n",
       "      <td>3</td>\n",
       "    </tr>\n",
       "    <tr>\n",
       "      <th>2</th>\n",
       "      <td>0.135286</td>\n",
       "      <td>0.185819</td>\n",
       "      <td>-0.151169</td>\n",
       "      <td>2</td>\n",
       "      <td>2</td>\n",
       "      <td>0</td>\n",
       "      <td>0</td>\n",
       "      <td>3</td>\n",
       "      <td>3</td>\n",
       "      <td>1</td>\n",
       "      <td>0</td>\n",
       "      <td>1</td>\n",
       "      <td>3</td>\n",
       "      <td>3</td>\n",
       "    </tr>\n",
       "    <tr>\n",
       "      <th>3</th>\n",
       "      <td>-0.521659</td>\n",
       "      <td>-0.810568</td>\n",
       "      <td>-0.571157</td>\n",
       "      <td>2</td>\n",
       "      <td>3</td>\n",
       "      <td>2</td>\n",
       "      <td>0</td>\n",
       "      <td>2</td>\n",
       "      <td>0</td>\n",
       "      <td>3</td>\n",
       "      <td>0</td>\n",
       "      <td>1</td>\n",
       "      <td>0</td>\n",
       "      <td>2</td>\n",
       "    </tr>\n",
       "    <tr>\n",
       "      <th>4</th>\n",
       "      <td>-0.098724</td>\n",
       "      <td>-1.103187</td>\n",
       "      <td>-0.345105</td>\n",
       "      <td>6</td>\n",
       "      <td>1</td>\n",
       "      <td>9</td>\n",
       "      <td>0</td>\n",
       "      <td>1</td>\n",
       "      <td>3</td>\n",
       "      <td>3</td>\n",
       "      <td>0</td>\n",
       "      <td>1</td>\n",
       "      <td>1</td>\n",
       "      <td>0</td>\n",
       "    </tr>\n",
       "  </tbody>\n",
       "</table>\n",
       "</div>"
      ],
      "text/plain": [
       "   cap-diameter  stem-height  stem-width  cap-shape  cap-surface  cap-color  \\\n",
       "0      0.534605    -0.680926    0.523282          2            2          8   \n",
       "1     -0.386405    -0.577213   -0.577333          6            0          5   \n",
       "2      0.135286     0.185819   -0.151169          2            2          0   \n",
       "3     -0.521659    -0.810568   -0.571157          2            3          2   \n",
       "4     -0.098724    -1.103187   -0.345105          6            1          9   \n",
       "\n",
       "   does-bruise-or-bleed  gill-attachment  gill-color  stem-color  has-ring  \\\n",
       "0                     0                0           3           3         0   \n",
       "1                     0                0           2           2         1   \n",
       "2                     0                3           3           1         0   \n",
       "3                     0                2           0           3         0   \n",
       "4                     0                1           3           3         0   \n",
       "\n",
       "   ring-type  habitat  season  \n",
       "0          1        0       0  \n",
       "1          3        0       3  \n",
       "2          1        3       3  \n",
       "3          1        0       2  \n",
       "4          1        1       0  "
      ]
     },
     "execution_count": 25,
     "metadata": {},
     "output_type": "execute_result"
    }
   ],
   "source": [
    "# feature and target selection\n",
    "cols = numerical_columns + categorical_columns\n",
    "X = train_data[cols]\n",
    "y = train_data['class']\n",
    "X.head(5)"
   ]
  },
  {
   "cell_type": "code",
   "execution_count": 26,
   "id": "0ca8d978",
   "metadata": {
    "execution": {
     "iopub.execute_input": "2024-08-27T16:39:07.170468Z",
     "iopub.status.busy": "2024-08-27T16:39:07.170059Z",
     "iopub.status.idle": "2024-08-27T16:39:07.178194Z",
     "shell.execute_reply": "2024-08-27T16:39:07.177215Z"
    },
    "papermill": {
     "duration": 0.023592,
     "end_time": "2024-08-27T16:39:07.180457",
     "exception": false,
     "start_time": "2024-08-27T16:39:07.156865",
     "status": "completed"
    },
    "tags": []
   },
   "outputs": [
    {
     "data": {
      "text/plain": [
       "(3116945, 14)"
      ]
     },
     "metadata": {},
     "output_type": "display_data"
    },
    {
     "data": {
      "text/plain": [
       "(3116945,)"
      ]
     },
     "metadata": {},
     "output_type": "display_data"
    }
   ],
   "source": [
    "display(X.shape)\n",
    "display(y.shape)"
   ]
  },
  {
   "cell_type": "code",
   "execution_count": 27,
   "id": "9831b37a",
   "metadata": {
    "execution": {
     "iopub.execute_input": "2024-08-27T16:39:07.206995Z",
     "iopub.status.busy": "2024-08-27T16:39:07.206582Z",
     "iopub.status.idle": "2024-08-27T16:39:09.357270Z",
     "shell.execute_reply": "2024-08-27T16:39:09.356133Z"
    },
    "papermill": {
     "duration": 2.167343,
     "end_time": "2024-08-27T16:39:09.360304",
     "exception": false,
     "start_time": "2024-08-27T16:39:07.192961",
     "status": "completed"
    },
    "tags": []
   },
   "outputs": [],
   "source": [
    "from sklearn.model_selection import train_test_split\n",
    "from sklearn.metrics import accuracy_score, classification_report\n",
    "\n",
    "X_train, X_valid, y_train, y_valid = train_test_split(X, y, test_size=0.2,stratify=y, random_state =365)"
   ]
  },
  {
   "cell_type": "code",
   "execution_count": 28,
   "id": "c3a44cf4",
   "metadata": {
    "execution": {
     "iopub.execute_input": "2024-08-27T16:39:09.387794Z",
     "iopub.status.busy": "2024-08-27T16:39:09.387238Z",
     "iopub.status.idle": "2024-08-27T16:40:00.669352Z",
     "shell.execute_reply": "2024-08-27T16:40:00.668149Z"
    },
    "papermill": {
     "duration": 51.309225,
     "end_time": "2024-08-27T16:40:00.683451",
     "exception": false,
     "start_time": "2024-08-27T16:39:09.374226",
     "status": "completed"
    },
    "tags": []
   },
   "outputs": [
    {
     "name": "stdout",
     "output_type": "stream",
     "text": [
      "Accuracy: 0.985\n",
      "\n",
      "Classification Report:\n",
      "               precision    recall  f1-score   support\n",
      "\n",
      "           0       0.98      0.98      0.98    282310\n",
      "           1       0.99      0.98      0.99    341079\n",
      "\n",
      "    accuracy                           0.98    623389\n",
      "   macro avg       0.98      0.98      0.98    623389\n",
      "weighted avg       0.98      0.98      0.98    623389\n",
      "\n"
     ]
    }
   ],
   "source": [
    "from xgboost import XGBClassifier\n",
    "\n",
    "model_xgb = XGBClassifier(colsample_bylevel= 0.9,\n",
    "                    learning_rate=0.2,\n",
    "                    colsample_bytree = 0.8, \n",
    "                    gamma=0.1,\n",
    "                    max_depth= 10,\n",
    "                    min_child_weight= 1,\n",
    "                    n_estimators= 250,\n",
    "                    nthread= 4,\n",
    "                    random_state= 365)\n",
    "model_xgb.fit(X_train, y_train)\n",
    "\n",
    "pred_2 = model_xgb.predict(X_valid)\n",
    "\n",
    "accuracy = accuracy_score(y_valid, pred_2)\n",
    "classification_rep = classification_report(y_valid, pred_2)\n",
    "\n",
    "print(f\"Accuracy: {accuracy:.3f}\")\n",
    "print(\"\\nClassification Report:\\n\", classification_rep)"
   ]
  },
  {
   "cell_type": "code",
   "execution_count": 29,
   "id": "523f4cc3",
   "metadata": {
    "execution": {
     "iopub.execute_input": "2024-08-27T16:40:00.709180Z",
     "iopub.status.busy": "2024-08-27T16:40:00.708773Z",
     "iopub.status.idle": "2024-08-27T16:40:00.987982Z",
     "shell.execute_reply": "2024-08-27T16:40:00.986678Z"
    },
    "papermill": {
     "duration": 0.294797,
     "end_time": "2024-08-27T16:40:00.990303",
     "exception": false,
     "start_time": "2024-08-27T16:40:00.695506",
     "status": "completed"
    },
    "tags": []
   },
   "outputs": [
    {
     "name": "stdout",
     "output_type": "stream",
     "text": [
      "Matthews Correlation Coefficient (MCC): 0.9689056906015866\n"
     ]
    }
   ],
   "source": [
    "from sklearn.metrics import matthews_corrcoef\n",
    "mcc = matthews_corrcoef(y_valid, pred_2)\n",
    "print(f'Matthews Correlation Coefficient (MCC): {mcc}')"
   ]
  },
  {
   "cell_type": "code",
   "execution_count": 30,
   "id": "156975d3",
   "metadata": {
    "execution": {
     "iopub.execute_input": "2024-08-27T16:40:01.016466Z",
     "iopub.status.busy": "2024-08-27T16:40:01.016050Z",
     "iopub.status.idle": "2024-08-27T16:41:02.560756Z",
     "shell.execute_reply": "2024-08-27T16:41:02.559668Z"
    },
    "papermill": {
     "duration": 61.572618,
     "end_time": "2024-08-27T16:41:02.575046",
     "exception": false,
     "start_time": "2024-08-27T16:40:01.002428",
     "status": "completed"
    },
    "tags": []
   },
   "outputs": [
    {
     "data": {
      "text/html": [
       "<style>#sk-container-id-1 {color: black;background-color: white;}#sk-container-id-1 pre{padding: 0;}#sk-container-id-1 div.sk-toggleable {background-color: white;}#sk-container-id-1 label.sk-toggleable__label {cursor: pointer;display: block;width: 100%;margin-bottom: 0;padding: 0.3em;box-sizing: border-box;text-align: center;}#sk-container-id-1 label.sk-toggleable__label-arrow:before {content: \"▸\";float: left;margin-right: 0.25em;color: #696969;}#sk-container-id-1 label.sk-toggleable__label-arrow:hover:before {color: black;}#sk-container-id-1 div.sk-estimator:hover label.sk-toggleable__label-arrow:before {color: black;}#sk-container-id-1 div.sk-toggleable__content {max-height: 0;max-width: 0;overflow: hidden;text-align: left;background-color: #f0f8ff;}#sk-container-id-1 div.sk-toggleable__content pre {margin: 0.2em;color: black;border-radius: 0.25em;background-color: #f0f8ff;}#sk-container-id-1 input.sk-toggleable__control:checked~div.sk-toggleable__content {max-height: 200px;max-width: 100%;overflow: auto;}#sk-container-id-1 input.sk-toggleable__control:checked~label.sk-toggleable__label-arrow:before {content: \"▾\";}#sk-container-id-1 div.sk-estimator input.sk-toggleable__control:checked~label.sk-toggleable__label {background-color: #d4ebff;}#sk-container-id-1 div.sk-label input.sk-toggleable__control:checked~label.sk-toggleable__label {background-color: #d4ebff;}#sk-container-id-1 input.sk-hidden--visually {border: 0;clip: rect(1px 1px 1px 1px);clip: rect(1px, 1px, 1px, 1px);height: 1px;margin: -1px;overflow: hidden;padding: 0;position: absolute;width: 1px;}#sk-container-id-1 div.sk-estimator {font-family: monospace;background-color: #f0f8ff;border: 1px dotted black;border-radius: 0.25em;box-sizing: border-box;margin-bottom: 0.5em;}#sk-container-id-1 div.sk-estimator:hover {background-color: #d4ebff;}#sk-container-id-1 div.sk-parallel-item::after {content: \"\";width: 100%;border-bottom: 1px solid gray;flex-grow: 1;}#sk-container-id-1 div.sk-label:hover label.sk-toggleable__label {background-color: #d4ebff;}#sk-container-id-1 div.sk-serial::before {content: \"\";position: absolute;border-left: 1px solid gray;box-sizing: border-box;top: 0;bottom: 0;left: 50%;z-index: 0;}#sk-container-id-1 div.sk-serial {display: flex;flex-direction: column;align-items: center;background-color: white;padding-right: 0.2em;padding-left: 0.2em;position: relative;}#sk-container-id-1 div.sk-item {position: relative;z-index: 1;}#sk-container-id-1 div.sk-parallel {display: flex;align-items: stretch;justify-content: center;background-color: white;position: relative;}#sk-container-id-1 div.sk-item::before, #sk-container-id-1 div.sk-parallel-item::before {content: \"\";position: absolute;border-left: 1px solid gray;box-sizing: border-box;top: 0;bottom: 0;left: 50%;z-index: -1;}#sk-container-id-1 div.sk-parallel-item {display: flex;flex-direction: column;z-index: 1;position: relative;background-color: white;}#sk-container-id-1 div.sk-parallel-item:first-child::after {align-self: flex-end;width: 50%;}#sk-container-id-1 div.sk-parallel-item:last-child::after {align-self: flex-start;width: 50%;}#sk-container-id-1 div.sk-parallel-item:only-child::after {width: 0;}#sk-container-id-1 div.sk-dashed-wrapped {border: 1px dashed gray;margin: 0 0.4em 0.5em 0.4em;box-sizing: border-box;padding-bottom: 0.4em;background-color: white;}#sk-container-id-1 div.sk-label label {font-family: monospace;font-weight: bold;display: inline-block;line-height: 1.2em;}#sk-container-id-1 div.sk-label-container {text-align: center;}#sk-container-id-1 div.sk-container {/* jupyter's `normalize.less` sets `[hidden] { display: none; }` but bootstrap.min.css set `[hidden] { display: none !important; }` so we also need the `!important` here to be able to override the default hidden behavior on the sphinx rendered scikit-learn.org. See: https://github.com/scikit-learn/scikit-learn/issues/21755 */display: inline-block !important;position: relative;}#sk-container-id-1 div.sk-text-repr-fallback {display: none;}</style><div id=\"sk-container-id-1\" class=\"sk-top-container\"><div class=\"sk-text-repr-fallback\"><pre>XGBClassifier(base_score=None, booster=None, callbacks=None,\n",
       "              colsample_bylevel=0.9, colsample_bynode=None,\n",
       "              colsample_bytree=0.8, device=None, early_stopping_rounds=None,\n",
       "              enable_categorical=False, eval_metric=None, feature_types=None,\n",
       "              gamma=0.1, grow_policy=None, importance_type=None,\n",
       "              interaction_constraints=None, learning_rate=0.2, max_bin=None,\n",
       "              max_cat_threshold=None, max_cat_to_onehot=None,\n",
       "              max_delta_step=None, max_depth=10, max_leaves=None,\n",
       "              min_child_weight=1, missing=nan, monotone_constraints=None,\n",
       "              multi_strategy=None, n_estimators=250, n_jobs=None, nthread=4,\n",
       "              num_parallel_tree=None, ...)</pre><b>In a Jupyter environment, please rerun this cell to show the HTML representation or trust the notebook. <br />On GitHub, the HTML representation is unable to render, please try loading this page with nbviewer.org.</b></div><div class=\"sk-container\" hidden><div class=\"sk-item\"><div class=\"sk-estimator sk-toggleable\"><input class=\"sk-toggleable__control sk-hidden--visually\" id=\"sk-estimator-id-1\" type=\"checkbox\" checked><label for=\"sk-estimator-id-1\" class=\"sk-toggleable__label sk-toggleable__label-arrow\">XGBClassifier</label><div class=\"sk-toggleable__content\"><pre>XGBClassifier(base_score=None, booster=None, callbacks=None,\n",
       "              colsample_bylevel=0.9, colsample_bynode=None,\n",
       "              colsample_bytree=0.8, device=None, early_stopping_rounds=None,\n",
       "              enable_categorical=False, eval_metric=None, feature_types=None,\n",
       "              gamma=0.1, grow_policy=None, importance_type=None,\n",
       "              interaction_constraints=None, learning_rate=0.2, max_bin=None,\n",
       "              max_cat_threshold=None, max_cat_to_onehot=None,\n",
       "              max_delta_step=None, max_depth=10, max_leaves=None,\n",
       "              min_child_weight=1, missing=nan, monotone_constraints=None,\n",
       "              multi_strategy=None, n_estimators=250, n_jobs=None, nthread=4,\n",
       "              num_parallel_tree=None, ...)</pre></div></div></div></div></div>"
      ],
      "text/plain": [
       "XGBClassifier(base_score=None, booster=None, callbacks=None,\n",
       "              colsample_bylevel=0.9, colsample_bynode=None,\n",
       "              colsample_bytree=0.8, device=None, early_stopping_rounds=None,\n",
       "              enable_categorical=False, eval_metric=None, feature_types=None,\n",
       "              gamma=0.1, grow_policy=None, importance_type=None,\n",
       "              interaction_constraints=None, learning_rate=0.2, max_bin=None,\n",
       "              max_cat_threshold=None, max_cat_to_onehot=None,\n",
       "              max_delta_step=None, max_depth=10, max_leaves=None,\n",
       "              min_child_weight=1, missing=nan, monotone_constraints=None,\n",
       "              multi_strategy=None, n_estimators=250, n_jobs=None, nthread=4,\n",
       "              num_parallel_tree=None, ...)"
      ]
     },
     "execution_count": 30,
     "metadata": {},
     "output_type": "execute_result"
    }
   ],
   "source": [
    "# let's train the whole dataset\n",
    "model_xgb.fit(X,y)"
   ]
  },
  {
   "cell_type": "code",
   "execution_count": 31,
   "id": "a291afba",
   "metadata": {
    "execution": {
     "iopub.execute_input": "2024-08-27T16:41:02.601329Z",
     "iopub.status.busy": "2024-08-27T16:41:02.600923Z",
     "iopub.status.idle": "2024-08-27T16:41:02.616306Z",
     "shell.execute_reply": "2024-08-27T16:41:02.615338Z"
    },
    "papermill": {
     "duration": 0.031038,
     "end_time": "2024-08-27T16:41:02.618348",
     "exception": false,
     "start_time": "2024-08-27T16:41:02.587310",
     "status": "completed"
    },
    "tags": []
   },
   "outputs": [
    {
     "data": {
      "text/html": [
       "<div>\n",
       "<style scoped>\n",
       "    .dataframe tbody tr th:only-of-type {\n",
       "        vertical-align: middle;\n",
       "    }\n",
       "\n",
       "    .dataframe tbody tr th {\n",
       "        vertical-align: top;\n",
       "    }\n",
       "\n",
       "    .dataframe thead th {\n",
       "        text-align: right;\n",
       "    }\n",
       "</style>\n",
       "<table border=\"1\" class=\"dataframe\">\n",
       "  <thead>\n",
       "    <tr style=\"text-align: right;\">\n",
       "      <th></th>\n",
       "      <th>id</th>\n",
       "      <th>cap-diameter</th>\n",
       "      <th>cap-shape</th>\n",
       "      <th>cap-surface</th>\n",
       "      <th>cap-color</th>\n",
       "      <th>does-bruise-or-bleed</th>\n",
       "      <th>gill-attachment</th>\n",
       "      <th>gill-color</th>\n",
       "      <th>stem-height</th>\n",
       "      <th>stem-width</th>\n",
       "      <th>stem-color</th>\n",
       "      <th>has-ring</th>\n",
       "      <th>ring-type</th>\n",
       "      <th>habitat</th>\n",
       "      <th>season</th>\n",
       "    </tr>\n",
       "  </thead>\n",
       "  <tbody>\n",
       "    <tr>\n",
       "      <th>0</th>\n",
       "      <td>3116945</td>\n",
       "      <td>0.498097</td>\n",
       "      <td>6</td>\n",
       "      <td>2</td>\n",
       "      <td>4</td>\n",
       "      <td>1</td>\n",
       "      <td>0</td>\n",
       "      <td>3</td>\n",
       "      <td>1.772335</td>\n",
       "      <td>0.737221</td>\n",
       "      <td>3</td>\n",
       "      <td>1</td>\n",
       "      <td>1</td>\n",
       "      <td>0</td>\n",
       "      <td>0</td>\n",
       "    </tr>\n",
       "    <tr>\n",
       "      <th>1</th>\n",
       "      <td>3116946</td>\n",
       "      <td>0.126735</td>\n",
       "      <td>3</td>\n",
       "      <td>2</td>\n",
       "      <td>5</td>\n",
       "      <td>0</td>\n",
       "      <td>0</td>\n",
       "      <td>3</td>\n",
       "      <td>-1.880901</td>\n",
       "      <td>-0.049181</td>\n",
       "      <td>1</td>\n",
       "      <td>0</td>\n",
       "      <td>1</td>\n",
       "      <td>0</td>\n",
       "      <td>0</td>\n",
       "    </tr>\n",
       "    <tr>\n",
       "      <th>2</th>\n",
       "      <td>3116947</td>\n",
       "      <td>-0.919055</td>\n",
       "      <td>0</td>\n",
       "      <td>2</td>\n",
       "      <td>4</td>\n",
       "      <td>0</td>\n",
       "      <td>0</td>\n",
       "      <td>2</td>\n",
       "      <td>-0.061693</td>\n",
       "      <td>-0.988666</td>\n",
       "      <td>1</td>\n",
       "      <td>0</td>\n",
       "      <td>1</td>\n",
       "      <td>0</td>\n",
       "      <td>1</td>\n",
       "    </tr>\n",
       "    <tr>\n",
       "      <th>3</th>\n",
       "      <td>3116948</td>\n",
       "      <td>-0.605318</td>\n",
       "      <td>6</td>\n",
       "      <td>2</td>\n",
       "      <td>4</td>\n",
       "      <td>0</td>\n",
       "      <td>2</td>\n",
       "      <td>2</td>\n",
       "      <td>-0.506306</td>\n",
       "      <td>-0.325718</td>\n",
       "      <td>3</td>\n",
       "      <td>1</td>\n",
       "      <td>3</td>\n",
       "      <td>0</td>\n",
       "      <td>2</td>\n",
       "    </tr>\n",
       "    <tr>\n",
       "      <th>4</th>\n",
       "      <td>3116949</td>\n",
       "      <td>-0.029067</td>\n",
       "      <td>6</td>\n",
       "      <td>0</td>\n",
       "      <td>10</td>\n",
       "      <td>0</td>\n",
       "      <td>0</td>\n",
       "      <td>3</td>\n",
       "      <td>0.142088</td>\n",
       "      <td>0.315009</td>\n",
       "      <td>4</td>\n",
       "      <td>1</td>\n",
       "      <td>1</td>\n",
       "      <td>0</td>\n",
       "      <td>2</td>\n",
       "    </tr>\n",
       "  </tbody>\n",
       "</table>\n",
       "</div>"
      ],
      "text/plain": [
       "        id  cap-diameter  cap-shape  cap-surface  cap-color  \\\n",
       "0  3116945      0.498097          6            2          4   \n",
       "1  3116946      0.126735          3            2          5   \n",
       "2  3116947     -0.919055          0            2          4   \n",
       "3  3116948     -0.605318          6            2          4   \n",
       "4  3116949     -0.029067          6            0         10   \n",
       "\n",
       "   does-bruise-or-bleed  gill-attachment  gill-color  stem-height  stem-width  \\\n",
       "0                     1                0           3     1.772335    0.737221   \n",
       "1                     0                0           3    -1.880901   -0.049181   \n",
       "2                     0                0           2    -0.061693   -0.988666   \n",
       "3                     0                2           2    -0.506306   -0.325718   \n",
       "4                     0                0           3     0.142088    0.315009   \n",
       "\n",
       "   stem-color  has-ring  ring-type  habitat  season  \n",
       "0           3         1          1        0       0  \n",
       "1           1         0          1        0       0  \n",
       "2           1         0          1        0       1  \n",
       "3           3         1          3        0       2  \n",
       "4           4         1          1        0       2  "
      ]
     },
     "execution_count": 31,
     "metadata": {},
     "output_type": "execute_result"
    }
   ],
   "source": [
    "test_data.head()"
   ]
  },
  {
   "cell_type": "code",
   "execution_count": 32,
   "id": "b81d60b5",
   "metadata": {
    "execution": {
     "iopub.execute_input": "2024-08-27T16:41:02.646233Z",
     "iopub.status.busy": "2024-08-27T16:41:02.644977Z",
     "iopub.status.idle": "2024-08-27T16:41:02.781035Z",
     "shell.execute_reply": "2024-08-27T16:41:02.779854Z"
    },
    "papermill": {
     "duration": 0.152136,
     "end_time": "2024-08-27T16:41:02.783398",
     "exception": false,
     "start_time": "2024-08-27T16:41:02.631262",
     "status": "completed"
    },
    "tags": []
   },
   "outputs": [
    {
     "data": {
      "text/plain": [
       "(2077964, 14)"
      ]
     },
     "execution_count": 32,
     "metadata": {},
     "output_type": "execute_result"
    }
   ],
   "source": [
    "test_data = test_data[cols]\n",
    "test_data.shape"
   ]
  },
  {
   "cell_type": "code",
   "execution_count": 33,
   "id": "eef5d3d6",
   "metadata": {
    "execution": {
     "iopub.execute_input": "2024-08-27T16:41:02.811175Z",
     "iopub.status.busy": "2024-08-27T16:41:02.810771Z",
     "iopub.status.idle": "2024-08-27T16:41:11.813021Z",
     "shell.execute_reply": "2024-08-27T16:41:11.811773Z"
    },
    "papermill": {
     "duration": 9.018517,
     "end_time": "2024-08-27T16:41:11.815246",
     "exception": false,
     "start_time": "2024-08-27T16:41:02.796729",
     "status": "completed"
    },
    "tags": []
   },
   "outputs": [
    {
     "data": {
      "text/plain": [
       "array([0, 1, 1, ..., 1, 0, 0])"
      ]
     },
     "execution_count": 33,
     "metadata": {},
     "output_type": "execute_result"
    }
   ],
   "source": [
    "prediction = model_xgb.predict(test_data)\n",
    "prediction"
   ]
  },
  {
   "cell_type": "code",
   "execution_count": 34,
   "id": "d6720788",
   "metadata": {
    "execution": {
     "iopub.execute_input": "2024-08-27T16:41:11.843297Z",
     "iopub.status.busy": "2024-08-27T16:41:11.842395Z",
     "iopub.status.idle": "2024-08-27T16:41:11.852528Z",
     "shell.execute_reply": "2024-08-27T16:41:11.851436Z"
    },
    "papermill": {
     "duration": 0.02655,
     "end_time": "2024-08-27T16:41:11.854803",
     "exception": false,
     "start_time": "2024-08-27T16:41:11.828253",
     "status": "completed"
    },
    "tags": []
   },
   "outputs": [
    {
     "data": {
      "text/html": [
       "<div>\n",
       "<style scoped>\n",
       "    .dataframe tbody tr th:only-of-type {\n",
       "        vertical-align: middle;\n",
       "    }\n",
       "\n",
       "    .dataframe tbody tr th {\n",
       "        vertical-align: top;\n",
       "    }\n",
       "\n",
       "    .dataframe thead th {\n",
       "        text-align: right;\n",
       "    }\n",
       "</style>\n",
       "<table border=\"1\" class=\"dataframe\">\n",
       "  <thead>\n",
       "    <tr style=\"text-align: right;\">\n",
       "      <th></th>\n",
       "      <th>id</th>\n",
       "      <th>class</th>\n",
       "    </tr>\n",
       "  </thead>\n",
       "  <tbody>\n",
       "    <tr>\n",
       "      <th>0</th>\n",
       "      <td>3116945</td>\n",
       "      <td>e</td>\n",
       "    </tr>\n",
       "    <tr>\n",
       "      <th>1</th>\n",
       "      <td>3116946</td>\n",
       "      <td>e</td>\n",
       "    </tr>\n",
       "    <tr>\n",
       "      <th>2</th>\n",
       "      <td>3116947</td>\n",
       "      <td>e</td>\n",
       "    </tr>\n",
       "    <tr>\n",
       "      <th>3</th>\n",
       "      <td>3116948</td>\n",
       "      <td>e</td>\n",
       "    </tr>\n",
       "    <tr>\n",
       "      <th>4</th>\n",
       "      <td>3116949</td>\n",
       "      <td>e</td>\n",
       "    </tr>\n",
       "  </tbody>\n",
       "</table>\n",
       "</div>"
      ],
      "text/plain": [
       "        id class\n",
       "0  3116945     e\n",
       "1  3116946     e\n",
       "2  3116947     e\n",
       "3  3116948     e\n",
       "4  3116949     e"
      ]
     },
     "execution_count": 34,
     "metadata": {},
     "output_type": "execute_result"
    }
   ],
   "source": [
    "sample_submission.head()"
   ]
  },
  {
   "cell_type": "code",
   "execution_count": 35,
   "id": "9f0d03d3",
   "metadata": {
    "execution": {
     "iopub.execute_input": "2024-08-27T16:41:11.883848Z",
     "iopub.status.busy": "2024-08-27T16:41:11.883056Z",
     "iopub.status.idle": "2024-08-27T16:41:11.994571Z",
     "shell.execute_reply": "2024-08-27T16:41:11.993537Z"
    },
    "papermill": {
     "duration": 0.128572,
     "end_time": "2024-08-27T16:41:11.996707",
     "exception": false,
     "start_time": "2024-08-27T16:41:11.868135",
     "status": "completed"
    },
    "tags": []
   },
   "outputs": [
    {
     "data": {
      "text/html": [
       "<div>\n",
       "<style scoped>\n",
       "    .dataframe tbody tr th:only-of-type {\n",
       "        vertical-align: middle;\n",
       "    }\n",
       "\n",
       "    .dataframe tbody tr th {\n",
       "        vertical-align: top;\n",
       "    }\n",
       "\n",
       "    .dataframe thead th {\n",
       "        text-align: right;\n",
       "    }\n",
       "</style>\n",
       "<table border=\"1\" class=\"dataframe\">\n",
       "  <thead>\n",
       "    <tr style=\"text-align: right;\">\n",
       "      <th></th>\n",
       "      <th>id</th>\n",
       "      <th>class</th>\n",
       "    </tr>\n",
       "  </thead>\n",
       "  <tbody>\n",
       "    <tr>\n",
       "      <th>0</th>\n",
       "      <td>3116945</td>\n",
       "      <td>e</td>\n",
       "    </tr>\n",
       "    <tr>\n",
       "      <th>1</th>\n",
       "      <td>3116946</td>\n",
       "      <td>p</td>\n",
       "    </tr>\n",
       "    <tr>\n",
       "      <th>2</th>\n",
       "      <td>3116947</td>\n",
       "      <td>p</td>\n",
       "    </tr>\n",
       "    <tr>\n",
       "      <th>3</th>\n",
       "      <td>3116948</td>\n",
       "      <td>p</td>\n",
       "    </tr>\n",
       "    <tr>\n",
       "      <th>4</th>\n",
       "      <td>3116949</td>\n",
       "      <td>e</td>\n",
       "    </tr>\n",
       "  </tbody>\n",
       "</table>\n",
       "</div>"
      ],
      "text/plain": [
       "        id class\n",
       "0  3116945     e\n",
       "1  3116946     p\n",
       "2  3116947     p\n",
       "3  3116948     p\n",
       "4  3116949     e"
      ]
     },
     "execution_count": 35,
     "metadata": {},
     "output_type": "execute_result"
    }
   ],
   "source": [
    "prediction_class = LE.inverse_transform(prediction)\n",
    "sample_submission['class'] = prediction_class\n",
    "sample_submission.head(5)"
   ]
  },
  {
   "cell_type": "code",
   "execution_count": 36,
   "id": "461dd304",
   "metadata": {
    "execution": {
     "iopub.execute_input": "2024-08-27T16:41:12.025164Z",
     "iopub.status.busy": "2024-08-27T16:41:12.024767Z",
     "iopub.status.idle": "2024-08-27T16:41:13.575041Z",
     "shell.execute_reply": "2024-08-27T16:41:13.574047Z"
    },
    "papermill": {
     "duration": 1.567614,
     "end_time": "2024-08-27T16:41:13.577552",
     "exception": false,
     "start_time": "2024-08-27T16:41:12.009938",
     "status": "completed"
    },
    "tags": []
   },
   "outputs": [],
   "source": [
    "sample_submission.to_csv(\"submission.csv\", index=False)"
   ]
  }
 ],
 "metadata": {
  "kaggle": {
   "accelerator": "none",
   "dataSources": [
    {
     "databundleVersionId": 9045607,
     "sourceId": 76727,
     "sourceType": "competition"
    }
   ],
   "dockerImageVersionId": 30761,
   "isGpuEnabled": false,
   "isInternetEnabled": true,
   "language": "python",
   "sourceType": "notebook"
  },
  "kernelspec": {
   "display_name": "Python 3",
   "language": "python",
   "name": "python3"
  },
  "language_info": {
   "codemirror_mode": {
    "name": "ipython",
    "version": 3
   },
   "file_extension": ".py",
   "mimetype": "text/x-python",
   "name": "python",
   "nbconvert_exporter": "python",
   "pygments_lexer": "ipython3",
   "version": "3.10.14"
  },
  "papermill": {
   "default_parameters": {},
   "duration": 205.269726,
   "end_time": "2024-08-27T16:41:14.713141",
   "environment_variables": {},
   "exception": null,
   "input_path": "__notebook__.ipynb",
   "output_path": "__notebook__.ipynb",
   "parameters": {},
   "start_time": "2024-08-27T16:37:49.443415",
   "version": "2.6.0"
  }
 },
 "nbformat": 4,
 "nbformat_minor": 5
}
