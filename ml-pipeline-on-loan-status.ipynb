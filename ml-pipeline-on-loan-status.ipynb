{
 "cells": [
  {
   "cell_type": "code",
   "execution_count": 1,
   "id": "04f3cf33",
   "metadata": {
    "_cell_guid": "b1076dfc-b9ad-4769-8c92-a6c4dae69d19",
    "_uuid": "8f2839f25d086af736a60e9eeb907d3b93b6e0e5",
    "execution": {
     "iopub.execute_input": "2024-10-04T02:43:08.932261Z",
     "iopub.status.busy": "2024-10-04T02:43:08.931825Z",
     "iopub.status.idle": "2024-10-04T02:43:09.912574Z",
     "shell.execute_reply": "2024-10-04T02:43:09.910880Z"
    },
    "papermill": {
     "duration": 0.993764,
     "end_time": "2024-10-04T02:43:09.915152",
     "exception": false,
     "start_time": "2024-10-04T02:43:08.921388",
     "status": "completed"
    },
    "tags": []
   },
   "outputs": [
    {
     "name": "stdout",
     "output_type": "stream",
     "text": [
      "/kaggle/input/playground-series-s4e10/sample_submission.csv\n",
      "/kaggle/input/playground-series-s4e10/train.csv\n",
      "/kaggle/input/playground-series-s4e10/test.csv\n"
     ]
    }
   ],
   "source": [
    "# This Python 3 environment comes with many helpful analytics libraries installed\n",
    "# It is defined by the kaggle/python Docker image: https://github.com/kaggle/docker-python\n",
    "# For example, here's several helpful packages to load\n",
    "\n",
    "import numpy as np # linear algebra\n",
    "import pandas as pd # data processing, CSV file I/O (e.g. pd.read_csv)\n",
    "\n",
    "# Input data files are available in the read-only \"../input/\" directory\n",
    "# For example, running this (by clicking run or pressing Shift+Enter) will list all files under the input directory\n",
    "\n",
    "import os\n",
    "for dirname, _, filenames in os.walk('/kaggle/input'):\n",
    "    for filename in filenames:\n",
    "        print(os.path.join(dirname, filename))\n",
    "\n",
    "# You can write up to 20GB to the current directory (/kaggle/working/) that gets preserved as output when you create a version using \"Save & Run All\" \n",
    "# You can also write temporary files to /kaggle/temp/, but they won't be saved outside of the current session"
   ]
  },
  {
   "cell_type": "markdown",
   "id": "cec44ad5",
   "metadata": {
    "execution": {
     "iopub.execute_input": "2024-10-04T02:07:48.995777Z",
     "iopub.status.busy": "2024-10-04T02:07:48.995175Z",
     "iopub.status.idle": "2024-10-04T02:07:49.002293Z",
     "shell.execute_reply": "2024-10-04T02:07:49.000284Z",
     "shell.execute_reply.started": "2024-10-04T02:07:48.995727Z"
    },
    "papermill": {
     "duration": 0.007793,
     "end_time": "2024-10-04T02:43:09.931577",
     "exception": false,
     "start_time": "2024-10-04T02:43:09.923784",
     "status": "completed"
    },
    "tags": []
   },
   "source": [
    "## Loading datasets"
   ]
  },
  {
   "cell_type": "code",
   "execution_count": 2,
   "id": "d2e27bc2",
   "metadata": {
    "execution": {
     "iopub.execute_input": "2024-10-04T02:43:09.950223Z",
     "iopub.status.busy": "2024-10-04T02:43:09.949171Z",
     "iopub.status.idle": "2024-10-04T02:43:10.259270Z",
     "shell.execute_reply": "2024-10-04T02:43:10.258177Z"
    },
    "papermill": {
     "duration": 0.321953,
     "end_time": "2024-10-04T02:43:10.261600",
     "exception": false,
     "start_time": "2024-10-04T02:43:09.939647",
     "status": "completed"
    },
    "tags": []
   },
   "outputs": [
    {
     "data": {
      "text/html": [
       "<div>\n",
       "<style scoped>\n",
       "    .dataframe tbody tr th:only-of-type {\n",
       "        vertical-align: middle;\n",
       "    }\n",
       "\n",
       "    .dataframe tbody tr th {\n",
       "        vertical-align: top;\n",
       "    }\n",
       "\n",
       "    .dataframe thead th {\n",
       "        text-align: right;\n",
       "    }\n",
       "</style>\n",
       "<table border=\"1\" class=\"dataframe\">\n",
       "  <thead>\n",
       "    <tr style=\"text-align: right;\">\n",
       "      <th></th>\n",
       "      <th>id</th>\n",
       "      <th>person_age</th>\n",
       "      <th>person_income</th>\n",
       "      <th>person_home_ownership</th>\n",
       "      <th>person_emp_length</th>\n",
       "      <th>loan_intent</th>\n",
       "      <th>loan_grade</th>\n",
       "      <th>loan_amnt</th>\n",
       "      <th>loan_int_rate</th>\n",
       "      <th>loan_percent_income</th>\n",
       "      <th>cb_person_default_on_file</th>\n",
       "      <th>cb_person_cred_hist_length</th>\n",
       "      <th>loan_status</th>\n",
       "    </tr>\n",
       "  </thead>\n",
       "  <tbody>\n",
       "    <tr>\n",
       "      <th>0</th>\n",
       "      <td>0</td>\n",
       "      <td>37</td>\n",
       "      <td>35000</td>\n",
       "      <td>RENT</td>\n",
       "      <td>0.0</td>\n",
       "      <td>EDUCATION</td>\n",
       "      <td>B</td>\n",
       "      <td>6000</td>\n",
       "      <td>11.49</td>\n",
       "      <td>0.17</td>\n",
       "      <td>N</td>\n",
       "      <td>14</td>\n",
       "      <td>0</td>\n",
       "    </tr>\n",
       "    <tr>\n",
       "      <th>1</th>\n",
       "      <td>1</td>\n",
       "      <td>22</td>\n",
       "      <td>56000</td>\n",
       "      <td>OWN</td>\n",
       "      <td>6.0</td>\n",
       "      <td>MEDICAL</td>\n",
       "      <td>C</td>\n",
       "      <td>4000</td>\n",
       "      <td>13.35</td>\n",
       "      <td>0.07</td>\n",
       "      <td>N</td>\n",
       "      <td>2</td>\n",
       "      <td>0</td>\n",
       "    </tr>\n",
       "    <tr>\n",
       "      <th>2</th>\n",
       "      <td>2</td>\n",
       "      <td>29</td>\n",
       "      <td>28800</td>\n",
       "      <td>OWN</td>\n",
       "      <td>8.0</td>\n",
       "      <td>PERSONAL</td>\n",
       "      <td>A</td>\n",
       "      <td>6000</td>\n",
       "      <td>8.90</td>\n",
       "      <td>0.21</td>\n",
       "      <td>N</td>\n",
       "      <td>10</td>\n",
       "      <td>0</td>\n",
       "    </tr>\n",
       "    <tr>\n",
       "      <th>3</th>\n",
       "      <td>3</td>\n",
       "      <td>30</td>\n",
       "      <td>70000</td>\n",
       "      <td>RENT</td>\n",
       "      <td>14.0</td>\n",
       "      <td>VENTURE</td>\n",
       "      <td>B</td>\n",
       "      <td>12000</td>\n",
       "      <td>11.11</td>\n",
       "      <td>0.17</td>\n",
       "      <td>N</td>\n",
       "      <td>5</td>\n",
       "      <td>0</td>\n",
       "    </tr>\n",
       "    <tr>\n",
       "      <th>4</th>\n",
       "      <td>4</td>\n",
       "      <td>22</td>\n",
       "      <td>60000</td>\n",
       "      <td>RENT</td>\n",
       "      <td>2.0</td>\n",
       "      <td>MEDICAL</td>\n",
       "      <td>A</td>\n",
       "      <td>6000</td>\n",
       "      <td>6.92</td>\n",
       "      <td>0.10</td>\n",
       "      <td>N</td>\n",
       "      <td>3</td>\n",
       "      <td>0</td>\n",
       "    </tr>\n",
       "    <tr>\n",
       "      <th>...</th>\n",
       "      <td>...</td>\n",
       "      <td>...</td>\n",
       "      <td>...</td>\n",
       "      <td>...</td>\n",
       "      <td>...</td>\n",
       "      <td>...</td>\n",
       "      <td>...</td>\n",
       "      <td>...</td>\n",
       "      <td>...</td>\n",
       "      <td>...</td>\n",
       "      <td>...</td>\n",
       "      <td>...</td>\n",
       "      <td>...</td>\n",
       "    </tr>\n",
       "    <tr>\n",
       "      <th>58640</th>\n",
       "      <td>58640</td>\n",
       "      <td>34</td>\n",
       "      <td>120000</td>\n",
       "      <td>MORTGAGE</td>\n",
       "      <td>5.0</td>\n",
       "      <td>EDUCATION</td>\n",
       "      <td>D</td>\n",
       "      <td>25000</td>\n",
       "      <td>15.95</td>\n",
       "      <td>0.21</td>\n",
       "      <td>Y</td>\n",
       "      <td>10</td>\n",
       "      <td>0</td>\n",
       "    </tr>\n",
       "    <tr>\n",
       "      <th>58641</th>\n",
       "      <td>58641</td>\n",
       "      <td>28</td>\n",
       "      <td>28800</td>\n",
       "      <td>RENT</td>\n",
       "      <td>0.0</td>\n",
       "      <td>MEDICAL</td>\n",
       "      <td>C</td>\n",
       "      <td>10000</td>\n",
       "      <td>12.73</td>\n",
       "      <td>0.35</td>\n",
       "      <td>N</td>\n",
       "      <td>8</td>\n",
       "      <td>1</td>\n",
       "    </tr>\n",
       "    <tr>\n",
       "      <th>58642</th>\n",
       "      <td>58642</td>\n",
       "      <td>23</td>\n",
       "      <td>44000</td>\n",
       "      <td>RENT</td>\n",
       "      <td>7.0</td>\n",
       "      <td>EDUCATION</td>\n",
       "      <td>D</td>\n",
       "      <td>6800</td>\n",
       "      <td>16.00</td>\n",
       "      <td>0.15</td>\n",
       "      <td>N</td>\n",
       "      <td>2</td>\n",
       "      <td>1</td>\n",
       "    </tr>\n",
       "    <tr>\n",
       "      <th>58643</th>\n",
       "      <td>58643</td>\n",
       "      <td>22</td>\n",
       "      <td>30000</td>\n",
       "      <td>RENT</td>\n",
       "      <td>2.0</td>\n",
       "      <td>EDUCATION</td>\n",
       "      <td>A</td>\n",
       "      <td>5000</td>\n",
       "      <td>8.90</td>\n",
       "      <td>0.17</td>\n",
       "      <td>N</td>\n",
       "      <td>3</td>\n",
       "      <td>0</td>\n",
       "    </tr>\n",
       "    <tr>\n",
       "      <th>58644</th>\n",
       "      <td>58644</td>\n",
       "      <td>31</td>\n",
       "      <td>75000</td>\n",
       "      <td>MORTGAGE</td>\n",
       "      <td>2.0</td>\n",
       "      <td>VENTURE</td>\n",
       "      <td>B</td>\n",
       "      <td>15000</td>\n",
       "      <td>11.11</td>\n",
       "      <td>0.20</td>\n",
       "      <td>N</td>\n",
       "      <td>5</td>\n",
       "      <td>0</td>\n",
       "    </tr>\n",
       "  </tbody>\n",
       "</table>\n",
       "<p>58645 rows × 13 columns</p>\n",
       "</div>"
      ],
      "text/plain": [
       "          id  person_age  person_income person_home_ownership  \\\n",
       "0          0          37          35000                  RENT   \n",
       "1          1          22          56000                   OWN   \n",
       "2          2          29          28800                   OWN   \n",
       "3          3          30          70000                  RENT   \n",
       "4          4          22          60000                  RENT   \n",
       "...      ...         ...            ...                   ...   \n",
       "58640  58640          34         120000              MORTGAGE   \n",
       "58641  58641          28          28800                  RENT   \n",
       "58642  58642          23          44000                  RENT   \n",
       "58643  58643          22          30000                  RENT   \n",
       "58644  58644          31          75000              MORTGAGE   \n",
       "\n",
       "       person_emp_length loan_intent loan_grade  loan_amnt  loan_int_rate  \\\n",
       "0                    0.0   EDUCATION          B       6000          11.49   \n",
       "1                    6.0     MEDICAL          C       4000          13.35   \n",
       "2                    8.0    PERSONAL          A       6000           8.90   \n",
       "3                   14.0     VENTURE          B      12000          11.11   \n",
       "4                    2.0     MEDICAL          A       6000           6.92   \n",
       "...                  ...         ...        ...        ...            ...   \n",
       "58640                5.0   EDUCATION          D      25000          15.95   \n",
       "58641                0.0     MEDICAL          C      10000          12.73   \n",
       "58642                7.0   EDUCATION          D       6800          16.00   \n",
       "58643                2.0   EDUCATION          A       5000           8.90   \n",
       "58644                2.0     VENTURE          B      15000          11.11   \n",
       "\n",
       "       loan_percent_income cb_person_default_on_file  \\\n",
       "0                     0.17                         N   \n",
       "1                     0.07                         N   \n",
       "2                     0.21                         N   \n",
       "3                     0.17                         N   \n",
       "4                     0.10                         N   \n",
       "...                    ...                       ...   \n",
       "58640                 0.21                         Y   \n",
       "58641                 0.35                         N   \n",
       "58642                 0.15                         N   \n",
       "58643                 0.17                         N   \n",
       "58644                 0.20                         N   \n",
       "\n",
       "       cb_person_cred_hist_length  loan_status  \n",
       "0                              14            0  \n",
       "1                               2            0  \n",
       "2                              10            0  \n",
       "3                               5            0  \n",
       "4                               3            0  \n",
       "...                           ...          ...  \n",
       "58640                          10            0  \n",
       "58641                           8            1  \n",
       "58642                           2            1  \n",
       "58643                           3            0  \n",
       "58644                           5            0  \n",
       "\n",
       "[58645 rows x 13 columns]"
      ]
     },
     "metadata": {},
     "output_type": "display_data"
    },
    {
     "data": {
      "text/html": [
       "<div>\n",
       "<style scoped>\n",
       "    .dataframe tbody tr th:only-of-type {\n",
       "        vertical-align: middle;\n",
       "    }\n",
       "\n",
       "    .dataframe tbody tr th {\n",
       "        vertical-align: top;\n",
       "    }\n",
       "\n",
       "    .dataframe thead th {\n",
       "        text-align: right;\n",
       "    }\n",
       "</style>\n",
       "<table border=\"1\" class=\"dataframe\">\n",
       "  <thead>\n",
       "    <tr style=\"text-align: right;\">\n",
       "      <th></th>\n",
       "      <th>id</th>\n",
       "      <th>person_age</th>\n",
       "      <th>person_income</th>\n",
       "      <th>person_home_ownership</th>\n",
       "      <th>person_emp_length</th>\n",
       "      <th>loan_intent</th>\n",
       "      <th>loan_grade</th>\n",
       "      <th>loan_amnt</th>\n",
       "      <th>loan_int_rate</th>\n",
       "      <th>loan_percent_income</th>\n",
       "      <th>cb_person_default_on_file</th>\n",
       "      <th>cb_person_cred_hist_length</th>\n",
       "    </tr>\n",
       "  </thead>\n",
       "  <tbody>\n",
       "    <tr>\n",
       "      <th>0</th>\n",
       "      <td>58645</td>\n",
       "      <td>23</td>\n",
       "      <td>69000</td>\n",
       "      <td>RENT</td>\n",
       "      <td>3.0</td>\n",
       "      <td>HOMEIMPROVEMENT</td>\n",
       "      <td>F</td>\n",
       "      <td>25000</td>\n",
       "      <td>15.76</td>\n",
       "      <td>0.36</td>\n",
       "      <td>N</td>\n",
       "      <td>2</td>\n",
       "    </tr>\n",
       "    <tr>\n",
       "      <th>1</th>\n",
       "      <td>58646</td>\n",
       "      <td>26</td>\n",
       "      <td>96000</td>\n",
       "      <td>MORTGAGE</td>\n",
       "      <td>6.0</td>\n",
       "      <td>PERSONAL</td>\n",
       "      <td>C</td>\n",
       "      <td>10000</td>\n",
       "      <td>12.68</td>\n",
       "      <td>0.10</td>\n",
       "      <td>Y</td>\n",
       "      <td>4</td>\n",
       "    </tr>\n",
       "    <tr>\n",
       "      <th>2</th>\n",
       "      <td>58647</td>\n",
       "      <td>26</td>\n",
       "      <td>30000</td>\n",
       "      <td>RENT</td>\n",
       "      <td>5.0</td>\n",
       "      <td>VENTURE</td>\n",
       "      <td>E</td>\n",
       "      <td>4000</td>\n",
       "      <td>17.19</td>\n",
       "      <td>0.13</td>\n",
       "      <td>Y</td>\n",
       "      <td>2</td>\n",
       "    </tr>\n",
       "    <tr>\n",
       "      <th>3</th>\n",
       "      <td>58648</td>\n",
       "      <td>33</td>\n",
       "      <td>50000</td>\n",
       "      <td>RENT</td>\n",
       "      <td>4.0</td>\n",
       "      <td>DEBTCONSOLIDATION</td>\n",
       "      <td>A</td>\n",
       "      <td>7000</td>\n",
       "      <td>8.90</td>\n",
       "      <td>0.14</td>\n",
       "      <td>N</td>\n",
       "      <td>7</td>\n",
       "    </tr>\n",
       "    <tr>\n",
       "      <th>4</th>\n",
       "      <td>58649</td>\n",
       "      <td>26</td>\n",
       "      <td>102000</td>\n",
       "      <td>MORTGAGE</td>\n",
       "      <td>8.0</td>\n",
       "      <td>HOMEIMPROVEMENT</td>\n",
       "      <td>D</td>\n",
       "      <td>15000</td>\n",
       "      <td>16.32</td>\n",
       "      <td>0.15</td>\n",
       "      <td>Y</td>\n",
       "      <td>4</td>\n",
       "    </tr>\n",
       "    <tr>\n",
       "      <th>...</th>\n",
       "      <td>...</td>\n",
       "      <td>...</td>\n",
       "      <td>...</td>\n",
       "      <td>...</td>\n",
       "      <td>...</td>\n",
       "      <td>...</td>\n",
       "      <td>...</td>\n",
       "      <td>...</td>\n",
       "      <td>...</td>\n",
       "      <td>...</td>\n",
       "      <td>...</td>\n",
       "      <td>...</td>\n",
       "    </tr>\n",
       "    <tr>\n",
       "      <th>39093</th>\n",
       "      <td>97738</td>\n",
       "      <td>22</td>\n",
       "      <td>31200</td>\n",
       "      <td>MORTGAGE</td>\n",
       "      <td>2.0</td>\n",
       "      <td>DEBTCONSOLIDATION</td>\n",
       "      <td>B</td>\n",
       "      <td>3000</td>\n",
       "      <td>10.37</td>\n",
       "      <td>0.10</td>\n",
       "      <td>N</td>\n",
       "      <td>4</td>\n",
       "    </tr>\n",
       "    <tr>\n",
       "      <th>39094</th>\n",
       "      <td>97739</td>\n",
       "      <td>22</td>\n",
       "      <td>48000</td>\n",
       "      <td>MORTGAGE</td>\n",
       "      <td>6.0</td>\n",
       "      <td>EDUCATION</td>\n",
       "      <td>A</td>\n",
       "      <td>7000</td>\n",
       "      <td>6.03</td>\n",
       "      <td>0.15</td>\n",
       "      <td>N</td>\n",
       "      <td>3</td>\n",
       "    </tr>\n",
       "    <tr>\n",
       "      <th>39095</th>\n",
       "      <td>97740</td>\n",
       "      <td>51</td>\n",
       "      <td>60000</td>\n",
       "      <td>MORTGAGE</td>\n",
       "      <td>0.0</td>\n",
       "      <td>PERSONAL</td>\n",
       "      <td>A</td>\n",
       "      <td>15000</td>\n",
       "      <td>7.51</td>\n",
       "      <td>0.25</td>\n",
       "      <td>N</td>\n",
       "      <td>25</td>\n",
       "    </tr>\n",
       "    <tr>\n",
       "      <th>39096</th>\n",
       "      <td>97741</td>\n",
       "      <td>22</td>\n",
       "      <td>36000</td>\n",
       "      <td>MORTGAGE</td>\n",
       "      <td>4.0</td>\n",
       "      <td>PERSONAL</td>\n",
       "      <td>D</td>\n",
       "      <td>14000</td>\n",
       "      <td>15.62</td>\n",
       "      <td>0.39</td>\n",
       "      <td>Y</td>\n",
       "      <td>4</td>\n",
       "    </tr>\n",
       "    <tr>\n",
       "      <th>39097</th>\n",
       "      <td>97742</td>\n",
       "      <td>31</td>\n",
       "      <td>45000</td>\n",
       "      <td>RENT</td>\n",
       "      <td>6.0</td>\n",
       "      <td>DEBTCONSOLIDATION</td>\n",
       "      <td>B</td>\n",
       "      <td>19450</td>\n",
       "      <td>9.91</td>\n",
       "      <td>0.44</td>\n",
       "      <td>N</td>\n",
       "      <td>9</td>\n",
       "    </tr>\n",
       "  </tbody>\n",
       "</table>\n",
       "<p>39098 rows × 12 columns</p>\n",
       "</div>"
      ],
      "text/plain": [
       "          id  person_age  person_income person_home_ownership  \\\n",
       "0      58645          23          69000                  RENT   \n",
       "1      58646          26          96000              MORTGAGE   \n",
       "2      58647          26          30000                  RENT   \n",
       "3      58648          33          50000                  RENT   \n",
       "4      58649          26         102000              MORTGAGE   \n",
       "...      ...         ...            ...                   ...   \n",
       "39093  97738          22          31200              MORTGAGE   \n",
       "39094  97739          22          48000              MORTGAGE   \n",
       "39095  97740          51          60000              MORTGAGE   \n",
       "39096  97741          22          36000              MORTGAGE   \n",
       "39097  97742          31          45000                  RENT   \n",
       "\n",
       "       person_emp_length        loan_intent loan_grade  loan_amnt  \\\n",
       "0                    3.0    HOMEIMPROVEMENT          F      25000   \n",
       "1                    6.0           PERSONAL          C      10000   \n",
       "2                    5.0            VENTURE          E       4000   \n",
       "3                    4.0  DEBTCONSOLIDATION          A       7000   \n",
       "4                    8.0    HOMEIMPROVEMENT          D      15000   \n",
       "...                  ...                ...        ...        ...   \n",
       "39093                2.0  DEBTCONSOLIDATION          B       3000   \n",
       "39094                6.0          EDUCATION          A       7000   \n",
       "39095                0.0           PERSONAL          A      15000   \n",
       "39096                4.0           PERSONAL          D      14000   \n",
       "39097                6.0  DEBTCONSOLIDATION          B      19450   \n",
       "\n",
       "       loan_int_rate  loan_percent_income cb_person_default_on_file  \\\n",
       "0              15.76                 0.36                         N   \n",
       "1              12.68                 0.10                         Y   \n",
       "2              17.19                 0.13                         Y   \n",
       "3               8.90                 0.14                         N   \n",
       "4              16.32                 0.15                         Y   \n",
       "...              ...                  ...                       ...   \n",
       "39093          10.37                 0.10                         N   \n",
       "39094           6.03                 0.15                         N   \n",
       "39095           7.51                 0.25                         N   \n",
       "39096          15.62                 0.39                         Y   \n",
       "39097           9.91                 0.44                         N   \n",
       "\n",
       "       cb_person_cred_hist_length  \n",
       "0                               2  \n",
       "1                               4  \n",
       "2                               2  \n",
       "3                               7  \n",
       "4                               4  \n",
       "...                           ...  \n",
       "39093                           4  \n",
       "39094                           3  \n",
       "39095                          25  \n",
       "39096                           4  \n",
       "39097                           9  \n",
       "\n",
       "[39098 rows x 12 columns]"
      ]
     },
     "metadata": {},
     "output_type": "display_data"
    }
   ],
   "source": [
    "train_df = pd.read_csv('/kaggle/input/playground-series-s4e10/train.csv')\n",
    "test_df = pd.read_csv('/kaggle/input/playground-series-s4e10/test.csv')\n",
    "display(train_df)\n",
    "display(test_df)"
   ]
  },
  {
   "cell_type": "markdown",
   "id": "86b5fdc5",
   "metadata": {
    "papermill": {
     "duration": 0.009084,
     "end_time": "2024-10-04T02:43:10.279984",
     "exception": false,
     "start_time": "2024-10-04T02:43:10.270900",
     "status": "completed"
    },
    "tags": []
   },
   "source": [
    "## Looking for missing values"
   ]
  },
  {
   "cell_type": "code",
   "execution_count": 3,
   "id": "3ba31028",
   "metadata": {
    "execution": {
     "iopub.execute_input": "2024-10-04T02:43:10.300615Z",
     "iopub.status.busy": "2024-10-04T02:43:10.300174Z",
     "iopub.status.idle": "2024-10-04T02:43:10.359855Z",
     "shell.execute_reply": "2024-10-04T02:43:10.358741Z"
    },
    "papermill": {
     "duration": 0.07282,
     "end_time": "2024-10-04T02:43:10.362376",
     "exception": false,
     "start_time": "2024-10-04T02:43:10.289556",
     "status": "completed"
    },
    "tags": []
   },
   "outputs": [
    {
     "data": {
      "text/html": [
       "<div>\n",
       "<style scoped>\n",
       "    .dataframe tbody tr th:only-of-type {\n",
       "        vertical-align: middle;\n",
       "    }\n",
       "\n",
       "    .dataframe tbody tr th {\n",
       "        vertical-align: top;\n",
       "    }\n",
       "\n",
       "    .dataframe thead th {\n",
       "        text-align: right;\n",
       "    }\n",
       "</style>\n",
       "<table border=\"1\" class=\"dataframe\">\n",
       "  <thead>\n",
       "    <tr style=\"text-align: right;\">\n",
       "      <th></th>\n",
       "      <th>0</th>\n",
       "      <th>test_df</th>\n",
       "    </tr>\n",
       "  </thead>\n",
       "  <tbody>\n",
       "  </tbody>\n",
       "</table>\n",
       "</div>"
      ],
      "text/plain": [
       "Empty DataFrame\n",
       "Columns: [0, test_df]\n",
       "Index: []"
      ]
     },
     "execution_count": 3,
     "metadata": {},
     "output_type": "execute_result"
    }
   ],
   "source": [
    "missing_train = train_df.isnull().sum()\n",
    "missing_test = test_df.isnull().sum()\n",
    "\n",
    "missing_value_cols1 = missing_train[missing_train>0]\n",
    "missing_value_cols2 = missing_test[missing_test>0]\n",
    "missing_value_df = pd.DataFrame(missing_value_cols1)\n",
    "missing_value_df['test_df'] = missing_value_cols2\n",
    "missing_value_df"
   ]
  },
  {
   "cell_type": "markdown",
   "id": "c19b30f4",
   "metadata": {
    "papermill": {
     "duration": 0.010073,
     "end_time": "2024-10-04T02:43:10.381693",
     "exception": false,
     "start_time": "2024-10-04T02:43:10.371620",
     "status": "completed"
    },
    "tags": []
   },
   "source": [
    "## Looking for duplicate values"
   ]
  },
  {
   "cell_type": "code",
   "execution_count": 4,
   "id": "f2ec4f1a",
   "metadata": {
    "execution": {
     "iopub.execute_input": "2024-10-04T02:43:10.401944Z",
     "iopub.status.busy": "2024-10-04T02:43:10.401489Z",
     "iopub.status.idle": "2024-10-04T02:43:10.448286Z",
     "shell.execute_reply": "2024-10-04T02:43:10.447234Z"
    },
    "papermill": {
     "duration": 0.060076,
     "end_time": "2024-10-04T02:43:10.450984",
     "exception": false,
     "start_time": "2024-10-04T02:43:10.390908",
     "status": "completed"
    },
    "tags": []
   },
   "outputs": [
    {
     "data": {
      "text/plain": [
       "0"
      ]
     },
     "execution_count": 4,
     "metadata": {},
     "output_type": "execute_result"
    }
   ],
   "source": [
    "train_df.duplicated().sum()"
   ]
  },
  {
   "cell_type": "markdown",
   "id": "c13da4af",
   "metadata": {
    "papermill": {
     "duration": 0.009204,
     "end_time": "2024-10-04T02:43:10.469855",
     "exception": false,
     "start_time": "2024-10-04T02:43:10.460651",
     "status": "completed"
    },
    "tags": []
   },
   "source": [
    "## EDA"
   ]
  },
  {
   "cell_type": "code",
   "execution_count": 5,
   "id": "6f4e1202",
   "metadata": {
    "execution": {
     "iopub.execute_input": "2024-10-04T02:43:10.490762Z",
     "iopub.status.busy": "2024-10-04T02:43:10.490285Z",
     "iopub.status.idle": "2024-10-04T02:43:10.546036Z",
     "shell.execute_reply": "2024-10-04T02:43:10.544977Z"
    },
    "papermill": {
     "duration": 0.069256,
     "end_time": "2024-10-04T02:43:10.548674",
     "exception": false,
     "start_time": "2024-10-04T02:43:10.479418",
     "status": "completed"
    },
    "tags": []
   },
   "outputs": [
    {
     "data": {
      "text/html": [
       "<div>\n",
       "<style scoped>\n",
       "    .dataframe tbody tr th:only-of-type {\n",
       "        vertical-align: middle;\n",
       "    }\n",
       "\n",
       "    .dataframe tbody tr th {\n",
       "        vertical-align: top;\n",
       "    }\n",
       "\n",
       "    .dataframe thead th {\n",
       "        text-align: right;\n",
       "    }\n",
       "</style>\n",
       "<table border=\"1\" class=\"dataframe\">\n",
       "  <thead>\n",
       "    <tr style=\"text-align: right;\">\n",
       "      <th></th>\n",
       "      <th>id</th>\n",
       "      <th>person_age</th>\n",
       "      <th>person_income</th>\n",
       "      <th>person_emp_length</th>\n",
       "      <th>loan_amnt</th>\n",
       "      <th>loan_int_rate</th>\n",
       "      <th>loan_percent_income</th>\n",
       "      <th>cb_person_cred_hist_length</th>\n",
       "      <th>loan_status</th>\n",
       "    </tr>\n",
       "  </thead>\n",
       "  <tbody>\n",
       "    <tr>\n",
       "      <th>count</th>\n",
       "      <td>58645.000000</td>\n",
       "      <td>58645.000000</td>\n",
       "      <td>5.864500e+04</td>\n",
       "      <td>58645.000000</td>\n",
       "      <td>58645.000000</td>\n",
       "      <td>58645.000000</td>\n",
       "      <td>58645.000000</td>\n",
       "      <td>58645.000000</td>\n",
       "      <td>58645.000000</td>\n",
       "    </tr>\n",
       "    <tr>\n",
       "      <th>mean</th>\n",
       "      <td>29322.000000</td>\n",
       "      <td>27.550857</td>\n",
       "      <td>6.404617e+04</td>\n",
       "      <td>4.701015</td>\n",
       "      <td>9217.556518</td>\n",
       "      <td>10.677874</td>\n",
       "      <td>0.159238</td>\n",
       "      <td>5.813556</td>\n",
       "      <td>0.142382</td>\n",
       "    </tr>\n",
       "    <tr>\n",
       "      <th>std</th>\n",
       "      <td>16929.497605</td>\n",
       "      <td>6.033216</td>\n",
       "      <td>3.793111e+04</td>\n",
       "      <td>3.959784</td>\n",
       "      <td>5563.807384</td>\n",
       "      <td>3.034697</td>\n",
       "      <td>0.091692</td>\n",
       "      <td>4.029196</td>\n",
       "      <td>0.349445</td>\n",
       "    </tr>\n",
       "    <tr>\n",
       "      <th>min</th>\n",
       "      <td>0.000000</td>\n",
       "      <td>20.000000</td>\n",
       "      <td>4.200000e+03</td>\n",
       "      <td>0.000000</td>\n",
       "      <td>500.000000</td>\n",
       "      <td>5.420000</td>\n",
       "      <td>0.000000</td>\n",
       "      <td>2.000000</td>\n",
       "      <td>0.000000</td>\n",
       "    </tr>\n",
       "    <tr>\n",
       "      <th>25%</th>\n",
       "      <td>14661.000000</td>\n",
       "      <td>23.000000</td>\n",
       "      <td>4.200000e+04</td>\n",
       "      <td>2.000000</td>\n",
       "      <td>5000.000000</td>\n",
       "      <td>7.880000</td>\n",
       "      <td>0.090000</td>\n",
       "      <td>3.000000</td>\n",
       "      <td>0.000000</td>\n",
       "    </tr>\n",
       "    <tr>\n",
       "      <th>50%</th>\n",
       "      <td>29322.000000</td>\n",
       "      <td>26.000000</td>\n",
       "      <td>5.800000e+04</td>\n",
       "      <td>4.000000</td>\n",
       "      <td>8000.000000</td>\n",
       "      <td>10.750000</td>\n",
       "      <td>0.140000</td>\n",
       "      <td>4.000000</td>\n",
       "      <td>0.000000</td>\n",
       "    </tr>\n",
       "    <tr>\n",
       "      <th>75%</th>\n",
       "      <td>43983.000000</td>\n",
       "      <td>30.000000</td>\n",
       "      <td>7.560000e+04</td>\n",
       "      <td>7.000000</td>\n",
       "      <td>12000.000000</td>\n",
       "      <td>12.990000</td>\n",
       "      <td>0.210000</td>\n",
       "      <td>8.000000</td>\n",
       "      <td>0.000000</td>\n",
       "    </tr>\n",
       "    <tr>\n",
       "      <th>max</th>\n",
       "      <td>58644.000000</td>\n",
       "      <td>123.000000</td>\n",
       "      <td>1.900000e+06</td>\n",
       "      <td>123.000000</td>\n",
       "      <td>35000.000000</td>\n",
       "      <td>23.220000</td>\n",
       "      <td>0.830000</td>\n",
       "      <td>30.000000</td>\n",
       "      <td>1.000000</td>\n",
       "    </tr>\n",
       "  </tbody>\n",
       "</table>\n",
       "</div>"
      ],
      "text/plain": [
       "                 id    person_age  person_income  person_emp_length  \\\n",
       "count  58645.000000  58645.000000   5.864500e+04       58645.000000   \n",
       "mean   29322.000000     27.550857   6.404617e+04           4.701015   \n",
       "std    16929.497605      6.033216   3.793111e+04           3.959784   \n",
       "min        0.000000     20.000000   4.200000e+03           0.000000   \n",
       "25%    14661.000000     23.000000   4.200000e+04           2.000000   \n",
       "50%    29322.000000     26.000000   5.800000e+04           4.000000   \n",
       "75%    43983.000000     30.000000   7.560000e+04           7.000000   \n",
       "max    58644.000000    123.000000   1.900000e+06         123.000000   \n",
       "\n",
       "          loan_amnt  loan_int_rate  loan_percent_income  \\\n",
       "count  58645.000000   58645.000000         58645.000000   \n",
       "mean    9217.556518      10.677874             0.159238   \n",
       "std     5563.807384       3.034697             0.091692   \n",
       "min      500.000000       5.420000             0.000000   \n",
       "25%     5000.000000       7.880000             0.090000   \n",
       "50%     8000.000000      10.750000             0.140000   \n",
       "75%    12000.000000      12.990000             0.210000   \n",
       "max    35000.000000      23.220000             0.830000   \n",
       "\n",
       "       cb_person_cred_hist_length   loan_status  \n",
       "count                58645.000000  58645.000000  \n",
       "mean                     5.813556      0.142382  \n",
       "std                      4.029196      0.349445  \n",
       "min                      2.000000      0.000000  \n",
       "25%                      3.000000      0.000000  \n",
       "50%                      4.000000      0.000000  \n",
       "75%                      8.000000      0.000000  \n",
       "max                     30.000000      1.000000  "
      ]
     },
     "execution_count": 5,
     "metadata": {},
     "output_type": "execute_result"
    }
   ],
   "source": [
    "train_df.describe()"
   ]
  },
  {
   "cell_type": "code",
   "execution_count": 6,
   "id": "1b0266a4",
   "metadata": {
    "execution": {
     "iopub.execute_input": "2024-10-04T02:43:10.570085Z",
     "iopub.status.busy": "2024-10-04T02:43:10.569665Z",
     "iopub.status.idle": "2024-10-04T02:43:10.613645Z",
     "shell.execute_reply": "2024-10-04T02:43:10.612310Z"
    },
    "papermill": {
     "duration": 0.05784,
     "end_time": "2024-10-04T02:43:10.616278",
     "exception": false,
     "start_time": "2024-10-04T02:43:10.558438",
     "status": "completed"
    },
    "tags": []
   },
   "outputs": [
    {
     "name": "stdout",
     "output_type": "stream",
     "text": [
      "<class 'pandas.core.frame.DataFrame'>\n",
      "RangeIndex: 58645 entries, 0 to 58644\n",
      "Data columns (total 13 columns):\n",
      " #   Column                      Non-Null Count  Dtype  \n",
      "---  ------                      --------------  -----  \n",
      " 0   id                          58645 non-null  int64  \n",
      " 1   person_age                  58645 non-null  int64  \n",
      " 2   person_income               58645 non-null  int64  \n",
      " 3   person_home_ownership       58645 non-null  object \n",
      " 4   person_emp_length           58645 non-null  float64\n",
      " 5   loan_intent                 58645 non-null  object \n",
      " 6   loan_grade                  58645 non-null  object \n",
      " 7   loan_amnt                   58645 non-null  int64  \n",
      " 8   loan_int_rate               58645 non-null  float64\n",
      " 9   loan_percent_income         58645 non-null  float64\n",
      " 10  cb_person_default_on_file   58645 non-null  object \n",
      " 11  cb_person_cred_hist_length  58645 non-null  int64  \n",
      " 12  loan_status                 58645 non-null  int64  \n",
      "dtypes: float64(3), int64(6), object(4)\n",
      "memory usage: 5.8+ MB\n"
     ]
    }
   ],
   "source": [
    "train_df.info()"
   ]
  },
  {
   "cell_type": "code",
   "execution_count": 7,
   "id": "38aaeec2",
   "metadata": {
    "execution": {
     "iopub.execute_input": "2024-10-04T02:43:10.638001Z",
     "iopub.status.busy": "2024-10-04T02:43:10.637570Z",
     "iopub.status.idle": "2024-10-04T02:43:10.645064Z",
     "shell.execute_reply": "2024-10-04T02:43:10.643963Z"
    },
    "papermill": {
     "duration": 0.021146,
     "end_time": "2024-10-04T02:43:10.647340",
     "exception": false,
     "start_time": "2024-10-04T02:43:10.626194",
     "status": "completed"
    },
    "tags": []
   },
   "outputs": [
    {
     "data": {
      "text/plain": [
       "Index(['id', 'person_age', 'person_income', 'person_home_ownership',\n",
       "       'person_emp_length', 'loan_intent', 'loan_grade', 'loan_amnt',\n",
       "       'loan_int_rate', 'loan_percent_income', 'cb_person_default_on_file',\n",
       "       'cb_person_cred_hist_length', 'loan_status'],\n",
       "      dtype='object')"
      ]
     },
     "execution_count": 7,
     "metadata": {},
     "output_type": "execute_result"
    }
   ],
   "source": [
    "train_df.columns"
   ]
  },
  {
   "cell_type": "code",
   "execution_count": 8,
   "id": "6c9eead9",
   "metadata": {
    "execution": {
     "iopub.execute_input": "2024-10-04T02:43:10.669046Z",
     "iopub.status.busy": "2024-10-04T02:43:10.668600Z",
     "iopub.status.idle": "2024-10-04T02:43:10.717196Z",
     "shell.execute_reply": "2024-10-04T02:43:10.715752Z"
    },
    "papermill": {
     "duration": 0.063071,
     "end_time": "2024-10-04T02:43:10.720466",
     "exception": false,
     "start_time": "2024-10-04T02:43:10.657395",
     "status": "completed"
    },
    "tags": []
   },
   "outputs": [
    {
     "name": "stdout",
     "output_type": "stream",
     "text": [
      "column :  person_age \n",
      "unique values :  [ 37  22  29  30  27  25  21  35  31  26  28  32  23  24  33  44  38  43\n",
      "  46  48  36  41  34  40  47  42  51  50  39  56  60  49  58  54  45  59\n",
      "  65  53  55  57  52  62  64  84  70  66  73  69  61  20  80  76 123] \n",
      "\n",
      "column :  person_income \n",
      "unique values :  [ 35000  56000  28800 ...  44955  90730 124600] \n",
      "\n",
      "column :  person_home_ownership \n",
      "unique values :  ['RENT' 'OWN' 'MORTGAGE' 'OTHER'] \n",
      "\n",
      "column :  person_emp_length \n",
      "unique values :  [  0.   6.   8.  14.   2.   9.  11.   5.   1.  13.   3.  10.  12.   4.\n",
      "   7.  21.  17.  16.  18.  19.  15.  20.  23.  24.  26.  22.  25.  41.\n",
      "  27.  28.  35.  29.  30.  31. 123.  39.] \n",
      "\n",
      "column :  loan_intent \n",
      "unique values :  ['EDUCATION' 'MEDICAL' 'PERSONAL' 'VENTURE' 'DEBTCONSOLIDATION'\n",
      " 'HOMEIMPROVEMENT'] \n",
      "\n",
      "column :  loan_grade \n",
      "unique values :  ['B' 'C' 'A' 'D' 'E' 'F' 'G'] \n",
      "\n",
      "column :  loan_amnt \n",
      "unique values :  [ 6000  4000 12000  9000  2500  5000 15000 12800 10000 16000  7300 17000\n",
      "  5950  4800  3200  7000  3000  3500 14000  2800  2000  5500 14400 15900\n",
      " 12500  8000  2400 20000 14125  9600 17200  4200  7200 18000 23500  3550\n",
      "  9800 24000 19500  6500 17500  4500 19750 28000 25000 18250  5200  8400\n",
      " 18650  3600  7800  5400 13000  1850 10800 15250  2250  1500  8700 11000\n",
      " 16800 14500  6200  8500  6800  6400 35000  8800 30000  1000  9250 16100\n",
      "  1800  3300  3650  7500 13750  6600  6250  6325  5600 17400  9200 13250\n",
      " 21000  6625  1450  9500  3250  6725  4900  6450 11500  3100  1200 10400\n",
      " 19200 14750  1400  5250  5275  5100  8200  7750 10500  9050  3350  2700\n",
      "  9975 11200 24250  4600  7700  5300 15500 12250  3800 18500 10625 10750\n",
      " 16500  5800 12375 15600  5175 19800  7125 18400 15200  5025 11400  7775\n",
      "  1700 22000  8875  1375 13200 11250  2100 21600  6700 10200 12600 16750\n",
      " 19000  5825 31000 13500 13350 11650 16700  8050  7550  5700 10700  8300\n",
      " 19925  4275 17325  1925 20800  4700 20500  4775 20400  1900 14800  6475\n",
      " 17600  6300  4750  3575 11225 26375  3400  7275 14625 24100 12700 13800\n",
      " 11700  4400 15150 19600  2200  2300 12750  4100  6650  6100  1350 23000\n",
      " 12900 11800 19400  7600 13225 14475  8475  8600  3700 11050  3900  1675\n",
      " 18225  1600 15700 10900  4475  8150  1075  1875 23475  2225 12225 10250\n",
      "  6750  4300 10600  7875  2450  4350  7400  2850  2600  8575  6025  7475\n",
      " 12150 27000  2875 23450  9925 12350  3625 14850  6225 12300  5150  2525\n",
      " 11300  7925 14100 13600 23800  4725  4375  1750  7100 13650 21125 14700\n",
      "  5125  2575 18200  8250 29800  8125 21200  7250 25475 12200 17850  3325\n",
      "  8650 11100 12100 17800  2550  8525 14550 10100  1950  5375  2750  5575\n",
      "  6900 15350  6350 12400  3850  7425  2950  4650  6825  2425  9450 14150\n",
      "  8100  3425 21500  9875  1050 16875 14200 13475 23200 24500 14900  9150\n",
      " 15775  6425  9350 16400  4975  6125 10650 17625  8450 28250 13575  3825\n",
      "  6550  4075 11525  8550  1275  1300  9900 22500  7850  1825 18125  3175\n",
      "  9100 12325 10175  1807 17450 27250 25600  2925 15175 14575  5875 22800\n",
      "  2325 11750 14600  4850 18300 10425  7375 10050  9400 21250  5625  7975\n",
      " 10950 11425  3275 13450  8850 14300 16120  3675 16200 26800  7150  9300\n",
      " 11600 20675 17900  9175  9700 24750 14350  4250 15800  5775 10675 23600\n",
      "  2050 15400 16250  3150 17375  5975 10525  2375 13400  4125  5550  7175\n",
      " 18900  1325  9475 17650  7350 11450 26000 19550  1250  4025  5075  7050\n",
      " 12475 23100  6375 23400 33000 23750 10300 14650  9950 12275  8750  8325\n",
      " 10150 24200  5675  8275  2150 19425  9125 24625 25850  6575  6775 12950\n",
      " 12450  1775 27050 22400  8675   700 17250 10375 18325 23700 11350  7225\n",
      "  8900  8225  5900 17350  3525 12875  2725 27800  6950 10450 18150  4925\n",
      " 15025 21400  4450 15850 20050 13125  1525 15300 18600 22650 11025  6150\n",
      " 18800 15650  6850  4425  1475  4950  7625  5425  3950 18850  4050  6925\n",
      "  7075 24400 24150  5650 13900  5750 15075  4325  1225 22600  3750 11975\n",
      "  6075  2125  5050 12650  5225 24375 21850 20900  7675  2275 29100 15625\n",
      " 16450 27575 17475  8825 10325 11325 10850  4525  3075   900  3450  9750\n",
      " 32000 17925 13850 21825  6975 14250 18750 23975 13700 21100  5450 30750\n",
      "  5325  2650  3125 17700  9275 22750 10975  7450  5475 12925 15450   500\n",
      " 13275  3375  3925 14675 13100 19125  3775  3725 12775 11575  2350 27500\n",
      " 11625 13075  9725  4550  1150] \n",
      "\n",
      "column :  loan_int_rate \n",
      "unique values :  [11.49 13.35  8.9  11.11  6.92  8.94  6.54 13.49 14.84 12.98 10.59 11.12\n",
      " 10.75 11.14 13.57 14.11  6.62 12.73  7.88  8.59  7.68  6.99 16.49  9.62\n",
      "  8.   15.96  7.66 18.64  7.9  11.71 15.58  7.14 12.18  7.49  9.25 14.27\n",
      " 12.53 11.86 12.21 10.99  9.91 16.4  10.36 14.26  9.32  5.42 17.06 15.23\n",
      "  7.51  9.38 14.72 14.09 13.22 13.11 10.95  7.74  7.29 10.37  5.99 10.62\n",
      " 15.62 11.99 15.2  11.58 11.48  6.91 16.32 10.25 12.68 10.65 14.96 12.61\n",
      "  5.79 13.06 12.99 10.74 15.31 12.69 11.36  6.03 10.46 16.29  9.07 13.48\n",
      "  9.99 11.34 12.42 16.07 14.22  6.17  6.39 13.79 11.26 13.99 13.93 11.83\n",
      " 13.23 14.91 10.39 17.46 11.46 13.61 15.99 15.05  9.88 15.7  15.33  8.49\n",
      " 19.69 11.89  9.76 14.59 12.87  8.88 10.   13.85  6.76 10.83  9.45 17.39\n",
      " 14.46 13.98 11.22 12.29 14.35 15.65 10.38 13.47 13.72  7.4  12.84 10.71\n",
      " 13.16 16.7  11.28 19.04 14.42 13.92 15.95 13.24 13.04 13.12 14.65  9.63\n",
      " 12.23  7.05 11.66 12.67 14.54 17.04  9.7   8.32 15.57 15.21 10.78 14.7\n",
      "  8.07 17.56  9.96 15.37 12.09 14.83 13.8  11.97 18.25 14.74 19.03 14.61\n",
      " 18.39  8.38 16.77 17.58 14.17 18.78 16.89 18.62 10.08 20.69 16.08 21.36\n",
      " 15.28  7.37 16.   11.78 15.27 20.89 10.2  16.35 17.49 13.67 12.41 12.91\n",
      " 13.43 17.19 17.88 17.14 16.45  9.51 16.82 10.28 11.41 13.36 12.86 17.27\n",
      " 17.99  7.43 19.79  7.42 20.62 19.29 17.93 11.03 18.43  8.63 12.8  18.84\n",
      " 10.91 12.22 22.06 14.79 14.82  9.59 18.07 12.17 10.96 18.79 21.21 20.3\n",
      " 15.68 13.55  9.64 14.5  10.51  7.75 17.51 19.91 10.01 13.15 14.38 19.13\n",
      " 15.59 14.93 12.92 20.16 11.54 15.76  9.67 16.02 17.26  8.7  21.74 22.11\n",
      " 14.12  9.01 12.04 18.3  19.16 16.69 10.33 13.87 16.63 15.13 12.49 17.74\n",
      " 14.18 19.42 17.43  7.12 17.03 13.3  11.91 14.3  15.25 14.51  9.33 13.17\n",
      " 21.64 18.21 15.38 15.29 15.88 18.67 14.75 16.95 15.06  6.   18.09 14.88\n",
      " 13.75 19.47 16.11 20.11 20.48  7.91  9.83  9.2  10.14 19.41 12.62 11.72\n",
      " 11.59 14.25 12.54 15.45  8.1  17.9   7.71 15.01 13.27 12.71 15.11 14.98\n",
      " 15.75 12.72 15.26  6.42 15.79  6.05 20.17 15.07  8.45 17.44 18.17 20.25\n",
      "  7.94 10.54 17.15  9.13 12.36 13.42 14.71 18.53 11.09 10.64 17.54 19.82\n",
      " 11.62 20.86 20.8  13.84 20.09  6.96  9.22 19.66 20.52 16.15 14.49 23.06\n",
      " 18.72 12.12 16.71 14.69  7.46 10.79  5.43 15.83 10.68  7.25 23.22 12.96\n",
      "  9.17 10.03] \n",
      "\n",
      "column :  loan_percent_income \n",
      "unique values :  [0.17  0.07  0.21  0.1   0.2   0.27  0.13  0.14  0.3   0.12  0.23  0.05\n",
      " 0.25  0.16  0.11  0.09  0.19  0.06  0.08  0.04  0.22  0.24  0.03  0.02\n",
      " 0.26  0.15  0.29  0.35  0.18  0.28  0.4   0.44  0.5   0.01  0.34  0.33\n",
      " 0.32  0.31  0.37  0.39  0.36  0.48  0.47  0.42  0.38  0.43  0.51  0.46\n",
      " 0.41  0.49  0.45  0.52  0.    0.56  0.53  0.384 0.55  0.83  0.54  0.59\n",
      " 0.63 ] \n",
      "\n",
      "column :  cb_person_default_on_file \n",
      "unique values :  ['N' 'Y'] \n",
      "\n",
      "column :  cb_person_cred_hist_length \n",
      "unique values :  [14  2 10  5  3 11  6  9  7  8  4 17 13 15 12 16 23 24 20 21 28 30 19 26\n",
      " 27 18 29 25 22] \n",
      "\n"
     ]
    }
   ],
   "source": [
    "for col in train_df[['person_age', 'person_income', 'person_home_ownership',\n",
    "       'person_emp_length', 'loan_intent', 'loan_grade', 'loan_amnt',\n",
    "       'loan_int_rate', 'loan_percent_income', 'cb_person_default_on_file',\n",
    "       'cb_person_cred_hist_length']]:\n",
    "    print(\"column : \",col,\"\\nunique values : \",train_df[col].unique(),\"\\n\")"
   ]
  },
  {
   "cell_type": "markdown",
   "id": "85f20077",
   "metadata": {
    "papermill": {
     "duration": 0.010095,
     "end_time": "2024-10-04T02:43:10.741104",
     "exception": false,
     "start_time": "2024-10-04T02:43:10.731009",
     "status": "completed"
    },
    "tags": []
   },
   "source": [
    "## Feature selection and splitting"
   ]
  },
  {
   "cell_type": "code",
   "execution_count": 9,
   "id": "003a5f13",
   "metadata": {
    "execution": {
     "iopub.execute_input": "2024-10-04T02:43:10.764156Z",
     "iopub.status.busy": "2024-10-04T02:43:10.763139Z",
     "iopub.status.idle": "2024-10-04T02:43:12.355475Z",
     "shell.execute_reply": "2024-10-04T02:43:12.354283Z"
    },
    "papermill": {
     "duration": 1.606784,
     "end_time": "2024-10-04T02:43:12.358161",
     "exception": false,
     "start_time": "2024-10-04T02:43:10.751377",
     "status": "completed"
    },
    "tags": []
   },
   "outputs": [],
   "source": [
    "from sklearn.model_selection import train_test_split\n",
    "X = train_df.drop(['id','loan_status'], axis=1)\n",
    "y = train_df['loan_status']\n",
    "X_train, X_valid, y_train, y_valid = train_test_split(X, y, stratify=y, test_size=0.2, random_state =365)"
   ]
  },
  {
   "cell_type": "markdown",
   "id": "0cd57944",
   "metadata": {
    "papermill": {
     "duration": 0.009986,
     "end_time": "2024-10-04T02:43:12.378702",
     "exception": false,
     "start_time": "2024-10-04T02:43:12.368716",
     "status": "completed"
    },
    "tags": []
   },
   "source": [
    "## Preprocessing"
   ]
  },
  {
   "cell_type": "code",
   "execution_count": 10,
   "id": "2030c15d",
   "metadata": {
    "execution": {
     "iopub.execute_input": "2024-10-04T02:43:12.401870Z",
     "iopub.status.busy": "2024-10-04T02:43:12.400554Z",
     "iopub.status.idle": "2024-10-04T02:43:12.618494Z",
     "shell.execute_reply": "2024-10-04T02:43:12.617334Z"
    },
    "papermill": {
     "duration": 0.232239,
     "end_time": "2024-10-04T02:43:12.621092",
     "exception": false,
     "start_time": "2024-10-04T02:43:12.388853",
     "status": "completed"
    },
    "tags": []
   },
   "outputs": [
    {
     "data": {
      "text/plain": [
       "array([[ 1.57142857, -0.45454545, -0.8       , ...,  0.        ,\n",
       "         1.        ,  0.        ],\n",
       "       [-0.28571429, -0.24242424,  0.4       , ...,  0.        ,\n",
       "         1.        ,  0.        ],\n",
       "       [ 4.57142857, -0.63636364, -0.8       , ...,  0.        ,\n",
       "         1.        ,  0.        ],\n",
       "       ...,\n",
       "       [-0.42857143,  1.87878788, -0.8       , ...,  0.        ,\n",
       "         1.        ,  0.        ],\n",
       "       [-0.57142857, -0.18181818,  0.        , ...,  0.        ,\n",
       "         1.        ,  0.        ],\n",
       "       [ 0.28571429,  1.27272727, -0.4       , ...,  0.        ,\n",
       "         1.        ,  0.        ]])"
      ]
     },
     "execution_count": 10,
     "metadata": {},
     "output_type": "execute_result"
    }
   ],
   "source": [
    "from sklearn.preprocessing import OneHotEncoder\n",
    "from sklearn.preprocessing import RobustScaler\n",
    "from sklearn.compose import make_column_transformer\n",
    "from sklearn.compose import make_column_selector\n",
    "\n",
    "rs = RobustScaler()\n",
    "ohe = OneHotEncoder(sparse_output=False)\n",
    "\n",
    "ct = make_column_transformer(\n",
    "    (rs, make_column_selector(dtype_exclude = object)),\n",
    "    (ohe, make_column_selector(dtype_include = object)),\n",
    "    remainder='passthrough')\n",
    "ct.fit_transform(X_train)"
   ]
  },
  {
   "cell_type": "markdown",
   "id": "ef5266ce",
   "metadata": {
    "papermill": {
     "duration": 0.010335,
     "end_time": "2024-10-04T02:43:12.642159",
     "exception": false,
     "start_time": "2024-10-04T02:43:12.631824",
     "status": "completed"
    },
    "tags": []
   },
   "source": [
    "## Creating pipeline and comparing different model"
   ]
  },
  {
   "cell_type": "code",
   "execution_count": 11,
   "id": "cf3e8d01",
   "metadata": {
    "execution": {
     "iopub.execute_input": "2024-10-04T02:43:12.665490Z",
     "iopub.status.busy": "2024-10-04T02:43:12.664808Z",
     "iopub.status.idle": "2024-10-04T02:43:16.973040Z",
     "shell.execute_reply": "2024-10-04T02:43:16.971325Z"
    },
    "papermill": {
     "duration": 4.324417,
     "end_time": "2024-10-04T02:43:16.977227",
     "exception": false,
     "start_time": "2024-10-04T02:43:12.652810",
     "status": "completed"
    },
    "tags": []
   },
   "outputs": [
    {
     "name": "stderr",
     "output_type": "stream",
     "text": [
      "/opt/conda/lib/python3.10/site-packages/sklearn/linear_model/_logistic.py:458: ConvergenceWarning: lbfgs failed to converge (status=1):\n",
      "STOP: TOTAL NO. of ITERATIONS REACHED LIMIT.\n",
      "\n",
      "Increase the number of iterations (max_iter) or scale the data as shown in:\n",
      "    https://scikit-learn.org/stable/modules/preprocessing.html\n",
      "Please also refer to the documentation for alternative solver options:\n",
      "    https://scikit-learn.org/stable/modules/linear_model.html#logistic-regression\n",
      "  n_iter_i = _check_optimize_result(\n",
      "/opt/conda/lib/python3.10/site-packages/sklearn/linear_model/_logistic.py:458: ConvergenceWarning: lbfgs failed to converge (status=1):\n",
      "STOP: TOTAL NO. of ITERATIONS REACHED LIMIT.\n",
      "\n",
      "Increase the number of iterations (max_iter) or scale the data as shown in:\n",
      "    https://scikit-learn.org/stable/modules/preprocessing.html\n",
      "Please also refer to the documentation for alternative solver options:\n",
      "    https://scikit-learn.org/stable/modules/linear_model.html#logistic-regression\n",
      "  n_iter_i = _check_optimize_result(\n",
      "/opt/conda/lib/python3.10/site-packages/sklearn/linear_model/_logistic.py:458: ConvergenceWarning: lbfgs failed to converge (status=1):\n",
      "STOP: TOTAL NO. of ITERATIONS REACHED LIMIT.\n",
      "\n",
      "Increase the number of iterations (max_iter) or scale the data as shown in:\n",
      "    https://scikit-learn.org/stable/modules/preprocessing.html\n",
      "Please also refer to the documentation for alternative solver options:\n",
      "    https://scikit-learn.org/stable/modules/linear_model.html#logistic-regression\n",
      "  n_iter_i = _check_optimize_result(\n",
      "/opt/conda/lib/python3.10/site-packages/sklearn/linear_model/_logistic.py:458: ConvergenceWarning: lbfgs failed to converge (status=1):\n",
      "STOP: TOTAL NO. of ITERATIONS REACHED LIMIT.\n",
      "\n",
      "Increase the number of iterations (max_iter) or scale the data as shown in:\n",
      "    https://scikit-learn.org/stable/modules/preprocessing.html\n",
      "Please also refer to the documentation for alternative solver options:\n",
      "    https://scikit-learn.org/stable/modules/linear_model.html#logistic-regression\n",
      "  n_iter_i = _check_optimize_result(\n"
     ]
    },
    {
     "name": "stdout",
     "output_type": "stream",
     "text": [
      "Best cross-validation score for LR: 0.9007\n"
     ]
    },
    {
     "name": "stderr",
     "output_type": "stream",
     "text": [
      "/opt/conda/lib/python3.10/site-packages/sklearn/linear_model/_logistic.py:458: ConvergenceWarning: lbfgs failed to converge (status=1):\n",
      "STOP: TOTAL NO. of ITERATIONS REACHED LIMIT.\n",
      "\n",
      "Increase the number of iterations (max_iter) or scale the data as shown in:\n",
      "    https://scikit-learn.org/stable/modules/preprocessing.html\n",
      "Please also refer to the documentation for alternative solver options:\n",
      "    https://scikit-learn.org/stable/modules/linear_model.html#logistic-regression\n",
      "  n_iter_i = _check_optimize_result(\n"
     ]
    }
   ],
   "source": [
    "from sklearn.pipeline import make_pipeline\n",
    "from sklearn.linear_model import LogisticRegression\n",
    "from sklearn.model_selection import cross_val_score\n",
    "\n",
    "LR = LogisticRegression()\n",
    "\n",
    "pipe_1 = make_pipeline(ct, LR)\n",
    "\n",
    "cv_score = cross_val_score(pipe_1, X_train, y_train, cv=5, scoring='roc_auc').mean()\n",
    "print(\"Best cross-validation score for LR: {:.4f}\".format(cv_score))"
   ]
  },
  {
   "cell_type": "code",
   "execution_count": 12,
   "id": "d87d5d91",
   "metadata": {
    "execution": {
     "iopub.execute_input": "2024-10-04T02:43:17.027952Z",
     "iopub.status.busy": "2024-10-04T02:43:17.027223Z",
     "iopub.status.idle": "2024-10-04T02:46:34.363232Z",
     "shell.execute_reply": "2024-10-04T02:46:34.362020Z"
    },
    "papermill": {
     "duration": 197.375397,
     "end_time": "2024-10-04T02:46:34.376745",
     "exception": false,
     "start_time": "2024-10-04T02:43:17.001348",
     "status": "completed"
    },
    "tags": []
   },
   "outputs": [
    {
     "name": "stdout",
     "output_type": "stream",
     "text": [
      "Best parameters found for RFC:  {'randomforestclassifier__max_depth': 12, 'randomforestclassifier__min_samples_leaf': 1, 'randomforestclassifier__min_samples_split': 6, 'randomforestclassifier__n_estimators': 188}\n",
      "Best cross-validation score for RFC: 0.9357\n",
      "CPU times: user 3min 16s, sys: 379 ms, total: 3min 17s\n",
      "Wall time: 3min 17s\n"
     ]
    }
   ],
   "source": [
    "%%time\n",
    "from sklearn.ensemble import RandomForestClassifier\n",
    "from sklearn.model_selection import RandomizedSearchCV\n",
    "from scipy.stats import randint\n",
    "\n",
    "RFC = RandomForestClassifier(random_state =365)\n",
    "\n",
    "params_rfc = {\n",
    "    'randomforestclassifier__n_estimators': randint(10, 200),\n",
    "    'randomforestclassifier__max_depth': randint(1, 20),\n",
    "    'randomforestclassifier__min_samples_split': randint(2, 20),\n",
    "    'randomforestclassifier__min_samples_leaf': randint(1, 20)\n",
    "    }\n",
    "pipe_2 = make_pipeline(ct, RFC)\n",
    "\n",
    "rand_search_1 = RandomizedSearchCV(pipe_2, params_rfc, n_iter=10, cv=5, scoring='roc_auc', random_state=365)\n",
    "\n",
    "rand_search_1.fit(X_train, y_train)\n",
    "\n",
    "print(\"Best parameters found for RFC: \", rand_search_1.best_params_)\n",
    "print(\"Best cross-validation score for RFC: {:.4f}\".format(rand_search_1.best_score_))"
   ]
  },
  {
   "cell_type": "code",
   "execution_count": 13,
   "id": "089e41c0",
   "metadata": {
    "execution": {
     "iopub.execute_input": "2024-10-04T02:46:34.401868Z",
     "iopub.status.busy": "2024-10-04T02:46:34.401392Z",
     "iopub.status.idle": "2024-10-04T02:47:10.960726Z",
     "shell.execute_reply": "2024-10-04T02:47:10.959650Z"
    },
    "papermill": {
     "duration": 36.57923,
     "end_time": "2024-10-04T02:47:10.967785",
     "exception": false,
     "start_time": "2024-10-04T02:46:34.388555",
     "status": "completed"
    },
    "tags": []
   },
   "outputs": [
    {
     "name": "stdout",
     "output_type": "stream",
     "text": [
      "Best parameters found for XGBC:  {'xgbclassifier__colsample_bytree': 0.9949388447203451, 'xgbclassifier__learning_rate': 0.12674200465810162, 'xgbclassifier__max_depth': 5, 'xgbclassifier__n_estimators': 156, 'xgbclassifier__subsample': 0.8322780125822173}\n",
      "Best cross-validation score for XGBC: 0.9539\n",
      "CPU times: user 2min 9s, sys: 817 ms, total: 2min 9s\n",
      "Wall time: 36.5 s\n"
     ]
    }
   ],
   "source": [
    "%%time\n",
    "from xgboost import XGBClassifier\n",
    "from scipy.stats import uniform\n",
    "XGBC = XGBClassifier(random_state=365)\n",
    "\n",
    "params_xgbc = {\n",
    "        'xgbclassifier__n_estimators': randint(50, 200),\n",
    "    'xgbclassifier__max_depth': randint(3, 10),\n",
    "    'xgbclassifier__learning_rate': uniform(0.01, 0.3),\n",
    "    'xgbclassifier__subsample': uniform(0.6, 0.4),\n",
    "    'xgbclassifier__colsample_bytree': uniform(0.6, 0.4)\n",
    "    }\n",
    "\n",
    "pipe_3 = make_pipeline(ct, XGBC)\n",
    "\n",
    "rand_search_2 = RandomizedSearchCV(pipe_3, params_xgbc, n_iter=10, cv=5, scoring='roc_auc', random_state=365)\n",
    "\n",
    "rand_search_2.fit(X_train, y_train)\n",
    "\n",
    "print(\"Best parameters found for XGBC: \", rand_search_2.best_params_)\n",
    "print(\"Best cross-validation score for XGBC: {:.4f}\".format(rand_search_2.best_score_))"
   ]
  },
  {
   "cell_type": "markdown",
   "id": "7cfa01e6",
   "metadata": {
    "papermill": {
     "duration": 0.011265,
     "end_time": "2024-10-04T02:47:10.990329",
     "exception": false,
     "start_time": "2024-10-04T02:47:10.979064",
     "status": "completed"
    },
    "tags": []
   },
   "source": [
    "## Training on best model"
   ]
  },
  {
   "cell_type": "code",
   "execution_count": 14,
   "id": "0fb6c7af",
   "metadata": {
    "execution": {
     "iopub.execute_input": "2024-10-04T02:47:11.014795Z",
     "iopub.status.busy": "2024-10-04T02:47:11.014338Z",
     "iopub.status.idle": "2024-10-04T02:47:11.641942Z",
     "shell.execute_reply": "2024-10-04T02:47:11.640913Z"
    },
    "papermill": {
     "duration": 0.642969,
     "end_time": "2024-10-04T02:47:11.644670",
     "exception": false,
     "start_time": "2024-10-04T02:47:11.001701",
     "status": "completed"
    },
    "tags": []
   },
   "outputs": [
    {
     "name": "stderr",
     "output_type": "stream",
     "text": [
      "/opt/conda/lib/python3.10/site-packages/xgboost/core.py:160: UserWarning: [02:47:11] WARNING: /workspace/src/learner.cc:742: \n",
      "Parameters: { \"xgbclassifier__colsample_bytree\", \"xgbclassifier__learning_rate\", \"xgbclassifier__max_depth\", \"xgbclassifier__n_estimators\", \"xgbclassifier__subsample\" } are not used.\n",
      "\n",
      "  warnings.warn(smsg, UserWarning)\n"
     ]
    },
    {
     "name": "stdout",
     "output_type": "stream",
     "text": [
      "ROC AUC Score for XGBC_best: 0.9563\n",
      "CPU times: user 2.14 s, sys: 10.9 ms, total: 2.15 s\n",
      "Wall time: 619 ms\n"
     ]
    }
   ],
   "source": [
    "%%time\n",
    "from sklearn.metrics import roc_auc_score\n",
    "\n",
    "best_params = rand_search_2.best_params_\n",
    "XGBC_best = XGBClassifier(**best_params)\n",
    "\n",
    "pipe_best = make_pipeline(ct, XGBC_best)\n",
    "\n",
    "pipe_best.fit(X_train, y_train)\n",
    "\n",
    "pred_proba = pipe_best.predict_proba(X_valid)[:, 1]\n",
    "\n",
    "roc_auc = roc_auc_score(y_valid, pred_proba)\n",
    "print(\"ROC AUC Score for XGBC_best: {:.4f}\".format(roc_auc))"
   ]
  },
  {
   "cell_type": "code",
   "execution_count": 15,
   "id": "1d742417",
   "metadata": {
    "execution": {
     "iopub.execute_input": "2024-10-04T02:47:11.672482Z",
     "iopub.status.busy": "2024-10-04T02:47:11.672054Z",
     "iopub.status.idle": "2024-10-04T02:47:12.478105Z",
     "shell.execute_reply": "2024-10-04T02:47:12.476891Z"
    },
    "papermill": {
     "duration": 0.824226,
     "end_time": "2024-10-04T02:47:12.480969",
     "exception": false,
     "start_time": "2024-10-04T02:47:11.656743",
     "status": "completed"
    },
    "tags": []
   },
   "outputs": [
    {
     "name": "stderr",
     "output_type": "stream",
     "text": [
      "/opt/conda/lib/python3.10/site-packages/xgboost/core.py:160: UserWarning: [02:47:11] WARNING: /workspace/src/learner.cc:742: \n",
      "Parameters: { \"xgbclassifier__colsample_bytree\", \"xgbclassifier__learning_rate\", \"xgbclassifier__max_depth\", \"xgbclassifier__n_estimators\", \"xgbclassifier__subsample\" } are not used.\n",
      "\n",
      "  warnings.warn(smsg, UserWarning)\n"
     ]
    }
   ],
   "source": [
    "pipe_best.fit(X,y)\n",
    "test = test_df.drop(['id'], axis=1)\n",
    "test_pred_proba = pipe_best.predict_proba(test)[:, 1]"
   ]
  },
  {
   "cell_type": "code",
   "execution_count": 16,
   "id": "9f75c405",
   "metadata": {
    "execution": {
     "iopub.execute_input": "2024-10-04T02:47:12.508238Z",
     "iopub.status.busy": "2024-10-04T02:47:12.507798Z",
     "iopub.status.idle": "2024-10-04T02:47:12.539953Z",
     "shell.execute_reply": "2024-10-04T02:47:12.538779Z"
    },
    "papermill": {
     "duration": 0.048263,
     "end_time": "2024-10-04T02:47:12.542673",
     "exception": false,
     "start_time": "2024-10-04T02:47:12.494410",
     "status": "completed"
    },
    "tags": []
   },
   "outputs": [
    {
     "data": {
      "text/html": [
       "<div>\n",
       "<style scoped>\n",
       "    .dataframe tbody tr th:only-of-type {\n",
       "        vertical-align: middle;\n",
       "    }\n",
       "\n",
       "    .dataframe tbody tr th {\n",
       "        vertical-align: top;\n",
       "    }\n",
       "\n",
       "    .dataframe thead th {\n",
       "        text-align: right;\n",
       "    }\n",
       "</style>\n",
       "<table border=\"1\" class=\"dataframe\">\n",
       "  <thead>\n",
       "    <tr style=\"text-align: right;\">\n",
       "      <th></th>\n",
       "      <th>id</th>\n",
       "      <th>loan_status</th>\n",
       "    </tr>\n",
       "  </thead>\n",
       "  <tbody>\n",
       "    <tr>\n",
       "      <th>0</th>\n",
       "      <td>58645</td>\n",
       "      <td>0.998929</td>\n",
       "    </tr>\n",
       "    <tr>\n",
       "      <th>1</th>\n",
       "      <td>58646</td>\n",
       "      <td>0.012532</td>\n",
       "    </tr>\n",
       "    <tr>\n",
       "      <th>2</th>\n",
       "      <td>58647</td>\n",
       "      <td>0.751079</td>\n",
       "    </tr>\n",
       "    <tr>\n",
       "      <th>3</th>\n",
       "      <td>58648</td>\n",
       "      <td>0.007463</td>\n",
       "    </tr>\n",
       "    <tr>\n",
       "      <th>4</th>\n",
       "      <td>58649</td>\n",
       "      <td>0.042223</td>\n",
       "    </tr>\n",
       "  </tbody>\n",
       "</table>\n",
       "</div>"
      ],
      "text/plain": [
       "      id  loan_status\n",
       "0  58645     0.998929\n",
       "1  58646     0.012532\n",
       "2  58647     0.751079\n",
       "3  58648     0.007463\n",
       "4  58649     0.042223"
      ]
     },
     "execution_count": 16,
     "metadata": {},
     "output_type": "execute_result"
    }
   ],
   "source": [
    "submission = pd.read_csv('/kaggle/input/playground-series-s4e10/sample_submission.csv')\n",
    "submission['loan_status'] = test_pred_proba\n",
    "submission.head(5)"
   ]
  },
  {
   "cell_type": "code",
   "execution_count": 17,
   "id": "5356a1c8",
   "metadata": {
    "execution": {
     "iopub.execute_input": "2024-10-04T02:47:12.569565Z",
     "iopub.status.busy": "2024-10-04T02:47:12.568594Z",
     "iopub.status.idle": "2024-10-04T02:47:12.679838Z",
     "shell.execute_reply": "2024-10-04T02:47:12.678783Z"
    },
    "papermill": {
     "duration": 0.127716,
     "end_time": "2024-10-04T02:47:12.682732",
     "exception": false,
     "start_time": "2024-10-04T02:47:12.555016",
     "status": "completed"
    },
    "tags": []
   },
   "outputs": [],
   "source": [
    "submission.to_csv(\"submission.csv\", index=False)"
   ]
  },
  {
   "cell_type": "code",
   "execution_count": null,
   "id": "0c3b1d51",
   "metadata": {
    "papermill": {
     "duration": 0.011844,
     "end_time": "2024-10-04T02:47:12.707377",
     "exception": false,
     "start_time": "2024-10-04T02:47:12.695533",
     "status": "completed"
    },
    "tags": []
   },
   "outputs": [],
   "source": []
  }
 ],
 "metadata": {
  "kaggle": {
   "accelerator": "none",
   "dataSources": [
    {
     "databundleVersionId": 9709193,
     "sourceId": 84894,
     "sourceType": "competition"
    }
   ],
   "dockerImageVersionId": 30786,
   "isGpuEnabled": false,
   "isInternetEnabled": true,
   "language": "python",
   "sourceType": "notebook"
  },
  "kernelspec": {
   "display_name": "Python 3",
   "language": "python",
   "name": "python3"
  },
  "language_info": {
   "codemirror_mode": {
    "name": "ipython",
    "version": 3
   },
   "file_extension": ".py",
   "mimetype": "text/x-python",
   "name": "python",
   "nbconvert_exporter": "python",
   "pygments_lexer": "ipython3",
   "version": "3.10.14"
  },
  "papermill": {
   "default_parameters": {},
   "duration": 247.689381,
   "end_time": "2024-10-04T02:47:13.441644",
   "environment_variables": {},
   "exception": null,
   "input_path": "__notebook__.ipynb",
   "output_path": "__notebook__.ipynb",
   "parameters": {},
   "start_time": "2024-10-04T02:43:05.752263",
   "version": "2.6.0"
  }
 },
 "nbformat": 4,
 "nbformat_minor": 5
}
