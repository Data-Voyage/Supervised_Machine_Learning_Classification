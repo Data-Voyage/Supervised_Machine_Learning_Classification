{
 "cells": [
  {
   "cell_type": "code",
   "execution_count": 1,
   "id": "a05332ca",
   "metadata": {
    "_cell_guid": "b1076dfc-b9ad-4769-8c92-a6c4dae69d19",
    "_uuid": "8f2839f25d086af736a60e9eeb907d3b93b6e0e5",
    "execution": {
     "iopub.execute_input": "2024-10-05T09:08:06.892353Z",
     "iopub.status.busy": "2024-10-05T09:08:06.890916Z",
     "iopub.status.idle": "2024-10-05T09:08:07.883555Z",
     "shell.execute_reply": "2024-10-05T09:08:07.882246Z"
    },
    "papermill": {
     "duration": 1.007396,
     "end_time": "2024-10-05T09:08:07.886173",
     "exception": false,
     "start_time": "2024-10-05T09:08:06.878777",
     "status": "completed"
    },
    "tags": []
   },
   "outputs": [
    {
     "name": "stdout",
     "output_type": "stream",
     "text": [
      "/kaggle/input/playground-series-s4e10/sample_submission.csv\n",
      "/kaggle/input/playground-series-s4e10/train.csv\n",
      "/kaggle/input/playground-series-s4e10/test.csv\n"
     ]
    }
   ],
   "source": [
    "# This Python 3 environment comes with many helpful analytics libraries installed\n",
    "# It is defined by the kaggle/python Docker image: https://github.com/kaggle/docker-python\n",
    "# For example, here's several helpful packages to load\n",
    "\n",
    "import numpy as np # linear algebra\n",
    "import pandas as pd # data processing, CSV file I/O (e.g. pd.read_csv)\n",
    "\n",
    "# Input data files are available in the read-only \"../input/\" directory\n",
    "# For example, running this (by clicking run or pressing Shift+Enter) will list all files under the input directory\n",
    "\n",
    "import os\n",
    "for dirname, _, filenames in os.walk('/kaggle/input'):\n",
    "    for filename in filenames:\n",
    "        print(os.path.join(dirname, filename))\n",
    "\n",
    "# You can write up to 20GB to the current directory (/kaggle/working/) that gets preserved as output when you create a version using \"Save & Run All\" \n",
    "# You can also write temporary files to /kaggle/temp/, but they won't be saved outside of the current session"
   ]
  },
  {
   "cell_type": "markdown",
   "id": "942f9b7a",
   "metadata": {
    "execution": {
     "iopub.execute_input": "2024-10-04T02:07:48.995777Z",
     "iopub.status.busy": "2024-10-04T02:07:48.995175Z",
     "iopub.status.idle": "2024-10-04T02:07:49.002293Z",
     "shell.execute_reply": "2024-10-04T02:07:49.000284Z",
     "shell.execute_reply.started": "2024-10-04T02:07:48.995727Z"
    },
    "papermill": {
     "duration": 0.008765,
     "end_time": "2024-10-05T09:08:07.904414",
     "exception": false,
     "start_time": "2024-10-05T09:08:07.895649",
     "status": "completed"
    },
    "tags": []
   },
   "source": [
    "## Loading datasets"
   ]
  },
  {
   "cell_type": "code",
   "execution_count": 2,
   "id": "587f4e1c",
   "metadata": {
    "execution": {
     "iopub.execute_input": "2024-10-05T09:08:07.925069Z",
     "iopub.status.busy": "2024-10-05T09:08:07.924447Z",
     "iopub.status.idle": "2024-10-05T09:08:08.251491Z",
     "shell.execute_reply": "2024-10-05T09:08:08.250303Z"
    },
    "papermill": {
     "duration": 0.341034,
     "end_time": "2024-10-05T09:08:08.254664",
     "exception": false,
     "start_time": "2024-10-05T09:08:07.913630",
     "status": "completed"
    },
    "tags": []
   },
   "outputs": [
    {
     "data": {
      "text/html": [
       "<div>\n",
       "<style scoped>\n",
       "    .dataframe tbody tr th:only-of-type {\n",
       "        vertical-align: middle;\n",
       "    }\n",
       "\n",
       "    .dataframe tbody tr th {\n",
       "        vertical-align: top;\n",
       "    }\n",
       "\n",
       "    .dataframe thead th {\n",
       "        text-align: right;\n",
       "    }\n",
       "</style>\n",
       "<table border=\"1\" class=\"dataframe\">\n",
       "  <thead>\n",
       "    <tr style=\"text-align: right;\">\n",
       "      <th></th>\n",
       "      <th>id</th>\n",
       "      <th>person_age</th>\n",
       "      <th>person_income</th>\n",
       "      <th>person_home_ownership</th>\n",
       "      <th>person_emp_length</th>\n",
       "      <th>loan_intent</th>\n",
       "      <th>loan_grade</th>\n",
       "      <th>loan_amnt</th>\n",
       "      <th>loan_int_rate</th>\n",
       "      <th>loan_percent_income</th>\n",
       "      <th>cb_person_default_on_file</th>\n",
       "      <th>cb_person_cred_hist_length</th>\n",
       "      <th>loan_status</th>\n",
       "    </tr>\n",
       "  </thead>\n",
       "  <tbody>\n",
       "    <tr>\n",
       "      <th>0</th>\n",
       "      <td>0</td>\n",
       "      <td>37</td>\n",
       "      <td>35000</td>\n",
       "      <td>RENT</td>\n",
       "      <td>0.0</td>\n",
       "      <td>EDUCATION</td>\n",
       "      <td>B</td>\n",
       "      <td>6000</td>\n",
       "      <td>11.49</td>\n",
       "      <td>0.17</td>\n",
       "      <td>N</td>\n",
       "      <td>14</td>\n",
       "      <td>0</td>\n",
       "    </tr>\n",
       "    <tr>\n",
       "      <th>1</th>\n",
       "      <td>1</td>\n",
       "      <td>22</td>\n",
       "      <td>56000</td>\n",
       "      <td>OWN</td>\n",
       "      <td>6.0</td>\n",
       "      <td>MEDICAL</td>\n",
       "      <td>C</td>\n",
       "      <td>4000</td>\n",
       "      <td>13.35</td>\n",
       "      <td>0.07</td>\n",
       "      <td>N</td>\n",
       "      <td>2</td>\n",
       "      <td>0</td>\n",
       "    </tr>\n",
       "    <tr>\n",
       "      <th>2</th>\n",
       "      <td>2</td>\n",
       "      <td>29</td>\n",
       "      <td>28800</td>\n",
       "      <td>OWN</td>\n",
       "      <td>8.0</td>\n",
       "      <td>PERSONAL</td>\n",
       "      <td>A</td>\n",
       "      <td>6000</td>\n",
       "      <td>8.90</td>\n",
       "      <td>0.21</td>\n",
       "      <td>N</td>\n",
       "      <td>10</td>\n",
       "      <td>0</td>\n",
       "    </tr>\n",
       "    <tr>\n",
       "      <th>3</th>\n",
       "      <td>3</td>\n",
       "      <td>30</td>\n",
       "      <td>70000</td>\n",
       "      <td>RENT</td>\n",
       "      <td>14.0</td>\n",
       "      <td>VENTURE</td>\n",
       "      <td>B</td>\n",
       "      <td>12000</td>\n",
       "      <td>11.11</td>\n",
       "      <td>0.17</td>\n",
       "      <td>N</td>\n",
       "      <td>5</td>\n",
       "      <td>0</td>\n",
       "    </tr>\n",
       "    <tr>\n",
       "      <th>4</th>\n",
       "      <td>4</td>\n",
       "      <td>22</td>\n",
       "      <td>60000</td>\n",
       "      <td>RENT</td>\n",
       "      <td>2.0</td>\n",
       "      <td>MEDICAL</td>\n",
       "      <td>A</td>\n",
       "      <td>6000</td>\n",
       "      <td>6.92</td>\n",
       "      <td>0.10</td>\n",
       "      <td>N</td>\n",
       "      <td>3</td>\n",
       "      <td>0</td>\n",
       "    </tr>\n",
       "    <tr>\n",
       "      <th>...</th>\n",
       "      <td>...</td>\n",
       "      <td>...</td>\n",
       "      <td>...</td>\n",
       "      <td>...</td>\n",
       "      <td>...</td>\n",
       "      <td>...</td>\n",
       "      <td>...</td>\n",
       "      <td>...</td>\n",
       "      <td>...</td>\n",
       "      <td>...</td>\n",
       "      <td>...</td>\n",
       "      <td>...</td>\n",
       "      <td>...</td>\n",
       "    </tr>\n",
       "    <tr>\n",
       "      <th>58640</th>\n",
       "      <td>58640</td>\n",
       "      <td>34</td>\n",
       "      <td>120000</td>\n",
       "      <td>MORTGAGE</td>\n",
       "      <td>5.0</td>\n",
       "      <td>EDUCATION</td>\n",
       "      <td>D</td>\n",
       "      <td>25000</td>\n",
       "      <td>15.95</td>\n",
       "      <td>0.21</td>\n",
       "      <td>Y</td>\n",
       "      <td>10</td>\n",
       "      <td>0</td>\n",
       "    </tr>\n",
       "    <tr>\n",
       "      <th>58641</th>\n",
       "      <td>58641</td>\n",
       "      <td>28</td>\n",
       "      <td>28800</td>\n",
       "      <td>RENT</td>\n",
       "      <td>0.0</td>\n",
       "      <td>MEDICAL</td>\n",
       "      <td>C</td>\n",
       "      <td>10000</td>\n",
       "      <td>12.73</td>\n",
       "      <td>0.35</td>\n",
       "      <td>N</td>\n",
       "      <td>8</td>\n",
       "      <td>1</td>\n",
       "    </tr>\n",
       "    <tr>\n",
       "      <th>58642</th>\n",
       "      <td>58642</td>\n",
       "      <td>23</td>\n",
       "      <td>44000</td>\n",
       "      <td>RENT</td>\n",
       "      <td>7.0</td>\n",
       "      <td>EDUCATION</td>\n",
       "      <td>D</td>\n",
       "      <td>6800</td>\n",
       "      <td>16.00</td>\n",
       "      <td>0.15</td>\n",
       "      <td>N</td>\n",
       "      <td>2</td>\n",
       "      <td>1</td>\n",
       "    </tr>\n",
       "    <tr>\n",
       "      <th>58643</th>\n",
       "      <td>58643</td>\n",
       "      <td>22</td>\n",
       "      <td>30000</td>\n",
       "      <td>RENT</td>\n",
       "      <td>2.0</td>\n",
       "      <td>EDUCATION</td>\n",
       "      <td>A</td>\n",
       "      <td>5000</td>\n",
       "      <td>8.90</td>\n",
       "      <td>0.17</td>\n",
       "      <td>N</td>\n",
       "      <td>3</td>\n",
       "      <td>0</td>\n",
       "    </tr>\n",
       "    <tr>\n",
       "      <th>58644</th>\n",
       "      <td>58644</td>\n",
       "      <td>31</td>\n",
       "      <td>75000</td>\n",
       "      <td>MORTGAGE</td>\n",
       "      <td>2.0</td>\n",
       "      <td>VENTURE</td>\n",
       "      <td>B</td>\n",
       "      <td>15000</td>\n",
       "      <td>11.11</td>\n",
       "      <td>0.20</td>\n",
       "      <td>N</td>\n",
       "      <td>5</td>\n",
       "      <td>0</td>\n",
       "    </tr>\n",
       "  </tbody>\n",
       "</table>\n",
       "<p>58645 rows × 13 columns</p>\n",
       "</div>"
      ],
      "text/plain": [
       "          id  person_age  person_income person_home_ownership  \\\n",
       "0          0          37          35000                  RENT   \n",
       "1          1          22          56000                   OWN   \n",
       "2          2          29          28800                   OWN   \n",
       "3          3          30          70000                  RENT   \n",
       "4          4          22          60000                  RENT   \n",
       "...      ...         ...            ...                   ...   \n",
       "58640  58640          34         120000              MORTGAGE   \n",
       "58641  58641          28          28800                  RENT   \n",
       "58642  58642          23          44000                  RENT   \n",
       "58643  58643          22          30000                  RENT   \n",
       "58644  58644          31          75000              MORTGAGE   \n",
       "\n",
       "       person_emp_length loan_intent loan_grade  loan_amnt  loan_int_rate  \\\n",
       "0                    0.0   EDUCATION          B       6000          11.49   \n",
       "1                    6.0     MEDICAL          C       4000          13.35   \n",
       "2                    8.0    PERSONAL          A       6000           8.90   \n",
       "3                   14.0     VENTURE          B      12000          11.11   \n",
       "4                    2.0     MEDICAL          A       6000           6.92   \n",
       "...                  ...         ...        ...        ...            ...   \n",
       "58640                5.0   EDUCATION          D      25000          15.95   \n",
       "58641                0.0     MEDICAL          C      10000          12.73   \n",
       "58642                7.0   EDUCATION          D       6800          16.00   \n",
       "58643                2.0   EDUCATION          A       5000           8.90   \n",
       "58644                2.0     VENTURE          B      15000          11.11   \n",
       "\n",
       "       loan_percent_income cb_person_default_on_file  \\\n",
       "0                     0.17                         N   \n",
       "1                     0.07                         N   \n",
       "2                     0.21                         N   \n",
       "3                     0.17                         N   \n",
       "4                     0.10                         N   \n",
       "...                    ...                       ...   \n",
       "58640                 0.21                         Y   \n",
       "58641                 0.35                         N   \n",
       "58642                 0.15                         N   \n",
       "58643                 0.17                         N   \n",
       "58644                 0.20                         N   \n",
       "\n",
       "       cb_person_cred_hist_length  loan_status  \n",
       "0                              14            0  \n",
       "1                               2            0  \n",
       "2                              10            0  \n",
       "3                               5            0  \n",
       "4                               3            0  \n",
       "...                           ...          ...  \n",
       "58640                          10            0  \n",
       "58641                           8            1  \n",
       "58642                           2            1  \n",
       "58643                           3            0  \n",
       "58644                           5            0  \n",
       "\n",
       "[58645 rows x 13 columns]"
      ]
     },
     "metadata": {},
     "output_type": "display_data"
    },
    {
     "data": {
      "text/html": [
       "<div>\n",
       "<style scoped>\n",
       "    .dataframe tbody tr th:only-of-type {\n",
       "        vertical-align: middle;\n",
       "    }\n",
       "\n",
       "    .dataframe tbody tr th {\n",
       "        vertical-align: top;\n",
       "    }\n",
       "\n",
       "    .dataframe thead th {\n",
       "        text-align: right;\n",
       "    }\n",
       "</style>\n",
       "<table border=\"1\" class=\"dataframe\">\n",
       "  <thead>\n",
       "    <tr style=\"text-align: right;\">\n",
       "      <th></th>\n",
       "      <th>id</th>\n",
       "      <th>person_age</th>\n",
       "      <th>person_income</th>\n",
       "      <th>person_home_ownership</th>\n",
       "      <th>person_emp_length</th>\n",
       "      <th>loan_intent</th>\n",
       "      <th>loan_grade</th>\n",
       "      <th>loan_amnt</th>\n",
       "      <th>loan_int_rate</th>\n",
       "      <th>loan_percent_income</th>\n",
       "      <th>cb_person_default_on_file</th>\n",
       "      <th>cb_person_cred_hist_length</th>\n",
       "    </tr>\n",
       "  </thead>\n",
       "  <tbody>\n",
       "    <tr>\n",
       "      <th>0</th>\n",
       "      <td>58645</td>\n",
       "      <td>23</td>\n",
       "      <td>69000</td>\n",
       "      <td>RENT</td>\n",
       "      <td>3.0</td>\n",
       "      <td>HOMEIMPROVEMENT</td>\n",
       "      <td>F</td>\n",
       "      <td>25000</td>\n",
       "      <td>15.76</td>\n",
       "      <td>0.36</td>\n",
       "      <td>N</td>\n",
       "      <td>2</td>\n",
       "    </tr>\n",
       "    <tr>\n",
       "      <th>1</th>\n",
       "      <td>58646</td>\n",
       "      <td>26</td>\n",
       "      <td>96000</td>\n",
       "      <td>MORTGAGE</td>\n",
       "      <td>6.0</td>\n",
       "      <td>PERSONAL</td>\n",
       "      <td>C</td>\n",
       "      <td>10000</td>\n",
       "      <td>12.68</td>\n",
       "      <td>0.10</td>\n",
       "      <td>Y</td>\n",
       "      <td>4</td>\n",
       "    </tr>\n",
       "    <tr>\n",
       "      <th>2</th>\n",
       "      <td>58647</td>\n",
       "      <td>26</td>\n",
       "      <td>30000</td>\n",
       "      <td>RENT</td>\n",
       "      <td>5.0</td>\n",
       "      <td>VENTURE</td>\n",
       "      <td>E</td>\n",
       "      <td>4000</td>\n",
       "      <td>17.19</td>\n",
       "      <td>0.13</td>\n",
       "      <td>Y</td>\n",
       "      <td>2</td>\n",
       "    </tr>\n",
       "    <tr>\n",
       "      <th>3</th>\n",
       "      <td>58648</td>\n",
       "      <td>33</td>\n",
       "      <td>50000</td>\n",
       "      <td>RENT</td>\n",
       "      <td>4.0</td>\n",
       "      <td>DEBTCONSOLIDATION</td>\n",
       "      <td>A</td>\n",
       "      <td>7000</td>\n",
       "      <td>8.90</td>\n",
       "      <td>0.14</td>\n",
       "      <td>N</td>\n",
       "      <td>7</td>\n",
       "    </tr>\n",
       "    <tr>\n",
       "      <th>4</th>\n",
       "      <td>58649</td>\n",
       "      <td>26</td>\n",
       "      <td>102000</td>\n",
       "      <td>MORTGAGE</td>\n",
       "      <td>8.0</td>\n",
       "      <td>HOMEIMPROVEMENT</td>\n",
       "      <td>D</td>\n",
       "      <td>15000</td>\n",
       "      <td>16.32</td>\n",
       "      <td>0.15</td>\n",
       "      <td>Y</td>\n",
       "      <td>4</td>\n",
       "    </tr>\n",
       "    <tr>\n",
       "      <th>...</th>\n",
       "      <td>...</td>\n",
       "      <td>...</td>\n",
       "      <td>...</td>\n",
       "      <td>...</td>\n",
       "      <td>...</td>\n",
       "      <td>...</td>\n",
       "      <td>...</td>\n",
       "      <td>...</td>\n",
       "      <td>...</td>\n",
       "      <td>...</td>\n",
       "      <td>...</td>\n",
       "      <td>...</td>\n",
       "    </tr>\n",
       "    <tr>\n",
       "      <th>39093</th>\n",
       "      <td>97738</td>\n",
       "      <td>22</td>\n",
       "      <td>31200</td>\n",
       "      <td>MORTGAGE</td>\n",
       "      <td>2.0</td>\n",
       "      <td>DEBTCONSOLIDATION</td>\n",
       "      <td>B</td>\n",
       "      <td>3000</td>\n",
       "      <td>10.37</td>\n",
       "      <td>0.10</td>\n",
       "      <td>N</td>\n",
       "      <td>4</td>\n",
       "    </tr>\n",
       "    <tr>\n",
       "      <th>39094</th>\n",
       "      <td>97739</td>\n",
       "      <td>22</td>\n",
       "      <td>48000</td>\n",
       "      <td>MORTGAGE</td>\n",
       "      <td>6.0</td>\n",
       "      <td>EDUCATION</td>\n",
       "      <td>A</td>\n",
       "      <td>7000</td>\n",
       "      <td>6.03</td>\n",
       "      <td>0.15</td>\n",
       "      <td>N</td>\n",
       "      <td>3</td>\n",
       "    </tr>\n",
       "    <tr>\n",
       "      <th>39095</th>\n",
       "      <td>97740</td>\n",
       "      <td>51</td>\n",
       "      <td>60000</td>\n",
       "      <td>MORTGAGE</td>\n",
       "      <td>0.0</td>\n",
       "      <td>PERSONAL</td>\n",
       "      <td>A</td>\n",
       "      <td>15000</td>\n",
       "      <td>7.51</td>\n",
       "      <td>0.25</td>\n",
       "      <td>N</td>\n",
       "      <td>25</td>\n",
       "    </tr>\n",
       "    <tr>\n",
       "      <th>39096</th>\n",
       "      <td>97741</td>\n",
       "      <td>22</td>\n",
       "      <td>36000</td>\n",
       "      <td>MORTGAGE</td>\n",
       "      <td>4.0</td>\n",
       "      <td>PERSONAL</td>\n",
       "      <td>D</td>\n",
       "      <td>14000</td>\n",
       "      <td>15.62</td>\n",
       "      <td>0.39</td>\n",
       "      <td>Y</td>\n",
       "      <td>4</td>\n",
       "    </tr>\n",
       "    <tr>\n",
       "      <th>39097</th>\n",
       "      <td>97742</td>\n",
       "      <td>31</td>\n",
       "      <td>45000</td>\n",
       "      <td>RENT</td>\n",
       "      <td>6.0</td>\n",
       "      <td>DEBTCONSOLIDATION</td>\n",
       "      <td>B</td>\n",
       "      <td>19450</td>\n",
       "      <td>9.91</td>\n",
       "      <td>0.44</td>\n",
       "      <td>N</td>\n",
       "      <td>9</td>\n",
       "    </tr>\n",
       "  </tbody>\n",
       "</table>\n",
       "<p>39098 rows × 12 columns</p>\n",
       "</div>"
      ],
      "text/plain": [
       "          id  person_age  person_income person_home_ownership  \\\n",
       "0      58645          23          69000                  RENT   \n",
       "1      58646          26          96000              MORTGAGE   \n",
       "2      58647          26          30000                  RENT   \n",
       "3      58648          33          50000                  RENT   \n",
       "4      58649          26         102000              MORTGAGE   \n",
       "...      ...         ...            ...                   ...   \n",
       "39093  97738          22          31200              MORTGAGE   \n",
       "39094  97739          22          48000              MORTGAGE   \n",
       "39095  97740          51          60000              MORTGAGE   \n",
       "39096  97741          22          36000              MORTGAGE   \n",
       "39097  97742          31          45000                  RENT   \n",
       "\n",
       "       person_emp_length        loan_intent loan_grade  loan_amnt  \\\n",
       "0                    3.0    HOMEIMPROVEMENT          F      25000   \n",
       "1                    6.0           PERSONAL          C      10000   \n",
       "2                    5.0            VENTURE          E       4000   \n",
       "3                    4.0  DEBTCONSOLIDATION          A       7000   \n",
       "4                    8.0    HOMEIMPROVEMENT          D      15000   \n",
       "...                  ...                ...        ...        ...   \n",
       "39093                2.0  DEBTCONSOLIDATION          B       3000   \n",
       "39094                6.0          EDUCATION          A       7000   \n",
       "39095                0.0           PERSONAL          A      15000   \n",
       "39096                4.0           PERSONAL          D      14000   \n",
       "39097                6.0  DEBTCONSOLIDATION          B      19450   \n",
       "\n",
       "       loan_int_rate  loan_percent_income cb_person_default_on_file  \\\n",
       "0              15.76                 0.36                         N   \n",
       "1              12.68                 0.10                         Y   \n",
       "2              17.19                 0.13                         Y   \n",
       "3               8.90                 0.14                         N   \n",
       "4              16.32                 0.15                         Y   \n",
       "...              ...                  ...                       ...   \n",
       "39093          10.37                 0.10                         N   \n",
       "39094           6.03                 0.15                         N   \n",
       "39095           7.51                 0.25                         N   \n",
       "39096          15.62                 0.39                         Y   \n",
       "39097           9.91                 0.44                         N   \n",
       "\n",
       "       cb_person_cred_hist_length  \n",
       "0                               2  \n",
       "1                               4  \n",
       "2                               2  \n",
       "3                               7  \n",
       "4                               4  \n",
       "...                           ...  \n",
       "39093                           4  \n",
       "39094                           3  \n",
       "39095                          25  \n",
       "39096                           4  \n",
       "39097                           9  \n",
       "\n",
       "[39098 rows x 12 columns]"
      ]
     },
     "metadata": {},
     "output_type": "display_data"
    }
   ],
   "source": [
    "train_df = pd.read_csv('/kaggle/input/playground-series-s4e10/train.csv')\n",
    "test_df = pd.read_csv('/kaggle/input/playground-series-s4e10/test.csv')\n",
    "display(train_df)\n",
    "display(test_df)"
   ]
  },
  {
   "cell_type": "markdown",
   "id": "1f47bf0d",
   "metadata": {
    "papermill": {
     "duration": 0.010038,
     "end_time": "2024-10-05T09:08:08.275521",
     "exception": false,
     "start_time": "2024-10-05T09:08:08.265483",
     "status": "completed"
    },
    "tags": []
   },
   "source": [
    "## Looking for missing values"
   ]
  },
  {
   "cell_type": "code",
   "execution_count": 3,
   "id": "16e887b8",
   "metadata": {
    "execution": {
     "iopub.execute_input": "2024-10-05T09:08:08.298564Z",
     "iopub.status.busy": "2024-10-05T09:08:08.298102Z",
     "iopub.status.idle": "2024-10-05T09:08:08.359272Z",
     "shell.execute_reply": "2024-10-05T09:08:08.358159Z"
    },
    "papermill": {
     "duration": 0.075541,
     "end_time": "2024-10-05T09:08:08.362135",
     "exception": false,
     "start_time": "2024-10-05T09:08:08.286594",
     "status": "completed"
    },
    "tags": []
   },
   "outputs": [
    {
     "data": {
      "text/html": [
       "<div>\n",
       "<style scoped>\n",
       "    .dataframe tbody tr th:only-of-type {\n",
       "        vertical-align: middle;\n",
       "    }\n",
       "\n",
       "    .dataframe tbody tr th {\n",
       "        vertical-align: top;\n",
       "    }\n",
       "\n",
       "    .dataframe thead th {\n",
       "        text-align: right;\n",
       "    }\n",
       "</style>\n",
       "<table border=\"1\" class=\"dataframe\">\n",
       "  <thead>\n",
       "    <tr style=\"text-align: right;\">\n",
       "      <th></th>\n",
       "      <th>0</th>\n",
       "      <th>test_df</th>\n",
       "    </tr>\n",
       "  </thead>\n",
       "  <tbody>\n",
       "  </tbody>\n",
       "</table>\n",
       "</div>"
      ],
      "text/plain": [
       "Empty DataFrame\n",
       "Columns: [0, test_df]\n",
       "Index: []"
      ]
     },
     "execution_count": 3,
     "metadata": {},
     "output_type": "execute_result"
    }
   ],
   "source": [
    "missing_train = train_df.isnull().sum()\n",
    "missing_test = test_df.isnull().sum()\n",
    "\n",
    "missing_value_cols1 = missing_train[missing_train>0]\n",
    "missing_value_cols2 = missing_test[missing_test>0]\n",
    "missing_value_df = pd.DataFrame(missing_value_cols1)\n",
    "missing_value_df['test_df'] = missing_value_cols2\n",
    "missing_value_df"
   ]
  },
  {
   "cell_type": "markdown",
   "id": "7c15e3c5",
   "metadata": {
    "papermill": {
     "duration": 0.010814,
     "end_time": "2024-10-05T09:08:08.383612",
     "exception": false,
     "start_time": "2024-10-05T09:08:08.372798",
     "status": "completed"
    },
    "tags": []
   },
   "source": [
    "## Looking for duplicate values"
   ]
  },
  {
   "cell_type": "code",
   "execution_count": 4,
   "id": "af32de0d",
   "metadata": {
    "execution": {
     "iopub.execute_input": "2024-10-05T09:08:08.406651Z",
     "iopub.status.busy": "2024-10-05T09:08:08.406183Z",
     "iopub.status.idle": "2024-10-05T09:08:08.455672Z",
     "shell.execute_reply": "2024-10-05T09:08:08.454496Z"
    },
    "papermill": {
     "duration": 0.064317,
     "end_time": "2024-10-05T09:08:08.458601",
     "exception": false,
     "start_time": "2024-10-05T09:08:08.394284",
     "status": "completed"
    },
    "tags": []
   },
   "outputs": [
    {
     "data": {
      "text/plain": [
       "0"
      ]
     },
     "execution_count": 4,
     "metadata": {},
     "output_type": "execute_result"
    }
   ],
   "source": [
    "train_df.duplicated().sum()"
   ]
  },
  {
   "cell_type": "markdown",
   "id": "f0d853f0",
   "metadata": {
    "papermill": {
     "duration": 0.010909,
     "end_time": "2024-10-05T09:08:08.480401",
     "exception": false,
     "start_time": "2024-10-05T09:08:08.469492",
     "status": "completed"
    },
    "tags": []
   },
   "source": [
    "## EDA"
   ]
  },
  {
   "cell_type": "code",
   "execution_count": 5,
   "id": "94fa2981",
   "metadata": {
    "execution": {
     "iopub.execute_input": "2024-10-05T09:08:08.504021Z",
     "iopub.status.busy": "2024-10-05T09:08:08.503552Z",
     "iopub.status.idle": "2024-10-05T09:08:08.561744Z",
     "shell.execute_reply": "2024-10-05T09:08:08.560606Z"
    },
    "papermill": {
     "duration": 0.073116,
     "end_time": "2024-10-05T09:08:08.564441",
     "exception": false,
     "start_time": "2024-10-05T09:08:08.491325",
     "status": "completed"
    },
    "tags": []
   },
   "outputs": [
    {
     "data": {
      "text/html": [
       "<div>\n",
       "<style scoped>\n",
       "    .dataframe tbody tr th:only-of-type {\n",
       "        vertical-align: middle;\n",
       "    }\n",
       "\n",
       "    .dataframe tbody tr th {\n",
       "        vertical-align: top;\n",
       "    }\n",
       "\n",
       "    .dataframe thead th {\n",
       "        text-align: right;\n",
       "    }\n",
       "</style>\n",
       "<table border=\"1\" class=\"dataframe\">\n",
       "  <thead>\n",
       "    <tr style=\"text-align: right;\">\n",
       "      <th></th>\n",
       "      <th>id</th>\n",
       "      <th>person_age</th>\n",
       "      <th>person_income</th>\n",
       "      <th>person_emp_length</th>\n",
       "      <th>loan_amnt</th>\n",
       "      <th>loan_int_rate</th>\n",
       "      <th>loan_percent_income</th>\n",
       "      <th>cb_person_cred_hist_length</th>\n",
       "      <th>loan_status</th>\n",
       "    </tr>\n",
       "  </thead>\n",
       "  <tbody>\n",
       "    <tr>\n",
       "      <th>count</th>\n",
       "      <td>58645.000000</td>\n",
       "      <td>58645.000000</td>\n",
       "      <td>5.864500e+04</td>\n",
       "      <td>58645.000000</td>\n",
       "      <td>58645.000000</td>\n",
       "      <td>58645.000000</td>\n",
       "      <td>58645.000000</td>\n",
       "      <td>58645.000000</td>\n",
       "      <td>58645.000000</td>\n",
       "    </tr>\n",
       "    <tr>\n",
       "      <th>mean</th>\n",
       "      <td>29322.000000</td>\n",
       "      <td>27.550857</td>\n",
       "      <td>6.404617e+04</td>\n",
       "      <td>4.701015</td>\n",
       "      <td>9217.556518</td>\n",
       "      <td>10.677874</td>\n",
       "      <td>0.159238</td>\n",
       "      <td>5.813556</td>\n",
       "      <td>0.142382</td>\n",
       "    </tr>\n",
       "    <tr>\n",
       "      <th>std</th>\n",
       "      <td>16929.497605</td>\n",
       "      <td>6.033216</td>\n",
       "      <td>3.793111e+04</td>\n",
       "      <td>3.959784</td>\n",
       "      <td>5563.807384</td>\n",
       "      <td>3.034697</td>\n",
       "      <td>0.091692</td>\n",
       "      <td>4.029196</td>\n",
       "      <td>0.349445</td>\n",
       "    </tr>\n",
       "    <tr>\n",
       "      <th>min</th>\n",
       "      <td>0.000000</td>\n",
       "      <td>20.000000</td>\n",
       "      <td>4.200000e+03</td>\n",
       "      <td>0.000000</td>\n",
       "      <td>500.000000</td>\n",
       "      <td>5.420000</td>\n",
       "      <td>0.000000</td>\n",
       "      <td>2.000000</td>\n",
       "      <td>0.000000</td>\n",
       "    </tr>\n",
       "    <tr>\n",
       "      <th>25%</th>\n",
       "      <td>14661.000000</td>\n",
       "      <td>23.000000</td>\n",
       "      <td>4.200000e+04</td>\n",
       "      <td>2.000000</td>\n",
       "      <td>5000.000000</td>\n",
       "      <td>7.880000</td>\n",
       "      <td>0.090000</td>\n",
       "      <td>3.000000</td>\n",
       "      <td>0.000000</td>\n",
       "    </tr>\n",
       "    <tr>\n",
       "      <th>50%</th>\n",
       "      <td>29322.000000</td>\n",
       "      <td>26.000000</td>\n",
       "      <td>5.800000e+04</td>\n",
       "      <td>4.000000</td>\n",
       "      <td>8000.000000</td>\n",
       "      <td>10.750000</td>\n",
       "      <td>0.140000</td>\n",
       "      <td>4.000000</td>\n",
       "      <td>0.000000</td>\n",
       "    </tr>\n",
       "    <tr>\n",
       "      <th>75%</th>\n",
       "      <td>43983.000000</td>\n",
       "      <td>30.000000</td>\n",
       "      <td>7.560000e+04</td>\n",
       "      <td>7.000000</td>\n",
       "      <td>12000.000000</td>\n",
       "      <td>12.990000</td>\n",
       "      <td>0.210000</td>\n",
       "      <td>8.000000</td>\n",
       "      <td>0.000000</td>\n",
       "    </tr>\n",
       "    <tr>\n",
       "      <th>max</th>\n",
       "      <td>58644.000000</td>\n",
       "      <td>123.000000</td>\n",
       "      <td>1.900000e+06</td>\n",
       "      <td>123.000000</td>\n",
       "      <td>35000.000000</td>\n",
       "      <td>23.220000</td>\n",
       "      <td>0.830000</td>\n",
       "      <td>30.000000</td>\n",
       "      <td>1.000000</td>\n",
       "    </tr>\n",
       "  </tbody>\n",
       "</table>\n",
       "</div>"
      ],
      "text/plain": [
       "                 id    person_age  person_income  person_emp_length  \\\n",
       "count  58645.000000  58645.000000   5.864500e+04       58645.000000   \n",
       "mean   29322.000000     27.550857   6.404617e+04           4.701015   \n",
       "std    16929.497605      6.033216   3.793111e+04           3.959784   \n",
       "min        0.000000     20.000000   4.200000e+03           0.000000   \n",
       "25%    14661.000000     23.000000   4.200000e+04           2.000000   \n",
       "50%    29322.000000     26.000000   5.800000e+04           4.000000   \n",
       "75%    43983.000000     30.000000   7.560000e+04           7.000000   \n",
       "max    58644.000000    123.000000   1.900000e+06         123.000000   \n",
       "\n",
       "          loan_amnt  loan_int_rate  loan_percent_income  \\\n",
       "count  58645.000000   58645.000000         58645.000000   \n",
       "mean    9217.556518      10.677874             0.159238   \n",
       "std     5563.807384       3.034697             0.091692   \n",
       "min      500.000000       5.420000             0.000000   \n",
       "25%     5000.000000       7.880000             0.090000   \n",
       "50%     8000.000000      10.750000             0.140000   \n",
       "75%    12000.000000      12.990000             0.210000   \n",
       "max    35000.000000      23.220000             0.830000   \n",
       "\n",
       "       cb_person_cred_hist_length   loan_status  \n",
       "count                58645.000000  58645.000000  \n",
       "mean                     5.813556      0.142382  \n",
       "std                      4.029196      0.349445  \n",
       "min                      2.000000      0.000000  \n",
       "25%                      3.000000      0.000000  \n",
       "50%                      4.000000      0.000000  \n",
       "75%                      8.000000      0.000000  \n",
       "max                     30.000000      1.000000  "
      ]
     },
     "execution_count": 5,
     "metadata": {},
     "output_type": "execute_result"
    }
   ],
   "source": [
    "train_df.describe()"
   ]
  },
  {
   "cell_type": "code",
   "execution_count": 6,
   "id": "b82fdd74",
   "metadata": {
    "execution": {
     "iopub.execute_input": "2024-10-05T09:08:08.588398Z",
     "iopub.status.busy": "2024-10-05T09:08:08.587969Z",
     "iopub.status.idle": "2024-10-05T09:08:08.632334Z",
     "shell.execute_reply": "2024-10-05T09:08:08.631086Z"
    },
    "papermill": {
     "duration": 0.059569,
     "end_time": "2024-10-05T09:08:08.635159",
     "exception": false,
     "start_time": "2024-10-05T09:08:08.575590",
     "status": "completed"
    },
    "tags": []
   },
   "outputs": [
    {
     "name": "stdout",
     "output_type": "stream",
     "text": [
      "<class 'pandas.core.frame.DataFrame'>\n",
      "RangeIndex: 58645 entries, 0 to 58644\n",
      "Data columns (total 13 columns):\n",
      " #   Column                      Non-Null Count  Dtype  \n",
      "---  ------                      --------------  -----  \n",
      " 0   id                          58645 non-null  int64  \n",
      " 1   person_age                  58645 non-null  int64  \n",
      " 2   person_income               58645 non-null  int64  \n",
      " 3   person_home_ownership       58645 non-null  object \n",
      " 4   person_emp_length           58645 non-null  float64\n",
      " 5   loan_intent                 58645 non-null  object \n",
      " 6   loan_grade                  58645 non-null  object \n",
      " 7   loan_amnt                   58645 non-null  int64  \n",
      " 8   loan_int_rate               58645 non-null  float64\n",
      " 9   loan_percent_income         58645 non-null  float64\n",
      " 10  cb_person_default_on_file   58645 non-null  object \n",
      " 11  cb_person_cred_hist_length  58645 non-null  int64  \n",
      " 12  loan_status                 58645 non-null  int64  \n",
      "dtypes: float64(3), int64(6), object(4)\n",
      "memory usage: 5.8+ MB\n"
     ]
    }
   ],
   "source": [
    "train_df.info()"
   ]
  },
  {
   "cell_type": "code",
   "execution_count": 7,
   "id": "b490eba8",
   "metadata": {
    "execution": {
     "iopub.execute_input": "2024-10-05T09:08:08.659267Z",
     "iopub.status.busy": "2024-10-05T09:08:08.658843Z",
     "iopub.status.idle": "2024-10-05T09:08:08.667325Z",
     "shell.execute_reply": "2024-10-05T09:08:08.666114Z"
    },
    "papermill": {
     "duration": 0.02357,
     "end_time": "2024-10-05T09:08:08.669870",
     "exception": false,
     "start_time": "2024-10-05T09:08:08.646300",
     "status": "completed"
    },
    "tags": []
   },
   "outputs": [
    {
     "data": {
      "text/plain": [
       "Index(['id', 'person_age', 'person_income', 'person_home_ownership',\n",
       "       'person_emp_length', 'loan_intent', 'loan_grade', 'loan_amnt',\n",
       "       'loan_int_rate', 'loan_percent_income', 'cb_person_default_on_file',\n",
       "       'cb_person_cred_hist_length', 'loan_status'],\n",
       "      dtype='object')"
      ]
     },
     "execution_count": 7,
     "metadata": {},
     "output_type": "execute_result"
    }
   ],
   "source": [
    "train_df.columns"
   ]
  },
  {
   "cell_type": "code",
   "execution_count": 8,
   "id": "4923a68a",
   "metadata": {
    "execution": {
     "iopub.execute_input": "2024-10-05T09:08:08.694886Z",
     "iopub.status.busy": "2024-10-05T09:08:08.694405Z",
     "iopub.status.idle": "2024-10-05T09:08:08.740723Z",
     "shell.execute_reply": "2024-10-05T09:08:08.739508Z"
    },
    "papermill": {
     "duration": 0.062632,
     "end_time": "2024-10-05T09:08:08.743928",
     "exception": false,
     "start_time": "2024-10-05T09:08:08.681296",
     "status": "completed"
    },
    "tags": []
   },
   "outputs": [
    {
     "name": "stdout",
     "output_type": "stream",
     "text": [
      "column :  person_age \n",
      "unique values :  [ 37  22  29  30  27  25  21  35  31  26  28  32  23  24  33  44  38  43\n",
      "  46  48  36  41  34  40  47  42  51  50  39  56  60  49  58  54  45  59\n",
      "  65  53  55  57  52  62  64  84  70  66  73  69  61  20  80  76 123] \n",
      "\n",
      "column :  person_income \n",
      "unique values :  [ 35000  56000  28800 ...  44955  90730 124600] \n",
      "\n",
      "column :  person_home_ownership \n",
      "unique values :  ['RENT' 'OWN' 'MORTGAGE' 'OTHER'] \n",
      "\n",
      "column :  person_emp_length \n",
      "unique values :  [  0.   6.   8.  14.   2.   9.  11.   5.   1.  13.   3.  10.  12.   4.\n",
      "   7.  21.  17.  16.  18.  19.  15.  20.  23.  24.  26.  22.  25.  41.\n",
      "  27.  28.  35.  29.  30.  31. 123.  39.] \n",
      "\n",
      "column :  loan_intent \n",
      "unique values :  ['EDUCATION' 'MEDICAL' 'PERSONAL' 'VENTURE' 'DEBTCONSOLIDATION'\n",
      " 'HOMEIMPROVEMENT'] \n",
      "\n",
      "column :  loan_grade \n",
      "unique values :  ['B' 'C' 'A' 'D' 'E' 'F' 'G'] \n",
      "\n",
      "column :  loan_amnt \n",
      "unique values :  [ 6000  4000 12000  9000  2500  5000 15000 12800 10000 16000  7300 17000\n",
      "  5950  4800  3200  7000  3000  3500 14000  2800  2000  5500 14400 15900\n",
      " 12500  8000  2400 20000 14125  9600 17200  4200  7200 18000 23500  3550\n",
      "  9800 24000 19500  6500 17500  4500 19750 28000 25000 18250  5200  8400\n",
      " 18650  3600  7800  5400 13000  1850 10800 15250  2250  1500  8700 11000\n",
      " 16800 14500  6200  8500  6800  6400 35000  8800 30000  1000  9250 16100\n",
      "  1800  3300  3650  7500 13750  6600  6250  6325  5600 17400  9200 13250\n",
      " 21000  6625  1450  9500  3250  6725  4900  6450 11500  3100  1200 10400\n",
      " 19200 14750  1400  5250  5275  5100  8200  7750 10500  9050  3350  2700\n",
      "  9975 11200 24250  4600  7700  5300 15500 12250  3800 18500 10625 10750\n",
      " 16500  5800 12375 15600  5175 19800  7125 18400 15200  5025 11400  7775\n",
      "  1700 22000  8875  1375 13200 11250  2100 21600  6700 10200 12600 16750\n",
      " 19000  5825 31000 13500 13350 11650 16700  8050  7550  5700 10700  8300\n",
      " 19925  4275 17325  1925 20800  4700 20500  4775 20400  1900 14800  6475\n",
      " 17600  6300  4750  3575 11225 26375  3400  7275 14625 24100 12700 13800\n",
      " 11700  4400 15150 19600  2200  2300 12750  4100  6650  6100  1350 23000\n",
      " 12900 11800 19400  7600 13225 14475  8475  8600  3700 11050  3900  1675\n",
      " 18225  1600 15700 10900  4475  8150  1075  1875 23475  2225 12225 10250\n",
      "  6750  4300 10600  7875  2450  4350  7400  2850  2600  8575  6025  7475\n",
      " 12150 27000  2875 23450  9925 12350  3625 14850  6225 12300  5150  2525\n",
      " 11300  7925 14100 13600 23800  4725  4375  1750  7100 13650 21125 14700\n",
      "  5125  2575 18200  8250 29800  8125 21200  7250 25475 12200 17850  3325\n",
      "  8650 11100 12100 17800  2550  8525 14550 10100  1950  5375  2750  5575\n",
      "  6900 15350  6350 12400  3850  7425  2950  4650  6825  2425  9450 14150\n",
      "  8100  3425 21500  9875  1050 16875 14200 13475 23200 24500 14900  9150\n",
      " 15775  6425  9350 16400  4975  6125 10650 17625  8450 28250 13575  3825\n",
      "  6550  4075 11525  8550  1275  1300  9900 22500  7850  1825 18125  3175\n",
      "  9100 12325 10175  1807 17450 27250 25600  2925 15175 14575  5875 22800\n",
      "  2325 11750 14600  4850 18300 10425  7375 10050  9400 21250  5625  7975\n",
      " 10950 11425  3275 13450  8850 14300 16120  3675 16200 26800  7150  9300\n",
      " 11600 20675 17900  9175  9700 24750 14350  4250 15800  5775 10675 23600\n",
      "  2050 15400 16250  3150 17375  5975 10525  2375 13400  4125  5550  7175\n",
      " 18900  1325  9475 17650  7350 11450 26000 19550  1250  4025  5075  7050\n",
      " 12475 23100  6375 23400 33000 23750 10300 14650  9950 12275  8750  8325\n",
      " 10150 24200  5675  8275  2150 19425  9125 24625 25850  6575  6775 12950\n",
      " 12450  1775 27050 22400  8675   700 17250 10375 18325 23700 11350  7225\n",
      "  8900  8225  5900 17350  3525 12875  2725 27800  6950 10450 18150  4925\n",
      " 15025 21400  4450 15850 20050 13125  1525 15300 18600 22650 11025  6150\n",
      " 18800 15650  6850  4425  1475  4950  7625  5425  3950 18850  4050  6925\n",
      "  7075 24400 24150  5650 13900  5750 15075  4325  1225 22600  3750 11975\n",
      "  6075  2125  5050 12650  5225 24375 21850 20900  7675  2275 29100 15625\n",
      " 16450 27575 17475  8825 10325 11325 10850  4525  3075   900  3450  9750\n",
      " 32000 17925 13850 21825  6975 14250 18750 23975 13700 21100  5450 30750\n",
      "  5325  2650  3125 17700  9275 22750 10975  7450  5475 12925 15450   500\n",
      " 13275  3375  3925 14675 13100 19125  3775  3725 12775 11575  2350 27500\n",
      " 11625 13075  9725  4550  1150] \n",
      "\n",
      "column :  loan_int_rate \n",
      "unique values :  [11.49 13.35  8.9  11.11  6.92  8.94  6.54 13.49 14.84 12.98 10.59 11.12\n",
      " 10.75 11.14 13.57 14.11  6.62 12.73  7.88  8.59  7.68  6.99 16.49  9.62\n",
      "  8.   15.96  7.66 18.64  7.9  11.71 15.58  7.14 12.18  7.49  9.25 14.27\n",
      " 12.53 11.86 12.21 10.99  9.91 16.4  10.36 14.26  9.32  5.42 17.06 15.23\n",
      "  7.51  9.38 14.72 14.09 13.22 13.11 10.95  7.74  7.29 10.37  5.99 10.62\n",
      " 15.62 11.99 15.2  11.58 11.48  6.91 16.32 10.25 12.68 10.65 14.96 12.61\n",
      "  5.79 13.06 12.99 10.74 15.31 12.69 11.36  6.03 10.46 16.29  9.07 13.48\n",
      "  9.99 11.34 12.42 16.07 14.22  6.17  6.39 13.79 11.26 13.99 13.93 11.83\n",
      " 13.23 14.91 10.39 17.46 11.46 13.61 15.99 15.05  9.88 15.7  15.33  8.49\n",
      " 19.69 11.89  9.76 14.59 12.87  8.88 10.   13.85  6.76 10.83  9.45 17.39\n",
      " 14.46 13.98 11.22 12.29 14.35 15.65 10.38 13.47 13.72  7.4  12.84 10.71\n",
      " 13.16 16.7  11.28 19.04 14.42 13.92 15.95 13.24 13.04 13.12 14.65  9.63\n",
      " 12.23  7.05 11.66 12.67 14.54 17.04  9.7   8.32 15.57 15.21 10.78 14.7\n",
      "  8.07 17.56  9.96 15.37 12.09 14.83 13.8  11.97 18.25 14.74 19.03 14.61\n",
      " 18.39  8.38 16.77 17.58 14.17 18.78 16.89 18.62 10.08 20.69 16.08 21.36\n",
      " 15.28  7.37 16.   11.78 15.27 20.89 10.2  16.35 17.49 13.67 12.41 12.91\n",
      " 13.43 17.19 17.88 17.14 16.45  9.51 16.82 10.28 11.41 13.36 12.86 17.27\n",
      " 17.99  7.43 19.79  7.42 20.62 19.29 17.93 11.03 18.43  8.63 12.8  18.84\n",
      " 10.91 12.22 22.06 14.79 14.82  9.59 18.07 12.17 10.96 18.79 21.21 20.3\n",
      " 15.68 13.55  9.64 14.5  10.51  7.75 17.51 19.91 10.01 13.15 14.38 19.13\n",
      " 15.59 14.93 12.92 20.16 11.54 15.76  9.67 16.02 17.26  8.7  21.74 22.11\n",
      " 14.12  9.01 12.04 18.3  19.16 16.69 10.33 13.87 16.63 15.13 12.49 17.74\n",
      " 14.18 19.42 17.43  7.12 17.03 13.3  11.91 14.3  15.25 14.51  9.33 13.17\n",
      " 21.64 18.21 15.38 15.29 15.88 18.67 14.75 16.95 15.06  6.   18.09 14.88\n",
      " 13.75 19.47 16.11 20.11 20.48  7.91  9.83  9.2  10.14 19.41 12.62 11.72\n",
      " 11.59 14.25 12.54 15.45  8.1  17.9   7.71 15.01 13.27 12.71 15.11 14.98\n",
      " 15.75 12.72 15.26  6.42 15.79  6.05 20.17 15.07  8.45 17.44 18.17 20.25\n",
      "  7.94 10.54 17.15  9.13 12.36 13.42 14.71 18.53 11.09 10.64 17.54 19.82\n",
      " 11.62 20.86 20.8  13.84 20.09  6.96  9.22 19.66 20.52 16.15 14.49 23.06\n",
      " 18.72 12.12 16.71 14.69  7.46 10.79  5.43 15.83 10.68  7.25 23.22 12.96\n",
      "  9.17 10.03] \n",
      "\n",
      "column :  loan_percent_income \n",
      "unique values :  [0.17  0.07  0.21  0.1   0.2   0.27  0.13  0.14  0.3   0.12  0.23  0.05\n",
      " 0.25  0.16  0.11  0.09  0.19  0.06  0.08  0.04  0.22  0.24  0.03  0.02\n",
      " 0.26  0.15  0.29  0.35  0.18  0.28  0.4   0.44  0.5   0.01  0.34  0.33\n",
      " 0.32  0.31  0.37  0.39  0.36  0.48  0.47  0.42  0.38  0.43  0.51  0.46\n",
      " 0.41  0.49  0.45  0.52  0.    0.56  0.53  0.384 0.55  0.83  0.54  0.59\n",
      " 0.63 ] \n",
      "\n",
      "column :  cb_person_default_on_file \n",
      "unique values :  ['N' 'Y'] \n",
      "\n",
      "column :  cb_person_cred_hist_length \n",
      "unique values :  [14  2 10  5  3 11  6  9  7  8  4 17 13 15 12 16 23 24 20 21 28 30 19 26\n",
      " 27 18 29 25 22] \n",
      "\n"
     ]
    }
   ],
   "source": [
    "for col in train_df[['person_age', 'person_income', 'person_home_ownership',\n",
    "       'person_emp_length', 'loan_intent', 'loan_grade', 'loan_amnt',\n",
    "       'loan_int_rate', 'loan_percent_income', 'cb_person_default_on_file',\n",
    "       'cb_person_cred_hist_length']]:\n",
    "    print(\"column : \",col,\"\\nunique values : \",train_df[col].unique(),\"\\n\")"
   ]
  },
  {
   "cell_type": "markdown",
   "id": "cfbcd4f0",
   "metadata": {
    "papermill": {
     "duration": 0.011372,
     "end_time": "2024-10-05T09:08:08.766913",
     "exception": false,
     "start_time": "2024-10-05T09:08:08.755541",
     "status": "completed"
    },
    "tags": []
   },
   "source": [
    "## Feature selection and splitting"
   ]
  },
  {
   "cell_type": "code",
   "execution_count": 9,
   "id": "62bbdd65",
   "metadata": {
    "execution": {
     "iopub.execute_input": "2024-10-05T09:08:08.792745Z",
     "iopub.status.busy": "2024-10-05T09:08:08.791598Z",
     "iopub.status.idle": "2024-10-05T09:08:10.400777Z",
     "shell.execute_reply": "2024-10-05T09:08:10.399491Z"
    },
    "papermill": {
     "duration": 1.625198,
     "end_time": "2024-10-05T09:08:10.403770",
     "exception": false,
     "start_time": "2024-10-05T09:08:08.778572",
     "status": "completed"
    },
    "tags": []
   },
   "outputs": [],
   "source": [
    "from sklearn.model_selection import train_test_split\n",
    "X = train_df.drop(['id','loan_status'], axis=1)\n",
    "y = train_df['loan_status']\n",
    "X_train, X_valid, y_train, y_valid = train_test_split(X, y, stratify=y, test_size=0.2, random_state =365)"
   ]
  },
  {
   "cell_type": "markdown",
   "id": "18378ec4",
   "metadata": {
    "papermill": {
     "duration": 0.012052,
     "end_time": "2024-10-05T09:08:10.428070",
     "exception": false,
     "start_time": "2024-10-05T09:08:10.416018",
     "status": "completed"
    },
    "tags": []
   },
   "source": [
    "## Preprocessing"
   ]
  },
  {
   "cell_type": "code",
   "execution_count": 10,
   "id": "f46a596d",
   "metadata": {
    "execution": {
     "iopub.execute_input": "2024-10-05T09:08:10.453490Z",
     "iopub.status.busy": "2024-10-05T09:08:10.452887Z",
     "iopub.status.idle": "2024-10-05T09:08:10.591926Z",
     "shell.execute_reply": "2024-10-05T09:08:10.590422Z"
    },
    "papermill": {
     "duration": 0.155547,
     "end_time": "2024-10-05T09:08:10.595145",
     "exception": false,
     "start_time": "2024-10-05T09:08:10.439598",
     "status": "completed"
    },
    "tags": []
   },
   "outputs": [
    {
     "data": {
      "text/plain": [
       "array([[ 1.57142857, -0.45454545, -0.8       , ...,  0.        ,\n",
       "         1.        ,  0.        ],\n",
       "       [-0.28571429, -0.24242424,  0.4       , ...,  0.        ,\n",
       "         1.        ,  0.        ],\n",
       "       [ 4.57142857, -0.63636364, -0.8       , ...,  0.        ,\n",
       "         1.        ,  0.        ],\n",
       "       ...,\n",
       "       [-0.42857143,  1.87878788, -0.8       , ...,  0.        ,\n",
       "         1.        ,  0.        ],\n",
       "       [-0.57142857, -0.18181818,  0.        , ...,  0.        ,\n",
       "         1.        ,  0.        ],\n",
       "       [ 0.28571429,  1.27272727, -0.4       , ...,  0.        ,\n",
       "         1.        ,  0.        ]])"
      ]
     },
     "execution_count": 10,
     "metadata": {},
     "output_type": "execute_result"
    }
   ],
   "source": [
    "from sklearn.preprocessing import OneHotEncoder\n",
    "from sklearn.preprocessing import RobustScaler\n",
    "from sklearn.compose import make_column_transformer\n",
    "from sklearn.compose import make_column_selector\n",
    "\n",
    "rs = RobustScaler()\n",
    "ohe = OneHotEncoder(sparse_output=False)\n",
    "\n",
    "ct = make_column_transformer(\n",
    "    (rs, make_column_selector(dtype_exclude = object)),\n",
    "    (ohe, make_column_selector(dtype_include = object)),\n",
    "    remainder='passthrough')\n",
    "ct.fit_transform(X_train)"
   ]
  },
  {
   "cell_type": "markdown",
   "id": "ca4c817e",
   "metadata": {
    "papermill": {
     "duration": 0.011305,
     "end_time": "2024-10-05T09:08:10.618568",
     "exception": false,
     "start_time": "2024-10-05T09:08:10.607263",
     "status": "completed"
    },
    "tags": []
   },
   "source": [
    "## Creating pipeline and comparing different model"
   ]
  },
  {
   "cell_type": "code",
   "execution_count": 11,
   "id": "d2c84fd4",
   "metadata": {
    "execution": {
     "iopub.execute_input": "2024-10-05T09:08:10.644276Z",
     "iopub.status.busy": "2024-10-05T09:08:10.643798Z",
     "iopub.status.idle": "2024-10-05T09:08:14.690784Z",
     "shell.execute_reply": "2024-10-05T09:08:14.681862Z"
    },
    "papermill": {
     "duration": 4.064953,
     "end_time": "2024-10-05T09:08:14.695464",
     "exception": false,
     "start_time": "2024-10-05T09:08:10.630511",
     "status": "completed"
    },
    "tags": []
   },
   "outputs": [
    {
     "name": "stderr",
     "output_type": "stream",
     "text": [
      "/opt/conda/lib/python3.10/site-packages/sklearn/linear_model/_logistic.py:458: ConvergenceWarning: lbfgs failed to converge (status=1):\n",
      "STOP: TOTAL NO. of ITERATIONS REACHED LIMIT.\n",
      "\n",
      "Increase the number of iterations (max_iter) or scale the data as shown in:\n",
      "    https://scikit-learn.org/stable/modules/preprocessing.html\n",
      "Please also refer to the documentation for alternative solver options:\n",
      "    https://scikit-learn.org/stable/modules/linear_model.html#logistic-regression\n",
      "  n_iter_i = _check_optimize_result(\n",
      "/opt/conda/lib/python3.10/site-packages/sklearn/linear_model/_logistic.py:458: ConvergenceWarning: lbfgs failed to converge (status=1):\n",
      "STOP: TOTAL NO. of ITERATIONS REACHED LIMIT.\n",
      "\n",
      "Increase the number of iterations (max_iter) or scale the data as shown in:\n",
      "    https://scikit-learn.org/stable/modules/preprocessing.html\n",
      "Please also refer to the documentation for alternative solver options:\n",
      "    https://scikit-learn.org/stable/modules/linear_model.html#logistic-regression\n",
      "  n_iter_i = _check_optimize_result(\n",
      "/opt/conda/lib/python3.10/site-packages/sklearn/linear_model/_logistic.py:458: ConvergenceWarning: lbfgs failed to converge (status=1):\n",
      "STOP: TOTAL NO. of ITERATIONS REACHED LIMIT.\n",
      "\n",
      "Increase the number of iterations (max_iter) or scale the data as shown in:\n",
      "    https://scikit-learn.org/stable/modules/preprocessing.html\n",
      "Please also refer to the documentation for alternative solver options:\n",
      "    https://scikit-learn.org/stable/modules/linear_model.html#logistic-regression\n",
      "  n_iter_i = _check_optimize_result(\n",
      "/opt/conda/lib/python3.10/site-packages/sklearn/linear_model/_logistic.py:458: ConvergenceWarning: lbfgs failed to converge (status=1):\n",
      "STOP: TOTAL NO. of ITERATIONS REACHED LIMIT.\n",
      "\n",
      "Increase the number of iterations (max_iter) or scale the data as shown in:\n",
      "    https://scikit-learn.org/stable/modules/preprocessing.html\n",
      "Please also refer to the documentation for alternative solver options:\n",
      "    https://scikit-learn.org/stable/modules/linear_model.html#logistic-regression\n",
      "  n_iter_i = _check_optimize_result(\n"
     ]
    },
    {
     "name": "stdout",
     "output_type": "stream",
     "text": [
      "Best cross-validation score for LR: 0.9007\n"
     ]
    },
    {
     "name": "stderr",
     "output_type": "stream",
     "text": [
      "/opt/conda/lib/python3.10/site-packages/sklearn/linear_model/_logistic.py:458: ConvergenceWarning: lbfgs failed to converge (status=1):\n",
      "STOP: TOTAL NO. of ITERATIONS REACHED LIMIT.\n",
      "\n",
      "Increase the number of iterations (max_iter) or scale the data as shown in:\n",
      "    https://scikit-learn.org/stable/modules/preprocessing.html\n",
      "Please also refer to the documentation for alternative solver options:\n",
      "    https://scikit-learn.org/stable/modules/linear_model.html#logistic-regression\n",
      "  n_iter_i = _check_optimize_result(\n"
     ]
    }
   ],
   "source": [
    "from sklearn.pipeline import make_pipeline\n",
    "from sklearn.linear_model import LogisticRegression\n",
    "from sklearn.model_selection import cross_val_score\n",
    "\n",
    "LR = LogisticRegression()\n",
    "\n",
    "pipe_1 = make_pipeline(ct, LR)\n",
    "\n",
    "cv_score = cross_val_score(pipe_1, X_train, y_train, cv=5, scoring='roc_auc').mean()\n",
    "print(\"Best cross-validation score for LR: {:.4f}\".format(cv_score))"
   ]
  },
  {
   "cell_type": "code",
   "execution_count": 12,
   "id": "4d64b689",
   "metadata": {
    "execution": {
     "iopub.execute_input": "2024-10-05T09:08:14.751420Z",
     "iopub.status.busy": "2024-10-05T09:08:14.750608Z",
     "iopub.status.idle": "2024-10-05T09:11:40.203804Z",
     "shell.execute_reply": "2024-10-05T09:11:40.202530Z"
    },
    "papermill": {
     "duration": 205.497203,
     "end_time": "2024-10-05T09:11:40.219428",
     "exception": false,
     "start_time": "2024-10-05T09:08:14.722225",
     "status": "completed"
    },
    "tags": []
   },
   "outputs": [
    {
     "name": "stdout",
     "output_type": "stream",
     "text": [
      "Best parameters found for RFC:  {'randomforestclassifier__max_depth': 12, 'randomforestclassifier__min_samples_leaf': 1, 'randomforestclassifier__min_samples_split': 6, 'randomforestclassifier__n_estimators': 188}\n",
      "Best cross-validation score for RFC: 0.9357\n",
      "CPU times: user 3min 25s, sys: 355 ms, total: 3min 25s\n",
      "Wall time: 3min 25s\n"
     ]
    }
   ],
   "source": [
    "%%time\n",
    "from sklearn.ensemble import RandomForestClassifier\n",
    "from sklearn.model_selection import RandomizedSearchCV\n",
    "from scipy.stats import randint\n",
    "\n",
    "RFC = RandomForestClassifier(random_state =365)\n",
    "\n",
    "params_rfc = {\n",
    "    'randomforestclassifier__n_estimators': randint(10, 200),\n",
    "    'randomforestclassifier__max_depth': randint(1, 20),\n",
    "    'randomforestclassifier__min_samples_split': randint(2, 20),\n",
    "    'randomforestclassifier__min_samples_leaf': randint(1, 20)\n",
    "    }\n",
    "pipe_2 = make_pipeline(ct, RFC)\n",
    "\n",
    "rand_search_1 = RandomizedSearchCV(pipe_2, params_rfc, n_iter=10, cv=5, scoring='roc_auc', random_state=365)\n",
    "\n",
    "rand_search_1.fit(X_train, y_train)\n",
    "\n",
    "print(\"Best parameters found for RFC: \", rand_search_1.best_params_)\n",
    "print(\"Best cross-validation score for RFC: {:.4f}\".format(rand_search_1.best_score_))"
   ]
  },
  {
   "cell_type": "code",
   "execution_count": 13,
   "id": "8bbefa13",
   "metadata": {
    "execution": {
     "iopub.execute_input": "2024-10-05T09:11:40.246483Z",
     "iopub.status.busy": "2024-10-05T09:11:40.245970Z",
     "iopub.status.idle": "2024-10-05T09:12:59.956104Z",
     "shell.execute_reply": "2024-10-05T09:12:59.954914Z"
    },
    "papermill": {
     "duration": 79.730725,
     "end_time": "2024-10-05T09:12:59.962445",
     "exception": false,
     "start_time": "2024-10-05T09:11:40.231720",
     "status": "completed"
    },
    "tags": []
   },
   "outputs": [
    {
     "name": "stdout",
     "output_type": "stream",
     "text": [
      "Best parameters found for XGBC:  {'xgbclassifier__colsample_bytree': 0.8697021233706026, 'xgbclassifier__gamma': 0.03336299934722362, 'xgbclassifier__learning_rate': 0.13781410158048013, 'xgbclassifier__max_depth': 4, 'xgbclassifier__n_estimators': 199, 'xgbclassifier__reg_alpha': 0.1992465289953509, 'xgbclassifier__reg_lambda': 1.3989939289875442, 'xgbclassifier__subsample': 0.8103481521944895}\n",
      "Best cross-validation score for XGBC: 0.9544\n",
      "CPU times: user 4min 43s, sys: 1.48 s, total: 4min 45s\n",
      "Wall time: 1min 19s\n"
     ]
    }
   ],
   "source": [
    "%%time\n",
    "from xgboost import XGBClassifier\n",
    "from scipy.stats import uniform\n",
    "XGBC = XGBClassifier(random_state=365)\n",
    "\n",
    "params_xgbc = {\n",
    "        'xgbclassifier__n_estimators': randint(50, 200),\n",
    "    'xgbclassifier__max_depth': randint(3, 10),\n",
    "    'xgbclassifier__learning_rate': uniform(0.01, 0.3),\n",
    "    'xgbclassifier__subsample': uniform(0.6, 0.4),\n",
    "    'xgbclassifier__colsample_bytree': uniform(0.6, 0.4),\n",
    "    'xgbclassifier__gamma': uniform(0, 0.2),\n",
    "    'xgbclassifier__reg_alpha': uniform(0, 0.4),\n",
    "    'xgbclassifier__reg_lambda': uniform(1, 2),\n",
    "    }\n",
    "\n",
    "pipe_3 = make_pipeline(ct, XGBC)\n",
    "\n",
    "rand_search_2 = RandomizedSearchCV(pipe_3, params_xgbc, n_iter=20, cv=5, scoring='roc_auc', random_state=365)\n",
    "\n",
    "rand_search_2.fit(X_train, y_train)\n",
    "\n",
    "print(\"Best parameters found for XGBC: \", rand_search_2.best_params_)\n",
    "print(\"Best cross-validation score for XGBC: {:.4f}\".format(rand_search_2.best_score_))"
   ]
  },
  {
   "cell_type": "code",
   "execution_count": 14,
   "id": "3aaf2921",
   "metadata": {
    "execution": {
     "iopub.execute_input": "2024-10-05T09:12:59.989921Z",
     "iopub.status.busy": "2024-10-05T09:12:59.989036Z",
     "iopub.status.idle": "2024-10-05T09:13:00.641025Z",
     "shell.execute_reply": "2024-10-05T09:13:00.639946Z"
    },
    "papermill": {
     "duration": 0.669127,
     "end_time": "2024-10-05T09:13:00.644003",
     "exception": false,
     "start_time": "2024-10-05T09:12:59.974876",
     "status": "completed"
    },
    "tags": []
   },
   "outputs": [
    {
     "name": "stderr",
     "output_type": "stream",
     "text": [
      "/opt/conda/lib/python3.10/site-packages/xgboost/core.py:160: UserWarning: [09:13:00] WARNING: /workspace/src/learner.cc:742: \n",
      "Parameters: { \"xgbclassifier__colsample_bytree\", \"xgbclassifier__gamma\", \"xgbclassifier__learning_rate\", \"xgbclassifier__max_depth\", \"xgbclassifier__n_estimators\", \"xgbclassifier__reg_alpha\", \"xgbclassifier__reg_lambda\", \"xgbclassifier__subsample\" } are not used.\n",
      "\n",
      "  warnings.warn(smsg, UserWarning)\n"
     ]
    },
    {
     "name": "stdout",
     "output_type": "stream",
     "text": [
      "ROC AUC Score for XGBC_best: 0.9563\n",
      "CPU times: user 2.21 s, sys: 18 ms, total: 2.22 s\n",
      "Wall time: 641 ms\n"
     ]
    }
   ],
   "source": [
    "%%time\n",
    "from sklearn.metrics import roc_auc_score\n",
    "\n",
    "best_params = rand_search_2.best_params_\n",
    "XGBC_best = XGBClassifier(**best_params)\n",
    "\n",
    "pipe_xgb = make_pipeline(ct, XGBC_best)\n",
    "\n",
    "pipe_xgb.fit(X_train, y_train)\n",
    "\n",
    "pred_proba = pipe_xgb.predict_proba(X_valid)[:, 1]\n",
    "\n",
    "roc_auc = roc_auc_score(y_valid, pred_proba)\n",
    "print(\"ROC AUC Score for XGBC_best: {:.4f}\".format(roc_auc))"
   ]
  },
  {
   "cell_type": "code",
   "execution_count": 15,
   "id": "d5b3093e",
   "metadata": {
    "execution": {
     "iopub.execute_input": "2024-10-05T09:13:00.672293Z",
     "iopub.status.busy": "2024-10-05T09:13:00.671388Z",
     "iopub.status.idle": "2024-10-05T09:21:15.777737Z",
     "shell.execute_reply": "2024-10-05T09:21:15.776377Z"
    },
    "papermill": {
     "duration": 495.12358,
     "end_time": "2024-10-05T09:21:15.780881",
     "exception": false,
     "start_time": "2024-10-05T09:13:00.657301",
     "status": "completed"
    },
    "tags": []
   },
   "outputs": [
    {
     "name": "stderr",
     "output_type": "stream",
     "text": [
      "[I 2024-10-05 09:13:00,934] A new study created in memory with name: no-name-ff4e4314-4923-491d-992c-1af1978360b8\n",
      "[I 2024-10-05 09:13:04,821] Trial 0 finished with value: 0.9377570667824704 and parameters: {'max_depth': 4, 'learning_rate': 0.025376529621789243, 'n_estimators': 191, 'subsample': 0.5651515101801885, 'colsample_bytree': 0.7353845663612548, 'gamma': 2.3389256417669206, 'reg_alpha': 0.6860573940094022, 'reg_lambda': 2.0930181241241286}. Best is trial 0 with value: 0.9377570667824704.\n",
      "[I 2024-10-05 09:13:07,518] Trial 1 finished with value: 0.9203462074627595 and parameters: {'max_depth': 3, 'learning_rate': 0.016340062898868492, 'n_estimators': 140, 'subsample': 0.595777252844804, 'colsample_bytree': 0.802447949952277, 'gamma': 3.6491232490707963, 'reg_alpha': 4.849399212943278, 'reg_lambda': 3.8288781930849107}. Best is trial 0 with value: 0.9377570667824704.\n",
      "[I 2024-10-05 09:13:09,640] Trial 2 finished with value: 0.9466018493026368 and parameters: {'max_depth': 5, 'learning_rate': 0.0964342469224894, 'n_estimators': 74, 'subsample': 0.8914160937301356, 'colsample_bytree': 0.8436846612792375, 'gamma': 2.520283783789938, 'reg_alpha': 2.925731138016929, 'reg_lambda': 1.7911307414984283}. Best is trial 2 with value: 0.9466018493026368.\n",
      "[I 2024-10-05 09:13:11,686] Trial 3 finished with value: 0.9521178126777488 and parameters: {'max_depth': 9, 'learning_rate': 0.5159030381825085, 'n_estimators': 82, 'subsample': 0.7486696359245111, 'colsample_bytree': 0.6989826857714487, 'gamma': 1.6237627918796211, 'reg_alpha': 4.166347460868318, 'reg_lambda': 2.2845692241314337}. Best is trial 3 with value: 0.9521178126777488.\n",
      "[I 2024-10-05 09:13:13,867] Trial 4 finished with value: 0.9526211137082076 and parameters: {'max_depth': 9, 'learning_rate': 0.2191873244649072, 'n_estimators': 91, 'subsample': 0.8841866934018932, 'colsample_bytree': 0.8506786630346042, 'gamma': 3.200057767306375, 'reg_alpha': 0.43643345752739593, 'reg_lambda': 4.236757931244895}. Best is trial 4 with value: 0.9526211137082076.\n",
      "[I 2024-10-05 09:13:16,031] Trial 5 finished with value: 0.9203913717089378 and parameters: {'max_depth': 6, 'learning_rate': 0.0019382718580296199, 'n_estimators': 71, 'subsample': 0.8160873696628169, 'colsample_bytree': 0.8883374333069788, 'gamma': 2.708121055400893, 'reg_alpha': 0.948685529167862, 'reg_lambda': 3.5937601504886385}. Best is trial 4 with value: 0.9526211137082076.\n",
      "[I 2024-10-05 09:13:19,737] Trial 6 finished with value: 0.9471023879400994 and parameters: {'max_depth': 10, 'learning_rate': 0.03387645072686523, 'n_estimators': 103, 'subsample': 0.899573457298944, 'colsample_bytree': 0.7698370066698432, 'gamma': 1.407326141800469, 'reg_alpha': 2.7091988862332843, 'reg_lambda': 0.23383776999368888}. Best is trial 4 with value: 0.9526211137082076.\n",
      "[I 2024-10-05 09:13:25,560] Trial 7 finished with value: 0.9311160326426334 and parameters: {'max_depth': 4, 'learning_rate': 0.018161632165753408, 'n_estimators': 220, 'subsample': 0.5119134243254032, 'colsample_bytree': 0.6485372858696761, 'gamma': 2.1246513704553815, 'reg_alpha': 4.456871853733388, 'reg_lambda': 4.3398309671720545}. Best is trial 4 with value: 0.9526211137082076.\n",
      "[I 2024-10-05 09:13:29,285] Trial 8 finished with value: 0.953620720408597 and parameters: {'max_depth': 5, 'learning_rate': 0.0923573071751051, 'n_estimators': 165, 'subsample': 0.8930639847728913, 'colsample_bytree': 0.9354247802059332, 'gamma': 0.2857707854395153, 'reg_alpha': 3.9607826606918, 'reg_lambda': 0.4814254975249538}. Best is trial 8 with value: 0.953620720408597.\n",
      "[I 2024-10-05 09:13:32,823] Trial 9 finished with value: 0.9334020683108575 and parameters: {'max_depth': 8, 'learning_rate': 0.009171376971470115, 'n_estimators': 118, 'subsample': 0.6029175832888014, 'colsample_bytree': 0.6673184252788236, 'gamma': 2.725843887016217, 'reg_alpha': 1.9671070911194422, 'reg_lambda': 2.5899133902301683}. Best is trial 8 with value: 0.953620720408597.\n",
      "[I 2024-10-05 09:13:36,852] Trial 10 finished with value: 0.9543346532161803 and parameters: {'max_depth': 2, 'learning_rate': 0.7490938015551861, 'n_estimators': 289, 'subsample': 0.9813317778631911, 'colsample_bytree': 0.5089590147162713, 'gamma': 0.1306357854537347, 'reg_alpha': 3.3687235518128067, 'reg_lambda': 0.2916625824978385}. Best is trial 10 with value: 0.9543346532161803.\n",
      "[I 2024-10-05 09:13:40,642] Trial 11 finished with value: 0.9522919426293518 and parameters: {'max_depth': 2, 'learning_rate': 0.9026948246290145, 'n_estimators': 290, 'subsample': 0.9967770763217101, 'colsample_bytree': 0.5167467676699218, 'gamma': 0.1589338073035545, 'reg_alpha': 3.581383979539454, 'reg_lambda': 0.05045352029886163}. Best is trial 10 with value: 0.9543346532161803.\n",
      "[I 2024-10-05 09:13:44,300] Trial 12 finished with value: 0.9450445028701973 and parameters: {'max_depth': 2, 'learning_rate': 0.1314485253875229, 'n_estimators': 253, 'subsample': 0.999791777241234, 'colsample_bytree': 0.9997563190784803, 'gamma': 0.08629683443146874, 'reg_alpha': 3.375021695359725, 'reg_lambda': 1.0113678241784334}. Best is trial 10 with value: 0.9543346532161803.\n",
      "[I 2024-10-05 09:13:46,880] Trial 13 finished with value: 0.9506061889863343 and parameters: {'max_depth': 7, 'learning_rate': 0.36663544996652936, 'n_estimators': 168, 'subsample': 0.7307919009703848, 'colsample_bytree': 0.527934550636604, 'gamma': 4.7037523979999625, 'reg_alpha': 1.811701371460006, 'reg_lambda': 0.9536914585333225}. Best is trial 10 with value: 0.9543346532161803.\n",
      "[I 2024-10-05 09:13:52,651] Trial 14 finished with value: 0.9540141264979134 and parameters: {'max_depth': 6, 'learning_rate': 0.06334991713640305, 'n_estimators': 293, 'subsample': 0.9317618336408559, 'colsample_bytree': 0.9747888692912161, 'gamma': 0.8081133332457484, 'reg_alpha': 3.794067255011413, 'reg_lambda': 0.9150339294702992}. Best is trial 10 with value: 0.9543346532161803.\n",
      "[I 2024-10-05 09:14:01,784] Trial 15 finished with value: 0.9328574190113447 and parameters: {'max_depth': 7, 'learning_rate': 0.0038617318343829683, 'n_estimators': 299, 'subsample': 0.8201912593590812, 'colsample_bytree': 0.5952322018821361, 'gamma': 0.9246452995355756, 'reg_alpha': 3.2863063823500065, 'reg_lambda': 1.2297139777170214}. Best is trial 10 with value: 0.9543346532161803.\n",
      "[I 2024-10-05 09:14:06,059] Trial 16 finished with value: 0.9428269740022941 and parameters: {'max_depth': 3, 'learning_rate': 0.05571493594798795, 'n_estimators': 258, 'subsample': 0.9730049618040891, 'colsample_bytree': 0.9867226976566918, 'gamma': 0.8724175312504954, 'reg_alpha': 2.1306389556503222, 'reg_lambda': 3.0008634171440858}. Best is trial 10 with value: 0.9543346532161803.\n",
      "[I 2024-10-05 09:14:10,160] Trial 17 finished with value: 0.9415538829266884 and parameters: {'max_depth': 6, 'learning_rate': 0.9359421210798107, 'n_estimators': 265, 'subsample': 0.9449187657542961, 'colsample_bytree': 0.6005822268508532, 'gamma': 0.7361989770819167, 'reg_alpha': 1.3811224149090355, 'reg_lambda': 1.343784470975851}. Best is trial 10 with value: 0.9543346532161803.\n",
      "[I 2024-10-05 09:14:13,747] Trial 18 finished with value: 0.9538353017167402 and parameters: {'max_depth': 4, 'learning_rate': 0.23904129332439145, 'n_estimators': 213, 'subsample': 0.7977041511381493, 'colsample_bytree': 0.9252886161079572, 'gamma': 1.5568197026481592, 'reg_alpha': 3.802406275133594, 'reg_lambda': 0.6385734920434643}. Best is trial 10 with value: 0.9543346532161803.\n",
      "[I 2024-10-05 09:14:19,690] Trial 19 finished with value: 0.9341230085775736 and parameters: {'max_depth': 7, 'learning_rate': 0.007717140150354003, 'n_estimators': 232, 'subsample': 0.688022827037275, 'colsample_bytree': 0.5947269040590863, 'gamma': 0.5473052664314889, 'reg_alpha': 4.788505588264995, 'reg_lambda': 1.7815590598043696}. Best is trial 10 with value: 0.9543346532161803.\n",
      "[I 2024-10-05 09:14:24,119] Trial 20 finished with value: 0.9441320903977264 and parameters: {'max_depth': 3, 'learning_rate': 0.05436760369070316, 'n_estimators': 274, 'subsample': 0.9408152904707365, 'colsample_bytree': 0.7980511457507955, 'gamma': 1.3593244850671715, 'reg_alpha': 2.473426969579573, 'reg_lambda': 0.7184445691912436}. Best is trial 10 with value: 0.9543346532161803.\n",
      "[I 2024-10-05 09:14:28,901] Trial 21 finished with value: 0.953013379826492 and parameters: {'max_depth': 4, 'learning_rate': 0.23461266150667723, 'n_estimators': 217, 'subsample': 0.8212672990131584, 'colsample_bytree': 0.9145325543218901, 'gamma': 1.8284728437336524, 'reg_alpha': 3.7323090684580493, 'reg_lambda': 0.5322315895837268}. Best is trial 10 with value: 0.9543346532161803.\n",
      "[I 2024-10-05 09:14:32,685] Trial 22 finished with value: 0.9522661722615672 and parameters: {'max_depth': 5, 'learning_rate': 0.47236878757147177, 'n_estimators': 240, 'subsample': 0.8493302051295952, 'colsample_bytree': 0.9711310851790861, 'gamma': 1.1295531344316738, 'reg_alpha': 4.298383917937355, 'reg_lambda': 1.4640805742638263}. Best is trial 10 with value: 0.9543346532161803.\n",
      "[I 2024-10-05 09:14:35,763] Trial 23 finished with value: 0.94810024566282 and parameters: {'max_depth': 2, 'learning_rate': 0.21598231831674491, 'n_estimators': 195, 'subsample': 0.9400649789719859, 'colsample_bytree': 0.9283595805411946, 'gamma': 0.5453287477237718, 'reg_alpha': 3.114218562481917, 'reg_lambda': 0.01867028132337123}. Best is trial 10 with value: 0.9543346532161803.\n",
      "[I 2024-10-05 09:14:40,049] Trial 24 finished with value: 0.9537089525044777 and parameters: {'max_depth': 3, 'learning_rate': 0.34754141966855573, 'n_estimators': 290, 'subsample': 0.6783417769384705, 'colsample_bytree': 0.871114087576907, 'gamma': 1.8348017282232831, 'reg_alpha': 3.7772275077418014, 'reg_lambda': 0.6635440904038451}. Best is trial 10 with value: 0.9543346532161803.\n",
      "[I 2024-10-05 09:14:45,142] Trial 25 finished with value: 0.9553147774807353 and parameters: {'max_depth': 4, 'learning_rate': 0.16882421335476094, 'n_estimators': 268, 'subsample': 0.8423065298297572, 'colsample_bytree': 0.9589004296238802, 'gamma': 0.004779217918236878, 'reg_alpha': 2.5403634795761065, 'reg_lambda': 0.9330269450163751}. Best is trial 25 with value: 0.9553147774807353.\n",
      "[I 2024-10-05 09:14:51,873] Trial 26 finished with value: 0.9538789045690995 and parameters: {'max_depth': 6, 'learning_rate': 0.09748861644024687, 'n_estimators': 278, 'subsample': 0.8602660908883814, 'colsample_bytree': 0.9624243665584816, 'gamma': 0.03632321721333884, 'reg_alpha': 2.428931193896128, 'reg_lambda': 4.785063602863977}. Best is trial 25 with value: 0.9553147774807353.\n",
      "[I 2024-10-05 09:14:57,070] Trial 27 finished with value: 0.9517768240752567 and parameters: {'max_depth': 5, 'learning_rate': 0.04738221916466895, 'n_estimators': 255, 'subsample': 0.9256968660393504, 'colsample_bytree': 0.8219927498326713, 'gamma': 1.1040313553941092, 'reg_alpha': 2.814583824621404, 'reg_lambda': 1.6371913737258164}. Best is trial 25 with value: 0.9553147774807353.\n",
      "[I 2024-10-05 09:15:00,046] Trial 28 finished with value: 0.9424129814632847 and parameters: {'max_depth': 2, 'learning_rate': 0.6595421913357806, 'n_estimators': 52, 'subsample': 0.7804954839237994, 'colsample_bytree': 0.5555264588145981, 'gamma': 0.39294765804091913, 'reg_alpha': 0.029786708782526095, 'reg_lambda': 2.7586345696148}. Best is trial 25 with value: 0.9553147774807353.\n",
      "[I 2024-10-05 09:15:03,951] Trial 29 finished with value: 0.9427009697551385 and parameters: {'max_depth': 3, 'learning_rate': 0.13695649335357257, 'n_estimators': 300, 'subsample': 0.9656718704912977, 'colsample_bytree': 0.7431203526131804, 'gamma': 4.887297414700221, 'reg_alpha': 1.4708669344803802, 'reg_lambda': 1.0682536898670583}. Best is trial 25 with value: 0.9553147774807353.\n",
      "[I 2024-10-05 09:15:07,518] Trial 30 finished with value: 0.9154689860688808 and parameters: {'max_depth': 4, 'learning_rate': 0.001070517229162574, 'n_estimators': 193, 'subsample': 0.8582820786132882, 'colsample_bytree': 0.7129667765739528, 'gamma': 0.6481163032380641, 'reg_alpha': 3.362700105951644, 'reg_lambda': 1.9735825205345798}. Best is trial 25 with value: 0.9553147774807353.\n",
      "[I 2024-10-05 09:15:14,179] Trial 31 finished with value: 0.9545471036234773 and parameters: {'max_depth': 6, 'learning_rate': 0.07622221987219284, 'n_estimators': 278, 'subsample': 0.8644225023698624, 'colsample_bytree': 0.9604949865572445, 'gamma': 0.16292453716228988, 'reg_alpha': 2.31590796309404, 'reg_lambda': 4.706895976396356}. Best is trial 25 with value: 0.9553147774807353.\n",
      "[I 2024-10-05 09:15:21,693] Trial 32 finished with value: 0.9539213239333593 and parameters: {'max_depth': 7, 'learning_rate': 0.06273418100360943, 'n_estimators': 275, 'subsample': 0.9116187912900742, 'colsample_bytree': 0.95665162305685, 'gamma': 0.01537124537141829, 'reg_alpha': 2.2794355029718645, 'reg_lambda': 0.3166986114591075}. Best is trial 25 with value: 0.9553147774807353.\n",
      "[I 2024-10-05 09:15:28,824] Trial 33 finished with value: 0.9517486520535373 and parameters: {'max_depth': 8, 'learning_rate': 0.03051086481330055, 'n_estimators': 242, 'subsample': 0.970517070895663, 'colsample_bytree': 0.8910767348392323, 'gamma': 0.394589684078724, 'reg_alpha': 2.968298344190415, 'reg_lambda': 3.2107971458149795}. Best is trial 25 with value: 0.9553147774807353.\n",
      "[I 2024-10-05 09:15:36,459] Trial 34 finished with value: 0.9538614184076621 and parameters: {'max_depth': 5, 'learning_rate': 0.15074173227184662, 'n_estimators': 282, 'subsample': 0.8632731870147761, 'colsample_bytree': 0.9574414109704821, 'gamma': 0.36871641736388483, 'reg_alpha': 2.6711159356616347, 'reg_lambda': 2.280929563609509}. Best is trial 25 with value: 0.9553147774807353.\n",
      "[I 2024-10-05 09:15:42,261] Trial 35 finished with value: 0.9539428141920482 and parameters: {'max_depth': 6, 'learning_rate': 0.08983235510874711, 'n_estimators': 268, 'subsample': 0.770165329847036, 'colsample_bytree': 0.8936296243713174, 'gamma': 1.0437867686179207, 'reg_alpha': 3.088114718196146, 'reg_lambda': 4.838300584401562}. Best is trial 25 with value: 0.9553147774807353.\n",
      "[I 2024-10-05 09:15:49,586] Trial 36 finished with value: 0.9494436674866191 and parameters: {'max_depth': 8, 'learning_rate': 0.021254634289786568, 'n_estimators': 246, 'subsample': 0.9171334481370408, 'colsample_bytree': 0.866458592582096, 'gamma': 0.6833430845058612, 'reg_alpha': 1.7930661613631547, 'reg_lambda': 3.5985518200346545}. Best is trial 25 with value: 0.9553147774807353.\n",
      "[I 2024-10-05 09:15:55,000] Trial 37 finished with value: 0.9498652131990987 and parameters: {'max_depth': 6, 'learning_rate': 0.04006894071192695, 'n_estimators': 290, 'subsample': 0.8918488212551181, 'colsample_bytree': 0.8339927868694305, 'gamma': 3.7747167917622444, 'reg_alpha': 1.4798300956524737, 'reg_lambda': 4.121556987982594}. Best is trial 25 with value: 0.9553147774807353.\n",
      "[I 2024-10-05 09:15:59,406] Trial 38 finished with value: 0.9280709639722884 and parameters: {'max_depth': 4, 'learning_rate': 0.011706199629303676, 'n_estimators': 227, 'subsample': 0.8412534756980274, 'colsample_bytree': 0.7728827227674834, 'gamma': 1.3061593229274924, 'reg_alpha': 4.13159095781013, 'reg_lambda': 0.8258228302671489}. Best is trial 25 with value: 0.9553147774807353.\n",
      "[I 2024-10-05 09:16:04,412] Trial 39 finished with value: 0.9502346577868546 and parameters: {'max_depth': 5, 'learning_rate': 0.07575764677747301, 'n_estimators': 140, 'subsample': 0.8788643082803674, 'colsample_bytree': 0.9075759016068843, 'gamma': 0.21536261549503172, 'reg_alpha': 4.649374171084215, 'reg_lambda': 2.0973798327382225}. Best is trial 25 with value: 0.9553147774807353.\n",
      "[I 2024-10-05 09:16:13,294] Trial 40 finished with value: 0.9468554797935885 and parameters: {'max_depth': 9, 'learning_rate': 0.3421754019132616, 'n_estimators': 263, 'subsample': 0.9603030023239286, 'colsample_bytree': 0.6713916690776766, 'gamma': 1.2644407625383991e-05, 'reg_alpha': 2.7070178844850448, 'reg_lambda': 0.3333932437712414}. Best is trial 25 with value: 0.9553147774807353.\n",
      "[I 2024-10-05 09:16:19,225] Trial 41 finished with value: 0.952595990569543 and parameters: {'max_depth': 6, 'learning_rate': 0.1639473727133026, 'n_estimators': 270, 'subsample': 0.7255676767181665, 'colsample_bytree': 0.9494807637056485, 'gamma': 0.881900862149027, 'reg_alpha': 3.068565663527837, 'reg_lambda': 4.3421392374045995}. Best is trial 25 with value: 0.9553147774807353.\n",
      "[I 2024-10-05 09:16:25,055] Trial 42 finished with value: 0.954110488675845 and parameters: {'max_depth': 6, 'learning_rate': 0.10307327516412591, 'n_estimators': 288, 'subsample': 0.7917950361581603, 'colsample_bytree': 0.9843649663634071, 'gamma': 1.07502397120343, 'reg_alpha': 3.4629458084619498, 'reg_lambda': 4.89489095113384}. Best is trial 25 with value: 0.9553147774807353.\n",
      "[I 2024-10-05 09:16:30,972] Trial 43 finished with value: 0.9466165044784154 and parameters: {'max_depth': 5, 'learning_rate': 0.027116034735368385, 'n_estimators': 286, 'subsample': 0.7985835676864301, 'colsample_bytree': 0.995764115686309, 'gamma': 0.4623930930516447, 'reg_alpha': 3.544577511859684, 'reg_lambda': 4.544903923723711}. Best is trial 25 with value: 0.9553147774807353.\n",
      "[I 2024-10-05 09:16:40,487] Trial 44 finished with value: 0.9536244757540058 and parameters: {'max_depth': 7, 'learning_rate': 0.09721509564958697, 'n_estimators': 300, 'subsample': 0.8796092541251026, 'colsample_bytree': 0.9792639023427399, 'gamma': 0.26365292030903875, 'reg_alpha': 3.974009233327434, 'reg_lambda': 3.8389366375251823}. Best is trial 25 with value: 0.9553147774807353.\n",
      "[I 2024-10-05 09:16:44,331] Trial 45 finished with value: 0.95078485446536 and parameters: {'max_depth': 6, 'learning_rate': 0.660541320727787, 'n_estimators': 284, 'subsample': 0.8212644200748023, 'colsample_bytree': 0.9396035298025622, 'gamma': 2.183222745587849, 'reg_alpha': 4.477037709820019, 'reg_lambda': 4.577225896426493}. Best is trial 25 with value: 0.9553147774807353.\n",
      "[I 2024-10-05 09:16:47,923] Trial 46 finished with value: 0.9501940161546758 and parameters: {'max_depth': 7, 'learning_rate': 0.18344552364850708, 'n_estimators': 252, 'subsample': 0.7554310033665654, 'colsample_bytree': 0.8651884092153193, 'gamma': 3.58159879426465, 'reg_alpha': 4.989593274003916, 'reg_lambda': 3.981718308968486}. Best is trial 25 with value: 0.9553147774807353.\n",
      "[I 2024-10-05 09:16:54,094] Trial 47 finished with value: 0.952739982514305 and parameters: {'max_depth': 8, 'learning_rate': 0.04053370461608091, 'n_estimators': 207, 'subsample': 0.9071252417992599, 'colsample_bytree': 0.9759339702259078, 'gamma': 0.7702700799722617, 'reg_alpha': 2.20078636871191, 'reg_lambda': 3.3786551118671735}. Best is trial 25 with value: 0.9553147774807353.\n",
      "[I 2024-10-05 09:16:58,359] Trial 48 finished with value: 0.9519547612906314 and parameters: {'max_depth': 10, 'learning_rate': 0.11744838697479217, 'n_estimators': 291, 'subsample': 0.9962328136314056, 'colsample_bytree': 0.5016937372328507, 'gamma': 2.4963374767275393, 'reg_alpha': 3.5071878860029524, 'reg_lambda': 4.987064881623147}. Best is trial 25 with value: 0.9553147774807353.\n",
      "[I 2024-10-05 09:17:02,195] Trial 49 finished with value: 0.944442583349469 and parameters: {'max_depth': 3, 'learning_rate': 0.06463412321476102, 'n_estimators': 234, 'subsample': 0.8382416651245815, 'colsample_bytree': 0.9390311201742244, 'gamma': 2.9572033549140815, 'reg_alpha': 0.8163764557529714, 'reg_lambda': 1.1533932076882458}. Best is trial 25 with value: 0.9553147774807353.\n",
      "[I 2024-10-05 09:17:09,901] Trial 50 finished with value: 0.9475242622843384 and parameters: {'max_depth': 5, 'learning_rate': 0.29911908433829665, 'n_estimators': 261, 'subsample': 0.5216470119157699, 'colsample_bytree': 0.9972743317037454, 'gamma': 0.23484717638242603, 'reg_alpha': 3.236233920075406, 'reg_lambda': 0.14225656779563112}. Best is trial 25 with value: 0.9553147774807353.\n",
      "[I 2024-10-05 09:17:15,904] Trial 51 finished with value: 0.9538652787559686 and parameters: {'max_depth': 6, 'learning_rate': 0.08957665476466534, 'n_estimators': 270, 'subsample': 0.7794436653535998, 'colsample_bytree': 0.9016048358669644, 'gamma': 0.9527298920730873, 'reg_alpha': 2.865198226822397, 'reg_lambda': 4.901422451353446}. Best is trial 25 with value: 0.9553147774807353.\n",
      "[I 2024-10-05 09:17:21,642] Trial 52 finished with value: 0.9545009083260704 and parameters: {'max_depth': 6, 'learning_rate': 0.11563634180723602, 'n_estimators': 276, 'subsample': 0.7590644590207086, 'colsample_bytree': 0.9196596401742372, 'gamma': 1.0867272064447364, 'reg_alpha': 2.6473732874547364, 'reg_lambda': 4.530818733818873}. Best is trial 25 with value: 0.9553147774807353.\n",
      "[I 2024-10-05 09:17:27,863] Trial 53 finished with value: 0.9535550558615409 and parameters: {'max_depth': 7, 'learning_rate': 0.11717158783311787, 'n_estimators': 280, 'subsample': 0.7134472303244779, 'colsample_bytree': 0.9709612386930755, 'gamma': 1.261627985655689, 'reg_alpha': 1.9353051964356145, 'reg_lambda': 4.539667865299877}. Best is trial 25 with value: 0.9553147774807353.\n",
      "[I 2024-10-05 09:17:33,330] Trial 54 finished with value: 0.9481572726775791 and parameters: {'max_depth': 5, 'learning_rate': 0.5442566618163882, 'n_estimators': 300, 'subsample': 0.6517015768037587, 'colsample_bytree': 0.915351172260736, 'gamma': 1.6088091667234377, 'reg_alpha': 2.4872503039474076, 'reg_lambda': 4.6748456527732}. Best is trial 25 with value: 0.9553147774807353.\n",
      "[I 2024-10-05 09:17:37,951] Trial 55 finished with value: 0.9509948193259709 and parameters: {'max_depth': 4, 'learning_rate': 0.07509992059521424, 'n_estimators': 249, 'subsample': 0.8003615917598473, 'colsample_bytree': 0.6321758768071221, 'gamma': 0.5946660525197983, 'reg_alpha': 4.001668951807963, 'reg_lambda': 4.334409208421634}. Best is trial 25 with value: 0.9553147774807353.\n",
      "[I 2024-10-05 09:17:42,529] Trial 56 finished with value: 0.9533664380099666 and parameters: {'max_depth': 6, 'learning_rate': 0.20185230906981425, 'n_estimators': 156, 'subsample': 0.7486640932141733, 'colsample_bytree': 0.9379872662295103, 'gamma': 1.8970646954874413, 'reg_alpha': 2.5774040529176823, 'reg_lambda': 0.4634609066843911}. Best is trial 25 with value: 0.9553147774807353.\n",
      "[I 2024-10-05 09:17:44,795] Trial 57 finished with value: 0.923088777774759 and parameters: {'max_depth': 2, 'learning_rate': 0.045626842142694635, 'n_estimators': 115, 'subsample': 0.9862413967999445, 'colsample_bytree': 0.9837068341233436, 'gamma': 0.1676020060168179, 'reg_alpha': 2.2883617959470435, 'reg_lambda': 0.882252323988485}. Best is trial 25 with value: 0.9553147774807353.\n",
      "[I 2024-10-05 09:17:52,166] Trial 58 finished with value: 0.9461097592544355 and parameters: {'max_depth': 7, 'learning_rate': 0.014722781353230985, 'n_estimators': 291, 'subsample': 0.933311056692242, 'colsample_bytree': 0.9225757047480716, 'gamma': 1.5197032059566293, 'reg_alpha': 3.721314579222508, 'reg_lambda': 1.3767032833953383}. Best is trial 25 with value: 0.9553147774807353.\n",
      "[I 2024-10-05 09:17:56,120] Trial 59 finished with value: 0.9547893534304015 and parameters: {'max_depth': 6, 'learning_rate': 0.2506897519903264, 'n_estimators': 258, 'subsample': 0.9544240448086384, 'colsample_bytree': 0.5557318295003412, 'gamma': 0.8184941210765991, 'reg_alpha': 1.6710722466315777, 'reg_lambda': 4.250188358935278}. Best is trial 25 with value: 0.9553147774807353.\n",
      "[I 2024-10-05 09:18:01,413] Trial 60 finished with value: 0.953821633164375 and parameters: {'max_depth': 5, 'learning_rate': 0.25681603808550063, 'n_estimators': 258, 'subsample': 0.8334322459007184, 'colsample_bytree': 0.5434767030968735, 'gamma': 0.4487965974599333, 'reg_alpha': 1.2290214136505977, 'reg_lambda': 4.136387064394686}. Best is trial 25 with value: 0.9553147774807353.\n",
      "[I 2024-10-05 09:18:06,254] Trial 61 finished with value: 0.9547389849788932 and parameters: {'max_depth': 6, 'learning_rate': 0.11898508368572508, 'n_estimators': 278, 'subsample': 0.9593212976443122, 'colsample_bytree': 0.5317439813039512, 'gamma': 0.7962618560834663, 'reg_alpha': 1.6455120948161015, 'reg_lambda': 4.391484435883004}. Best is trial 25 with value: 0.9553147774807353.\n",
      "[I 2024-10-05 09:18:09,825] Trial 62 finished with value: 0.9535599487624211 and parameters: {'max_depth': 6, 'learning_rate': 0.45867016830441387, 'n_estimators': 275, 'subsample': 0.9643423543696048, 'colsample_bytree': 0.5680453875417258, 'gamma': 1.1304819805806967, 'reg_alpha': 2.0459154222595357, 'reg_lambda': 4.452716856846494}. Best is trial 25 with value: 0.9553147774807353.\n",
      "[I 2024-10-05 09:18:15,879] Trial 63 finished with value: 0.9549475254842272 and parameters: {'max_depth': 6, 'learning_rate': 0.16063402284814018, 'n_estimators': 265, 'subsample': 0.9458947536102664, 'colsample_bytree': 0.5257106767244427, 'gamma': 0.7644527283724689, 'reg_alpha': 1.6054335759236544, 'reg_lambda': 3.7604787880215635}. Best is trial 25 with value: 0.9553147774807353.\n",
      "[I 2024-10-05 09:18:20,394] Trial 64 finished with value: 0.9552488500294274 and parameters: {'max_depth': 7, 'learning_rate': 0.15204960268529105, 'n_estimators': 262, 'subsample': 0.956083569708076, 'colsample_bytree': 0.5285120261575236, 'gamma': 0.7490540003426754, 'reg_alpha': 1.0706030273350198, 'reg_lambda': 3.6163278993984895}. Best is trial 25 with value: 0.9553147774807353.\n",
      "[I 2024-10-05 09:18:24,300] Trial 65 finished with value: 0.9544852081477588 and parameters: {'max_depth': 7, 'learning_rate': 0.28488443817467723, 'n_estimators': 239, 'subsample': 0.9545323795438566, 'colsample_bytree': 0.521724991662519, 'gamma': 0.7779284453164947, 'reg_alpha': 1.046793828836318, 'reg_lambda': 3.631573692842151}. Best is trial 25 with value: 0.9553147774807353.\n",
      "[I 2024-10-05 09:18:29,123] Trial 66 finished with value: 0.9549522497350889 and parameters: {'max_depth': 7, 'learning_rate': 0.16115339613673468, 'n_estimators': 264, 'subsample': 0.9487193351619388, 'colsample_bytree': 0.5757395240988499, 'gamma': 0.5314102178368383, 'reg_alpha': 1.6895768748007431, 'reg_lambda': 3.803293770024809}. Best is trial 25 with value: 0.9553147774807353.\n",
      "[I 2024-10-05 09:18:34,230] Trial 67 finished with value: 0.9553772564760413 and parameters: {'max_depth': 8, 'learning_rate': 0.1408585010551238, 'n_estimators': 264, 'subsample': 0.9428250069381221, 'colsample_bytree': 0.5696337523674772, 'gamma': 0.5982825817973434, 'reg_alpha': 1.6470930279069007, 'reg_lambda': 3.8348935532546147}. Best is trial 67 with value: 0.9553772564760413.\n",
      "[I 2024-10-05 09:18:38,260] Trial 68 finished with value: 0.9551990305850463 and parameters: {'max_depth': 8, 'learning_rate': 0.1589826895614756, 'n_estimators': 226, 'subsample': 0.9844461436734152, 'colsample_bytree': 0.5713668955667464, 'gamma': 0.6321678523531403, 'reg_alpha': 1.6407615943563416, 'reg_lambda': 3.8093189471303024}. Best is trial 67 with value: 0.9553772564760413.\n",
      "[I 2024-10-05 09:18:43,277] Trial 69 finished with value: 0.954786954060269 and parameters: {'max_depth': 8, 'learning_rate': 0.1604494631184564, 'n_estimators': 223, 'subsample': 0.9237278715143189, 'colsample_bytree': 0.5757367529383309, 'gamma': 0.5863064147648793, 'reg_alpha': 0.4993777271203801, 'reg_lambda': 3.7588966057045257}. Best is trial 67 with value: 0.9553772564760413.\n",
      "[I 2024-10-05 09:18:49,265] Trial 70 finished with value: 0.9537843351124351 and parameters: {'max_depth': 9, 'learning_rate': 0.2117391285597558, 'n_estimators': 233, 'subsample': 0.9861348830448263, 'colsample_bytree': 0.6157275081992777, 'gamma': 0.37831823192446296, 'reg_alpha': 1.1927215597039866, 'reg_lambda': 3.2883736450075274}. Best is trial 67 with value: 0.9553772564760413.\n",
      "[I 2024-10-05 09:18:53,724] Trial 71 finished with value: 0.9551016443182473 and parameters: {'max_depth': 8, 'learning_rate': 0.15800407144058637, 'n_estimators': 204, 'subsample': 0.9431806127179321, 'colsample_bytree': 0.5757219641241523, 'gamma': 0.6463785893444136, 'reg_alpha': 0.5493566635940496, 'reg_lambda': 3.7975563650238824}. Best is trial 67 with value: 0.9553772564760413.\n",
      "[I 2024-10-05 09:18:58,104] Trial 72 finished with value: 0.954690663112468 and parameters: {'max_depth': 8, 'learning_rate': 0.1800416338870517, 'n_estimators': 202, 'subsample': 0.9499238764030927, 'colsample_bytree': 0.5632337605881959, 'gamma': 0.5425728642224424, 'reg_alpha': 0.5830413311229532, 'reg_lambda': 3.86505337972359}. Best is trial 67 with value: 0.9553772564760413.\n",
      "[I 2024-10-05 09:19:01,998] Trial 73 finished with value: 0.9522883606171437 and parameters: {'max_depth': 9, 'learning_rate': 0.4222303220572393, 'n_estimators': 246, 'subsample': 0.9015422212129514, 'colsample_bytree': 0.5902354808455571, 'gamma': 0.9325348715495814, 'reg_alpha': 1.6840767828311904, 'reg_lambda': 3.078458009823012}. Best is trial 67 with value: 0.9553772564760413.\n",
      "[I 2024-10-05 09:19:06,024] Trial 74 finished with value: 0.9546650249648184 and parameters: {'max_depth': 8, 'learning_rate': 0.14001283209070234, 'n_estimators': 213, 'subsample': 0.9427140945322828, 'colsample_bytree': 0.5497382867774139, 'gamma': 1.2529908662488927, 'reg_alpha': 0.24987000775989554, 'reg_lambda': 3.475598651984177}. Best is trial 67 with value: 0.9553772564760413.\n",
      "[I 2024-10-05 09:19:09,418] Trial 75 finished with value: 0.9534839011923582 and parameters: {'max_depth': 9, 'learning_rate': 0.2709935621868379, 'n_estimators': 180, 'subsample': 0.9745147996506867, 'colsample_bytree': 0.5801132155537095, 'gamma': 0.6872018353456172, 'reg_alpha': 0.7810751121623236, 'reg_lambda': 4.005314676360516}. Best is trial 67 with value: 0.9553772564760413.\n",
      "[I 2024-10-05 09:19:13,928] Trial 76 finished with value: 0.9506748355643733 and parameters: {'max_depth': 7, 'learning_rate': 0.35440981988630993, 'n_estimators': 186, 'subsample': 0.9274594582293375, 'colsample_bytree': 0.6119174024743086, 'gamma': 0.34075524754348674, 'reg_alpha': 1.3005691665352996, 'reg_lambda': 3.660558379657254}. Best is trial 67 with value: 0.9553772564760413.\n",
      "[I 2024-10-05 09:19:19,171] Trial 77 finished with value: 0.951264850705319 and parameters: {'max_depth': 8, 'learning_rate': 0.1454562252855322, 'n_estimators': 255, 'subsample': 0.9789260197457893, 'colsample_bytree': 0.5410130383812248, 'gamma': 4.453374325082189, 'reg_alpha': 1.047234319221317, 'reg_lambda': 2.703625745201477}. Best is trial 67 with value: 0.9553772564760413.\n",
      "[I 2024-10-05 09:19:23,268] Trial 78 finished with value: 0.954527235426152 and parameters: {'max_depth': 8, 'learning_rate': 0.20710001501486, 'n_estimators': 264, 'subsample': 0.9955649207898617, 'colsample_bytree': 0.6395109641372606, 'gamma': 0.6689224466208443, 'reg_alpha': 1.6153570433184967, 'reg_lambda': 3.439088170305155}. Best is trial 67 with value: 0.9553772564760413.\n",
      "[I 2024-10-05 09:19:26,734] Trial 79 finished with value: 0.9542093430022234 and parameters: {'max_depth': 8, 'learning_rate': 0.24151873283140404, 'n_estimators': 226, 'subsample': 0.940051126615051, 'colsample_bytree': 0.5309427030447862, 'gamma': 1.4736209404692457, 'reg_alpha': 1.8176882290714274, 'reg_lambda': 4.2118978520022194}. Best is trial 67 with value: 0.9553772564760413.\n",
      "[I 2024-10-05 09:19:30,746] Trial 80 finished with value: 0.9545299405044932 and parameters: {'max_depth': 7, 'learning_rate': 0.1729097855573383, 'n_estimators': 237, 'subsample': 0.9506022727497637, 'colsample_bytree': 0.5582623762291334, 'gamma': 0.901629424733688, 'reg_alpha': 1.4578889640390995, 'reg_lambda': 3.9648063121457398}. Best is trial 67 with value: 0.9553772564760413.\n",
      "[I 2024-10-05 09:19:35,989] Trial 81 finished with value: 0.9544375110249401 and parameters: {'max_depth': 8, 'learning_rate': 0.14079005629771923, 'n_estimators': 225, 'subsample': 0.9222040976822439, 'colsample_bytree': 0.5733807135376503, 'gamma': 0.5288042790149157, 'reg_alpha': 0.9398498005173805, 'reg_lambda': 3.7575396038198705}. Best is trial 67 with value: 0.9553772564760413.\n",
      "[I 2024-10-05 09:19:42,555] Trial 82 finished with value: 0.9392942474922302 and parameters: {'max_depth': 9, 'learning_rate': 0.005692467675839183, 'n_estimators': 199, 'subsample': 0.909513318015278, 'colsample_bytree': 0.608799583836862, 'gamma': 0.6015929189038848, 'reg_alpha': 0.34907735261891293, 'reg_lambda': 3.0105306163132752}. Best is trial 67 with value: 0.9553772564760413.\n",
      "[I 2024-10-05 09:19:50,776] Trial 83 finished with value: 0.9518795561084573 and parameters: {'max_depth': 8, 'learning_rate': 0.16776002999529321, 'n_estimators': 215, 'subsample': 0.8971993759471832, 'colsample_bytree': 0.5917887228952925, 'gamma': 0.12040240850498735, 'reg_alpha': 0.4651327300328103, 'reg_lambda': 3.782559231495387}. Best is trial 67 with value: 0.9553772564760413.\n",
      "[I 2024-10-05 09:19:56,486] Trial 84 finished with value: 0.9477473549793725 and parameters: {'max_depth': 8, 'learning_rate': 0.39546645192418245, 'n_estimators': 243, 'subsample': 0.9186827057574433, 'colsample_bytree': 0.5152271454075189, 'gamma': 0.3022545817866203, 'reg_alpha': 0.018395636254103287, 'reg_lambda': 4.073311041098404}. Best is trial 67 with value: 0.9553772564760413.\n",
      "[I 2024-10-05 09:19:59,952] Trial 85 finished with value: 0.9534454631092864 and parameters: {'max_depth': 9, 'learning_rate': 0.3259713532158981, 'n_estimators': 221, 'subsample': 0.9696110222414472, 'colsample_bytree': 0.671484396283025, 'gamma': 0.9959411175172184, 'reg_alpha': 0.6967454885462752, 'reg_lambda': 3.5213010321536706}. Best is trial 67 with value: 0.9553772564760413.\n",
      "[I 2024-10-05 09:20:05,522] Trial 86 finished with value: 0.9548620794873498 and parameters: {'max_depth': 7, 'learning_rate': 0.08305906454494429, 'n_estimators': 206, 'subsample': 0.8812578844022205, 'colsample_bytree': 0.6250107806524657, 'gamma': 0.49168608892919463, 'reg_alpha': 1.9220163658828995, 'reg_lambda': 3.2024348516169656}. Best is trial 67 with value: 0.9553772564760413.\n",
      "[I 2024-10-05 09:20:11,026] Trial 87 finished with value: 0.9551062734653847 and parameters: {'max_depth': 7, 'learning_rate': 0.10470740238080051, 'n_estimators': 207, 'subsample': 0.8696600875341092, 'colsample_bytree': 0.6248315217648868, 'gamma': 0.4787320387808387, 'reg_alpha': 1.9397606216278473, 'reg_lambda': 3.2192555670423353}. Best is trial 67 with value: 0.9553772564760413.\n",
      "[I 2024-10-05 09:20:16,884] Trial 88 finished with value: 0.9549010042480063 and parameters: {'max_depth': 7, 'learning_rate': 0.07746823139445315, 'n_estimators': 209, 'subsample': 0.8793023059246703, 'colsample_bytree': 0.7229931462829129, 'gamma': 0.4115320082453957, 'reg_alpha': 1.8959740781034118, 'reg_lambda': 3.324466453472357}. Best is trial 67 with value: 0.9553772564760413.\n",
      "[I 2024-10-05 09:20:23,834] Trial 89 finished with value: 0.954704456964215 and parameters: {'max_depth': 7, 'learning_rate': 0.09947119405881687, 'n_estimators': 188, 'subsample': 0.8534283856861105, 'colsample_bytree': 0.7094271934754868, 'gamma': 0.27430031219501605, 'reg_alpha': 2.0937160677625144, 'reg_lambda': 2.801983534604936}. Best is trial 67 with value: 0.9553772564760413.\n",
      "[I 2024-10-05 09:20:28,906] Trial 90 finished with value: 0.9542573970442823 and parameters: {'max_depth': 7, 'learning_rate': 0.05829324982102768, 'n_estimators': 179, 'subsample': 0.8856631857791916, 'colsample_bytree': 0.5834374669036174, 'gamma': 0.09575201372803362, 'reg_alpha': 1.5588943622531197, 'reg_lambda': 2.45503902002153}. Best is trial 67 with value: 0.9553772564760413.\n",
      "[I 2024-10-05 09:20:34,672] Trial 91 finished with value: 0.9549482385437186 and parameters: {'max_depth': 7, 'learning_rate': 0.07758403087582151, 'n_estimators': 207, 'subsample': 0.8830888353467757, 'colsample_bytree': 0.6917658287875927, 'gamma': 0.4742859049862583, 'reg_alpha': 1.9020288847038629, 'reg_lambda': 3.2796559412448167}. Best is trial 67 with value: 0.9553772564760413.\n",
      "[I 2024-10-05 09:20:39,413] Trial 92 finished with value: 0.9541016154634681 and parameters: {'max_depth': 7, 'learning_rate': 0.07398436762781527, 'n_estimators': 166, 'subsample': 0.8689150104018899, 'colsample_bytree': 0.763947693286875, 'gamma': 0.3496115439716595, 'reg_alpha': 1.867510145652481, 'reg_lambda': 3.355546288870331}. Best is trial 67 with value: 0.9553772564760413.\n",
      "[I 2024-10-05 09:20:44,674] Trial 93 finished with value: 0.9546196192782007 and parameters: {'max_depth': 7, 'learning_rate': 0.12190088716967289, 'n_estimators': 209, 'subsample': 0.8733823403674177, 'colsample_bytree': 0.6877800183458818, 'gamma': 0.6940436309865159, 'reg_alpha': 1.3676607460739811, 'reg_lambda': 3.156914025248509}. Best is trial 67 with value: 0.9553772564760413.\n",
      "[I 2024-10-05 09:20:49,732] Trial 94 finished with value: 0.955141087216559 and parameters: {'max_depth': 7, 'learning_rate': 0.1093955163868179, 'n_estimators': 194, 'subsample': 0.9353019650826692, 'colsample_bytree': 0.7197236576129045, 'gamma': 0.43431542920751154, 'reg_alpha': 1.740338315131202, 'reg_lambda': 3.668964430293841}. Best is trial 67 with value: 0.9553772564760413.\n",
      "[I 2024-10-05 09:20:58,223] Trial 95 finished with value: 0.9529234925471789 and parameters: {'max_depth': 10, 'learning_rate': 0.10536895362999063, 'n_estimators': 195, 'subsample': 0.9358734798602119, 'colsample_bytree': 0.7324513593062256, 'gamma': 0.1994563046325944, 'reg_alpha': 1.7702522764254767, 'reg_lambda': 3.8971755287268883}. Best is trial 67 with value: 0.9553772564760413.\n",
      "[I 2024-10-05 09:21:02,820] Trial 96 finished with value: 0.9546764213372736 and parameters: {'max_depth': 8, 'learning_rate': 0.12890188396181365, 'n_estimators': 158, 'subsample': 0.8968455151387945, 'colsample_bytree': 0.6522870225658689, 'gamma': 0.4755465111998575, 'reg_alpha': 2.014482445250297, 'reg_lambda': 3.6692994197034308}. Best is trial 67 with value: 0.9553772564760413.\n",
      "[I 2024-10-05 09:21:07,911] Trial 97 finished with value: 0.9548468177921523 and parameters: {'max_depth': 7, 'learning_rate': 0.15070753103991763, 'n_estimators': 185, 'subsample': 0.9840098621831787, 'colsample_bytree': 0.6868160736791, 'gamma': 0.06573664849271577, 'reg_alpha': 2.2003265843418145, 'reg_lambda': 3.5492004472333845}. Best is trial 67 with value: 0.9553772564760413.\n",
      "[I 2024-10-05 09:21:11,306] Trial 98 finished with value: 0.954495582972886 and parameters: {'max_depth': 8, 'learning_rate': 0.20968089195566758, 'n_estimators': 171, 'subsample': 0.9360853380746148, 'colsample_bytree': 0.6520137418959345, 'gamma': 0.8374291060920602, 'reg_alpha': 2.400485858044659, 'reg_lambda': 2.867011612792815}. Best is trial 67 with value: 0.9553772564760413.\n",
      "[I 2024-10-05 09:21:15,766] Trial 99 finished with value: 0.9550118016100646 and parameters: {'max_depth': 7, 'learning_rate': 0.18617576933083457, 'n_estimators': 266, 'subsample': 0.9675732738505265, 'colsample_bytree': 0.5030705893559446, 'gamma': 0.6802254465833962, 'reg_alpha': 1.4981705381143802, 'reg_lambda': 3.700482395141636}. Best is trial 67 with value: 0.9553772564760413.\n"
     ]
    },
    {
     "name": "stdout",
     "output_type": "stream",
     "text": [
      "CPU times: user 29min 42s, sys: 9.24 s, total: 29min 52s\n",
      "Wall time: 8min 15s\n"
     ]
    }
   ],
   "source": [
    "%%time\n",
    "import optuna\n",
    "\n",
    "def objective(trial):\n",
    "    param = {\n",
    "    'max_depth': trial.suggest_int('max_depth', 2, 10),\n",
    "    'learning_rate': trial.suggest_float('learning_rate', 1e-3, 1.0, log=True),\n",
    "    'n_estimators': trial.suggest_int('n_estimators', 50, 300),\n",
    "    'subsample': trial.suggest_float('subsample', 0.5, 1.0),\n",
    "    'colsample_bytree': trial.suggest_float('colsample_bytree', 0.5, 1.0),\n",
    "    'gamma': trial.suggest_float('gamma', 0, 5),\n",
    "    'reg_alpha': trial.suggest_float('reg_alpha', 0, 5),\n",
    "    'reg_lambda': trial.suggest_float('reg_lambda', 0, 5)}\n",
    "    \n",
    "    pipeline = make_pipeline(ct,XGBClassifier(**param))\n",
    "    \n",
    "    scores = cross_val_score(pipeline, X_train, y_train, cv=5, scoring='roc_auc')\n",
    "    return scores.mean()\n",
    "    \n",
    "    \n",
    "study = optuna.create_study(direction='maximize')\n",
    "study.optimize(objective, n_trials=100)\n"
   ]
  },
  {
   "cell_type": "code",
   "execution_count": 16,
   "id": "6f558d8b",
   "metadata": {
    "execution": {
     "iopub.execute_input": "2024-10-05T09:21:15.828029Z",
     "iopub.status.busy": "2024-10-05T09:21:15.827554Z",
     "iopub.status.idle": "2024-10-05T09:21:17.108363Z",
     "shell.execute_reply": "2024-10-05T09:21:17.105140Z"
    },
    "papermill": {
     "duration": 1.307734,
     "end_time": "2024-10-05T09:21:17.111226",
     "exception": false,
     "start_time": "2024-10-05T09:21:15.803492",
     "status": "completed"
    },
    "tags": []
   },
   "outputs": [
    {
     "name": "stdout",
     "output_type": "stream",
     "text": [
      "ROC AUC Score for opt_XGBC: 0.9572\n"
     ]
    }
   ],
   "source": [
    "best_params = study.best_params\n",
    "\n",
    "opt_XGBC = XGBClassifier(**best_params)\n",
    "\n",
    "pipe_4 = make_pipeline(ct, opt_XGBC)\n",
    "\n",
    "pipe_4.fit(X_train, y_train)\n",
    "\n",
    "pred_proba = pipe_4.predict_proba(X_valid)[:, 1]\n",
    "\n",
    "roc_auc = roc_auc_score(y_valid, pred_proba)\n",
    "print(\"ROC AUC Score for opt_XGBC: {:.4f}\".format(roc_auc))"
   ]
  },
  {
   "cell_type": "markdown",
   "id": "4bbcbe8d",
   "metadata": {
    "execution": {
     "iopub.execute_input": "2024-10-05T08:29:26.835082Z",
     "iopub.status.busy": "2024-10-05T08:29:26.834455Z",
     "iopub.status.idle": "2024-10-05T08:29:38.205681Z",
     "shell.execute_reply": "2024-10-05T08:29:38.204565Z",
     "shell.execute_reply.started": "2024-10-05T08:29:26.835029Z"
    },
    "papermill": {
     "duration": 0.02331,
     "end_time": "2024-10-05T09:21:17.158012",
     "exception": false,
     "start_time": "2024-10-05T09:21:17.134702",
     "status": "completed"
    },
    "tags": []
   },
   "source": [
    "from sklearn.ensemble import VotingClassifier\n",
    "\n",
    "ensemble_model = VotingClassifier(estimators=[\n",
    "('lr', pipe_1), ('rfc', pipe_2), ('xgb', pipe_3), ('opt_xgb',pipe_4)], voting='soft')\n",
    "\n",
    "ensemble_model.fit(X_train, y_train)\n",
    "\n",
    "pred_proba = ensemble_model.predict_proba(X_valid)[:, 1]\n",
    "\n",
    "roc_auc = roc_auc_score(y_valid, pred_proba)\n",
    "print(\"ROC AUC Score for ensemble_model: {:.4f}\".format(roc_auc))"
   ]
  },
  {
   "cell_type": "markdown",
   "id": "c6a33e9a",
   "metadata": {
    "papermill": {
     "duration": 0.022522,
     "end_time": "2024-10-05T09:21:17.203630",
     "exception": false,
     "start_time": "2024-10-05T09:21:17.181108",
     "status": "completed"
    },
    "tags": []
   },
   "source": [
    "## Training on best model"
   ]
  },
  {
   "cell_type": "code",
   "execution_count": 17,
   "id": "83d490e9",
   "metadata": {
    "execution": {
     "iopub.execute_input": "2024-10-05T09:21:17.250941Z",
     "iopub.status.busy": "2024-10-05T09:21:17.250454Z",
     "iopub.status.idle": "2024-10-05T09:21:18.899981Z",
     "shell.execute_reply": "2024-10-05T09:21:18.898658Z"
    },
    "papermill": {
     "duration": 1.6783,
     "end_time": "2024-10-05T09:21:18.904427",
     "exception": false,
     "start_time": "2024-10-05T09:21:17.226127",
     "status": "completed"
    },
    "tags": []
   },
   "outputs": [],
   "source": [
    "pipe_4.fit(X,y)\n",
    "test = test_df.drop(['id'], axis=1)\n",
    "test_pred_proba = pipe_4.predict_proba(test)[:, 1]"
   ]
  },
  {
   "cell_type": "code",
   "execution_count": 18,
   "id": "7ab8a845",
   "metadata": {
    "execution": {
     "iopub.execute_input": "2024-10-05T09:21:18.955230Z",
     "iopub.status.busy": "2024-10-05T09:21:18.954754Z",
     "iopub.status.idle": "2024-10-05T09:21:18.996737Z",
     "shell.execute_reply": "2024-10-05T09:21:18.995547Z"
    },
    "papermill": {
     "duration": 0.070125,
     "end_time": "2024-10-05T09:21:18.999560",
     "exception": false,
     "start_time": "2024-10-05T09:21:18.929435",
     "status": "completed"
    },
    "tags": []
   },
   "outputs": [
    {
     "data": {
      "text/html": [
       "<div>\n",
       "<style scoped>\n",
       "    .dataframe tbody tr th:only-of-type {\n",
       "        vertical-align: middle;\n",
       "    }\n",
       "\n",
       "    .dataframe tbody tr th {\n",
       "        vertical-align: top;\n",
       "    }\n",
       "\n",
       "    .dataframe thead th {\n",
       "        text-align: right;\n",
       "    }\n",
       "</style>\n",
       "<table border=\"1\" class=\"dataframe\">\n",
       "  <thead>\n",
       "    <tr style=\"text-align: right;\">\n",
       "      <th></th>\n",
       "      <th>id</th>\n",
       "      <th>loan_status</th>\n",
       "    </tr>\n",
       "  </thead>\n",
       "  <tbody>\n",
       "    <tr>\n",
       "      <th>0</th>\n",
       "      <td>58645</td>\n",
       "      <td>0.996199</td>\n",
       "    </tr>\n",
       "    <tr>\n",
       "      <th>1</th>\n",
       "      <td>58646</td>\n",
       "      <td>0.015901</td>\n",
       "    </tr>\n",
       "    <tr>\n",
       "      <th>2</th>\n",
       "      <td>58647</td>\n",
       "      <td>0.711420</td>\n",
       "    </tr>\n",
       "    <tr>\n",
       "      <th>3</th>\n",
       "      <td>58648</td>\n",
       "      <td>0.007153</td>\n",
       "    </tr>\n",
       "    <tr>\n",
       "      <th>4</th>\n",
       "      <td>58649</td>\n",
       "      <td>0.050760</td>\n",
       "    </tr>\n",
       "  </tbody>\n",
       "</table>\n",
       "</div>"
      ],
      "text/plain": [
       "      id  loan_status\n",
       "0  58645     0.996199\n",
       "1  58646     0.015901\n",
       "2  58647     0.711420\n",
       "3  58648     0.007153\n",
       "4  58649     0.050760"
      ]
     },
     "execution_count": 18,
     "metadata": {},
     "output_type": "execute_result"
    }
   ],
   "source": [
    "submission = pd.read_csv('/kaggle/input/playground-series-s4e10/sample_submission.csv')\n",
    "submission['loan_status'] = test_pred_proba\n",
    "submission.head(5)"
   ]
  },
  {
   "cell_type": "code",
   "execution_count": 19,
   "id": "1017de7c",
   "metadata": {
    "execution": {
     "iopub.execute_input": "2024-10-05T09:21:19.049651Z",
     "iopub.status.busy": "2024-10-05T09:21:19.049138Z",
     "iopub.status.idle": "2024-10-05T09:21:19.167291Z",
     "shell.execute_reply": "2024-10-05T09:21:19.165915Z"
    },
    "papermill": {
     "duration": 0.146866,
     "end_time": "2024-10-05T09:21:19.170275",
     "exception": false,
     "start_time": "2024-10-05T09:21:19.023409",
     "status": "completed"
    },
    "tags": []
   },
   "outputs": [],
   "source": [
    "submission.to_csv(\"submission.csv\", index=False)"
   ]
  },
  {
   "cell_type": "code",
   "execution_count": null,
   "id": "a10b5dfc",
   "metadata": {
    "papermill": {
     "duration": 0.02304,
     "end_time": "2024-10-05T09:21:19.216533",
     "exception": false,
     "start_time": "2024-10-05T09:21:19.193493",
     "status": "completed"
    },
    "tags": []
   },
   "outputs": [],
   "source": []
  }
 ],
 "metadata": {
  "kaggle": {
   "accelerator": "none",
   "dataSources": [
    {
     "databundleVersionId": 9709193,
     "sourceId": 84894,
     "sourceType": "competition"
    }
   ],
   "dockerImageVersionId": 30786,
   "isGpuEnabled": false,
   "isInternetEnabled": true,
   "language": "python",
   "sourceType": "notebook"
  },
  "kernelspec": {
   "display_name": "Python 3",
   "language": "python",
   "name": "python3"
  },
  "language_info": {
   "codemirror_mode": {
    "name": "ipython",
    "version": 3
   },
   "file_extension": ".py",
   "mimetype": "text/x-python",
   "name": "python",
   "nbconvert_exporter": "python",
   "pygments_lexer": "ipython3",
   "version": "3.10.14"
  },
  "papermill": {
   "default_parameters": {},
   "duration": 796.230943,
   "end_time": "2024-10-05T09:21:19.963846",
   "environment_variables": {},
   "exception": null,
   "input_path": "__notebook__.ipynb",
   "output_path": "__notebook__.ipynb",
   "parameters": {},
   "start_time": "2024-10-05T09:08:03.732903",
   "version": "2.6.0"
  }
 },
 "nbformat": 4,
 "nbformat_minor": 5
}
